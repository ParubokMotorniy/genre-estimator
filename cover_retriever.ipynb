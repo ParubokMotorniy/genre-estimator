{
 "cells": [
  {
   "cell_type": "code",
   "execution_count": null,
   "metadata": {
    "colab": {
     "base_uri": "https://localhost:8080/"
    },
    "id": "yyG2BGVnZDXQ",
    "outputId": "5040dcc7-5861-401c-f0c4-b8341089bee7"
   },
   "outputs": [],
   "source": [
    "!pip install spotipy --upgrade\n",
    "\n",
    "import numpy as np\n",
    "import pandas as pd\n",
    "import os\n",
    "import requests\n",
    "\n",
    "import spotipy\n",
    "from spotipy.oauth2 import SpotifyClientCredentials\n",
    "from difflib import SequenceMatcher"
   ]
  },
  {
   "cell_type": "code",
   "execution_count": null,
   "metadata": {
    "colab": {
     "base_uri": "https://localhost:8080/"
    },
    "id": "R6QDrKT5i9OD",
    "outputId": "b558219c-73cd-4445-e0b4-1125ebda8702"
   },
   "outputs": [],
   "source": [
    "SPOTIFY_CLIENT_ID = 'key'\n",
    "SPOTIFY_CLIENT_SECRET = 'key'\n",
    "\n",
    "auth_manager = SpotifyClientCredentials(SPOTIFY_CLIENT_ID, SPOTIFY_CLIENT_SECRET)\n",
    "request_limit = 2480\n",
    "\n",
    "spotify = spotipy.Spotify(auth_manager=auth_manager)\n",
    "\n",
    "results = spotify.search(q='%20track:repentless%20artist:slayer%20', type='track,album', limit=10)\n",
    "print(results['tracks'])\n",
    "print(results['albums'])\n",
    "\n",
    "# for artist in results[\"artists\"][\"items\"]:\n",
    "#   print(artist)\n",
    "#   print(artist['name'])\n",
    "#   print(artist[\"genres\"])\n",
    "#   print(artist[\"external_urls\"])\n",
    "# # items = results['artists']['items']\n",
    "# # if len(items) > 0:\n",
    "# #     artist = items[0]\n",
    "# #     print(artist['name'], artist['images'][0]['url'])"
   ]
  },
  {
   "cell_type": "code",
   "execution_count": 3,
   "metadata": {
    "id": "VFNTnC_syi2h"
   },
   "outputs": [],
   "source": [
    "all_songs = pd.read_csv('./tcc_ceds_music_full.csv')"
   ]
  },
  {
   "cell_type": "code",
   "execution_count": null,
   "metadata": {},
   "outputs": [],
   "source": [
    "start_idx=0 #pop\n",
    "artist_permissible_similarity = 0.95\n",
    "track_permissible_similarity = 0.85\n",
    "#country = 7042\n",
    "#blues = 12487\n",
    "#jazz = 17091\n",
    "#reggae = 20936\n",
    "#rock = 23434\n",
    "#hip-hop = 27468\n",
    "#28371 - last"
   ]
  },
  {
   "cell_type": "code",
   "execution_count": null,
   "metadata": {
    "colab": {
     "base_uri": "https://localhost:8080/",
     "height": 1000
    },
    "id": "im7g7ZVwNGzN",
    "outputId": "2ebef0f6-3072-4832-9649-03e804f77beb"
   },
   "outputs": [],
   "source": [
    "for idx,(artist,track,year) in enumerate(zip(all_songs[\"artist_name\"][start_idx:],all_songs[\"track_name\"][start_idx:],all_songs[\"release_date\"][start_idx:])):\n",
    "  artist = artist.strip().lower()\n",
    "  track = track.strip().lower()\n",
    "\n",
    "  print(f\"Artist: {artist}; Track: {track}\")\n",
    "  \n",
    "  request_succeeded = False\n",
    "  while not request_succeeded:\n",
    "    try:\n",
    "      search_result = spotify.search(q=f'%20track:{track}%20artist:{artist}%20year:{year-3}-{year+3}%20', type='track', limit=50)\n",
    "      request_succeeded = True\n",
    "    except:\n",
    "      pass\n",
    "\n",
    "  if search_result['tracks']['total'] == 0:\n",
    "    print(\"No matching items found\")\n",
    "    continue\n",
    "\n",
    "  cover_url = ''\n",
    "\n",
    "  #picks the best matching response\n",
    "  max_artist_match_ratio = 0\n",
    "  max_track_match_ratio = 0\n",
    "  artist_diff_epsilon = 0.05\n",
    "\n",
    "  for search_item in search_result['tracks']['items']:\n",
    "    examined_artist_name = search_item['artists'][0]['name'].strip().lower()\n",
    "    examined_track_name = search_item['name'].strip().lower()\n",
    "\n",
    "    print(f\"Examined artist: {examined_artist_name}; Examined track: {examined_track_name}\")\n",
    "    \n",
    "    artist_match_ratio = np.max([SequenceMatcher(None, examined_artist_name, artist).ratio(), SequenceMatcher(None, artist, examined_artist_name).ratio() ])\n",
    "    track_match_ratio = np.max([SequenceMatcher(None, examined_track_name, track).ratio(), SequenceMatcher(None, track, examined_track_name).ratio() ])\n",
    "\n",
    "    update_cover_url = False\n",
    "    if artist_match_ratio > max_artist_match_ratio:\n",
    "      max_artist_match_ratio = artist_match_ratio\n",
    "      update_cover_url = True\n",
    "    \n",
    "    if abs(artist_match_ratio - max_artist_match_ratio) <= artist_diff_epsilon and track_match_ratio > max_track_match_ratio:\n",
    "      max_artist_match_ratio = np.max([artist_match_ratio, max_artist_match_ratio])\n",
    "      max_track_match_ratio = track_match_ratio\n",
    "      update_cover_url = True\n",
    "\n",
    "    if update_cover_url:\n",
    "      album_item = search_item['album']\n",
    "      if len(album_item['images']) > 0:\n",
    "        cover_url = album_item['images'][0]['url']\n",
    "\n",
    "  if cover_url == '':\n",
    "    print(f\"No suitable cover found for idx {idx+start_idx}\")\n",
    "    continue\n",
    "  \n",
    "  print(f\"Eventual URL for idx {idx+start_idx}: {cover_url}\")\n",
    "  print(f\"Best artist match: {max_artist_match_ratio}; Best track match: {max_track_match_ratio}\")\n",
    "  downloaded_cover = requests.get(cover_url)\n",
    "\n",
    "  # Save the image to the specified path\n",
    "  with open(f\"./retrieved_covers/{idx+start_idx}__{artist.replace('/','_')}__{track.replace('/','_')}__.jpeg\", \"wb\") as f:\n",
    "      f.write(downloaded_cover.content)\n",
    "\n",
    "\n",
    "\n",
    "\n",
    "\n"
   ]
  }
 ],
 "metadata": {
  "colab": {
   "provenance": []
  },
  "kaggle": {
   "accelerator": "none",
   "dataSources": [
    {
     "datasetId": 2660706,
     "sourceId": 4558658,
     "sourceType": "datasetVersion"
    }
   ],
   "dockerImageVersionId": 30775,
   "isGpuEnabled": false,
   "isInternetEnabled": false,
   "language": "python",
   "sourceType": "notebook"
  },
  "kernelspec": {
   "display_name": ".venv",
   "language": "python",
   "name": "python3"
  },
  "language_info": {
   "codemirror_mode": {
    "name": "ipython",
    "version": 3
   },
   "file_extension": ".py",
   "mimetype": "text/x-python",
   "name": "python",
   "nbconvert_exporter": "python",
   "pygments_lexer": "ipython3",
   "version": "3.10.12"
  }
 },
 "nbformat": 4,
 "nbformat_minor": 0
}
