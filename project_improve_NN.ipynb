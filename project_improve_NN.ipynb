{
  "cells": [
    {
      "cell_type": "markdown",
      "metadata": {
        "id": "l1OEG5GorVun"
      },
      "source": [
        "**Notes**\n",
        "\n",
        "+ Models are trained to determine semantically similar texts, what is not always the case for songs."
      ]
    },
    {
      "cell_type": "code",
      "execution_count": 1,
      "metadata": {
        "colab": {
          "base_uri": "https://localhost:8080/"
        },
        "id": "1_JSQ2q3IzLi",
        "outputId": "d6ba737e-fce8-4ed8-b770-293b6edb9ddd"
      },
      "outputs": [
        {
          "name": "stdout",
          "output_type": "stream",
          "text": [
            "Requirement already satisfied: torch in ./.venv/lib/python3.10/site-packages (2.4.1)\n",
            "Requirement already satisfied: filelock in ./.venv/lib/python3.10/site-packages (from torch) (3.16.1)\n",
            "Requirement already satisfied: typing-extensions>=4.8.0 in ./.venv/lib/python3.10/site-packages (from torch) (4.12.2)\n",
            "Requirement already satisfied: sympy in ./.venv/lib/python3.10/site-packages (from torch) (1.13.3)\n",
            "Requirement already satisfied: networkx in ./.venv/lib/python3.10/site-packages (from torch) (3.4.1)\n",
            "Requirement already satisfied: jinja2 in ./.venv/lib/python3.10/site-packages (from torch) (3.1.4)\n",
            "Requirement already satisfied: fsspec in ./.venv/lib/python3.10/site-packages (from torch) (2024.6.1)\n",
            "Requirement already satisfied: nvidia-cuda-nvrtc-cu12==12.1.105 in ./.venv/lib/python3.10/site-packages (from torch) (12.1.105)\n",
            "Requirement already satisfied: nvidia-cuda-runtime-cu12==12.1.105 in ./.venv/lib/python3.10/site-packages (from torch) (12.1.105)\n",
            "Requirement already satisfied: nvidia-cuda-cupti-cu12==12.1.105 in ./.venv/lib/python3.10/site-packages (from torch) (12.1.105)\n",
            "Requirement already satisfied: nvidia-cudnn-cu12==9.1.0.70 in ./.venv/lib/python3.10/site-packages (from torch) (9.1.0.70)\n",
            "Requirement already satisfied: nvidia-cublas-cu12==12.1.3.1 in ./.venv/lib/python3.10/site-packages (from torch) (12.1.3.1)\n",
            "Requirement already satisfied: nvidia-cufft-cu12==11.0.2.54 in ./.venv/lib/python3.10/site-packages (from torch) (11.0.2.54)\n",
            "Requirement already satisfied: nvidia-curand-cu12==10.3.2.106 in ./.venv/lib/python3.10/site-packages (from torch) (10.3.2.106)\n",
            "Requirement already satisfied: nvidia-cusolver-cu12==11.4.5.107 in ./.venv/lib/python3.10/site-packages (from torch) (11.4.5.107)\n",
            "Requirement already satisfied: nvidia-cusparse-cu12==12.1.0.106 in ./.venv/lib/python3.10/site-packages (from torch) (12.1.0.106)\n",
            "Requirement already satisfied: nvidia-nccl-cu12==2.20.5 in ./.venv/lib/python3.10/site-packages (from torch) (2.20.5)\n",
            "Requirement already satisfied: nvidia-nvtx-cu12==12.1.105 in ./.venv/lib/python3.10/site-packages (from torch) (12.1.105)\n",
            "Requirement already satisfied: triton==3.0.0 in ./.venv/lib/python3.10/site-packages (from torch) (3.0.0)\n",
            "Requirement already satisfied: nvidia-nvjitlink-cu12 in ./.venv/lib/python3.10/site-packages (from nvidia-cusolver-cu12==11.4.5.107->torch) (12.6.77)\n",
            "Requirement already satisfied: MarkupSafe>=2.0 in ./.venv/lib/python3.10/site-packages (from jinja2->torch) (3.0.1)\n",
            "Requirement already satisfied: mpmath<1.4,>=1.1.0 in ./.venv/lib/python3.10/site-packages (from sympy->torch) (1.3.0)\n",
            "Note: you may need to restart the kernel to use updated packages.\n",
            "Requirement already satisfied: transformers in ./.venv/lib/python3.10/site-packages (4.45.2)\n",
            "Requirement already satisfied: filelock in ./.venv/lib/python3.10/site-packages (from transformers) (3.16.1)\n",
            "Requirement already satisfied: huggingface-hub<1.0,>=0.23.2 in ./.venv/lib/python3.10/site-packages (from transformers) (0.25.2)\n",
            "Requirement already satisfied: numpy>=1.17 in ./.venv/lib/python3.10/site-packages (from transformers) (1.26.4)\n",
            "Requirement already satisfied: packaging>=20.0 in ./.venv/lib/python3.10/site-packages (from transformers) (24.1)\n",
            "Requirement already satisfied: pyyaml>=5.1 in ./.venv/lib/python3.10/site-packages (from transformers) (6.0.2)\n",
            "Requirement already satisfied: regex!=2019.12.17 in ./.venv/lib/python3.10/site-packages (from transformers) (2024.9.11)\n",
            "Requirement already satisfied: requests in ./.venv/lib/python3.10/site-packages (from transformers) (2.32.3)\n",
            "Requirement already satisfied: safetensors>=0.4.1 in ./.venv/lib/python3.10/site-packages (from transformers) (0.4.5)\n",
            "Requirement already satisfied: tokenizers<0.21,>=0.20 in ./.venv/lib/python3.10/site-packages (from transformers) (0.20.1)\n",
            "Requirement already satisfied: tqdm>=4.27 in ./.venv/lib/python3.10/site-packages (from transformers) (4.66.5)\n",
            "Requirement already satisfied: fsspec>=2023.5.0 in ./.venv/lib/python3.10/site-packages (from huggingface-hub<1.0,>=0.23.2->transformers) (2024.6.1)\n",
            "Requirement already satisfied: typing-extensions>=3.7.4.3 in ./.venv/lib/python3.10/site-packages (from huggingface-hub<1.0,>=0.23.2->transformers) (4.12.2)\n",
            "Requirement already satisfied: charset-normalizer<4,>=2 in ./.venv/lib/python3.10/site-packages (from requests->transformers) (3.4.0)\n",
            "Requirement already satisfied: idna<4,>=2.5 in ./.venv/lib/python3.10/site-packages (from requests->transformers) (3.10)\n",
            "Requirement already satisfied: urllib3<3,>=1.21.1 in ./.venv/lib/python3.10/site-packages (from requests->transformers) (2.2.3)\n",
            "Requirement already satisfied: certifi>=2017.4.17 in ./.venv/lib/python3.10/site-packages (from requests->transformers) (2024.8.30)\n",
            "Note: you may need to restart the kernel to use updated packages.\n",
            "Requirement already satisfied: accelerate in ./.venv/lib/python3.10/site-packages (1.0.1)\n",
            "Requirement already satisfied: numpy<3.0.0,>=1.17 in ./.venv/lib/python3.10/site-packages (from accelerate) (1.26.4)\n",
            "Requirement already satisfied: packaging>=20.0 in ./.venv/lib/python3.10/site-packages (from accelerate) (24.1)\n",
            "Requirement already satisfied: psutil in ./.venv/lib/python3.10/site-packages (from accelerate) (6.0.0)\n",
            "Requirement already satisfied: pyyaml in ./.venv/lib/python3.10/site-packages (from accelerate) (6.0.2)\n",
            "Requirement already satisfied: torch>=1.10.0 in ./.venv/lib/python3.10/site-packages (from accelerate) (2.4.1)\n",
            "Requirement already satisfied: huggingface-hub>=0.21.0 in ./.venv/lib/python3.10/site-packages (from accelerate) (0.25.2)\n",
            "Requirement already satisfied: safetensors>=0.4.3 in ./.venv/lib/python3.10/site-packages (from accelerate) (0.4.5)\n",
            "Requirement already satisfied: filelock in ./.venv/lib/python3.10/site-packages (from huggingface-hub>=0.21.0->accelerate) (3.16.1)\n",
            "Requirement already satisfied: fsspec>=2023.5.0 in ./.venv/lib/python3.10/site-packages (from huggingface-hub>=0.21.0->accelerate) (2024.6.1)\n",
            "Requirement already satisfied: requests in ./.venv/lib/python3.10/site-packages (from huggingface-hub>=0.21.0->accelerate) (2.32.3)\n",
            "Requirement already satisfied: tqdm>=4.42.1 in ./.venv/lib/python3.10/site-packages (from huggingface-hub>=0.21.0->accelerate) (4.66.5)\n",
            "Requirement already satisfied: typing-extensions>=3.7.4.3 in ./.venv/lib/python3.10/site-packages (from huggingface-hub>=0.21.0->accelerate) (4.12.2)\n",
            "Requirement already satisfied: sympy in ./.venv/lib/python3.10/site-packages (from torch>=1.10.0->accelerate) (1.13.3)\n",
            "Requirement already satisfied: networkx in ./.venv/lib/python3.10/site-packages (from torch>=1.10.0->accelerate) (3.4.1)\n",
            "Requirement already satisfied: jinja2 in ./.venv/lib/python3.10/site-packages (from torch>=1.10.0->accelerate) (3.1.4)\n",
            "Requirement already satisfied: nvidia-cuda-nvrtc-cu12==12.1.105 in ./.venv/lib/python3.10/site-packages (from torch>=1.10.0->accelerate) (12.1.105)\n",
            "Requirement already satisfied: nvidia-cuda-runtime-cu12==12.1.105 in ./.venv/lib/python3.10/site-packages (from torch>=1.10.0->accelerate) (12.1.105)\n",
            "Requirement already satisfied: nvidia-cuda-cupti-cu12==12.1.105 in ./.venv/lib/python3.10/site-packages (from torch>=1.10.0->accelerate) (12.1.105)\n",
            "Requirement already satisfied: nvidia-cudnn-cu12==9.1.0.70 in ./.venv/lib/python3.10/site-packages (from torch>=1.10.0->accelerate) (9.1.0.70)\n",
            "Requirement already satisfied: nvidia-cublas-cu12==12.1.3.1 in ./.venv/lib/python3.10/site-packages (from torch>=1.10.0->accelerate) (12.1.3.1)\n",
            "Requirement already satisfied: nvidia-cufft-cu12==11.0.2.54 in ./.venv/lib/python3.10/site-packages (from torch>=1.10.0->accelerate) (11.0.2.54)\n",
            "Requirement already satisfied: nvidia-curand-cu12==10.3.2.106 in ./.venv/lib/python3.10/site-packages (from torch>=1.10.0->accelerate) (10.3.2.106)\n",
            "Requirement already satisfied: nvidia-cusolver-cu12==11.4.5.107 in ./.venv/lib/python3.10/site-packages (from torch>=1.10.0->accelerate) (11.4.5.107)\n",
            "Requirement already satisfied: nvidia-cusparse-cu12==12.1.0.106 in ./.venv/lib/python3.10/site-packages (from torch>=1.10.0->accelerate) (12.1.0.106)\n",
            "Requirement already satisfied: nvidia-nccl-cu12==2.20.5 in ./.venv/lib/python3.10/site-packages (from torch>=1.10.0->accelerate) (2.20.5)\n",
            "Requirement already satisfied: nvidia-nvtx-cu12==12.1.105 in ./.venv/lib/python3.10/site-packages (from torch>=1.10.0->accelerate) (12.1.105)\n",
            "Requirement already satisfied: triton==3.0.0 in ./.venv/lib/python3.10/site-packages (from torch>=1.10.0->accelerate) (3.0.0)\n",
            "Requirement already satisfied: nvidia-nvjitlink-cu12 in ./.venv/lib/python3.10/site-packages (from nvidia-cusolver-cu12==11.4.5.107->torch>=1.10.0->accelerate) (12.6.77)\n",
            "Requirement already satisfied: MarkupSafe>=2.0 in ./.venv/lib/python3.10/site-packages (from jinja2->torch>=1.10.0->accelerate) (3.0.1)\n",
            "Requirement already satisfied: charset-normalizer<4,>=2 in ./.venv/lib/python3.10/site-packages (from requests->huggingface-hub>=0.21.0->accelerate) (3.4.0)\n",
            "Requirement already satisfied: idna<4,>=2.5 in ./.venv/lib/python3.10/site-packages (from requests->huggingface-hub>=0.21.0->accelerate) (3.10)\n",
            "Requirement already satisfied: urllib3<3,>=1.21.1 in ./.venv/lib/python3.10/site-packages (from requests->huggingface-hub>=0.21.0->accelerate) (2.2.3)\n",
            "Requirement already satisfied: certifi>=2017.4.17 in ./.venv/lib/python3.10/site-packages (from requests->huggingface-hub>=0.21.0->accelerate) (2024.8.30)\n",
            "Requirement already satisfied: mpmath<1.4,>=1.1.0 in ./.venv/lib/python3.10/site-packages (from sympy->torch>=1.10.0->accelerate) (1.3.0)\n",
            "Note: you may need to restart the kernel to use updated packages.\n",
            "Requirement already satisfied: sentence-transformers in ./.venv/lib/python3.10/site-packages (3.2.0)\n",
            "Requirement already satisfied: transformers<5.0.0,>=4.41.0 in ./.venv/lib/python3.10/site-packages (from sentence-transformers) (4.45.2)\n",
            "Requirement already satisfied: tqdm in ./.venv/lib/python3.10/site-packages (from sentence-transformers) (4.66.5)\n",
            "Requirement already satisfied: torch>=1.11.0 in ./.venv/lib/python3.10/site-packages (from sentence-transformers) (2.4.1)\n",
            "Requirement already satisfied: scikit-learn in ./.venv/lib/python3.10/site-packages (from sentence-transformers) (1.5.2)\n",
            "Requirement already satisfied: scipy in ./.venv/lib/python3.10/site-packages (from sentence-transformers) (1.14.1)\n",
            "Requirement already satisfied: huggingface-hub>=0.20.0 in ./.venv/lib/python3.10/site-packages (from sentence-transformers) (0.25.2)\n",
            "Requirement already satisfied: Pillow in ./.venv/lib/python3.10/site-packages (from sentence-transformers) (10.4.0)\n",
            "Requirement already satisfied: filelock in ./.venv/lib/python3.10/site-packages (from huggingface-hub>=0.20.0->sentence-transformers) (3.16.1)\n",
            "Requirement already satisfied: fsspec>=2023.5.0 in ./.venv/lib/python3.10/site-packages (from huggingface-hub>=0.20.0->sentence-transformers) (2024.6.1)\n",
            "Requirement already satisfied: packaging>=20.9 in ./.venv/lib/python3.10/site-packages (from huggingface-hub>=0.20.0->sentence-transformers) (24.1)\n",
            "Requirement already satisfied: pyyaml>=5.1 in ./.venv/lib/python3.10/site-packages (from huggingface-hub>=0.20.0->sentence-transformers) (6.0.2)\n",
            "Requirement already satisfied: requests in ./.venv/lib/python3.10/site-packages (from huggingface-hub>=0.20.0->sentence-transformers) (2.32.3)\n",
            "Requirement already satisfied: typing-extensions>=3.7.4.3 in ./.venv/lib/python3.10/site-packages (from huggingface-hub>=0.20.0->sentence-transformers) (4.12.2)\n",
            "Requirement already satisfied: sympy in ./.venv/lib/python3.10/site-packages (from torch>=1.11.0->sentence-transformers) (1.13.3)\n",
            "Requirement already satisfied: networkx in ./.venv/lib/python3.10/site-packages (from torch>=1.11.0->sentence-transformers) (3.4.1)\n",
            "Requirement already satisfied: jinja2 in ./.venv/lib/python3.10/site-packages (from torch>=1.11.0->sentence-transformers) (3.1.4)\n",
            "Requirement already satisfied: nvidia-cuda-nvrtc-cu12==12.1.105 in ./.venv/lib/python3.10/site-packages (from torch>=1.11.0->sentence-transformers) (12.1.105)\n",
            "Requirement already satisfied: nvidia-cuda-runtime-cu12==12.1.105 in ./.venv/lib/python3.10/site-packages (from torch>=1.11.0->sentence-transformers) (12.1.105)\n",
            "Requirement already satisfied: nvidia-cuda-cupti-cu12==12.1.105 in ./.venv/lib/python3.10/site-packages (from torch>=1.11.0->sentence-transformers) (12.1.105)\n",
            "Requirement already satisfied: nvidia-cudnn-cu12==9.1.0.70 in ./.venv/lib/python3.10/site-packages (from torch>=1.11.0->sentence-transformers) (9.1.0.70)\n",
            "Requirement already satisfied: nvidia-cublas-cu12==12.1.3.1 in ./.venv/lib/python3.10/site-packages (from torch>=1.11.0->sentence-transformers) (12.1.3.1)\n",
            "Requirement already satisfied: nvidia-cufft-cu12==11.0.2.54 in ./.venv/lib/python3.10/site-packages (from torch>=1.11.0->sentence-transformers) (11.0.2.54)\n",
            "Requirement already satisfied: nvidia-curand-cu12==10.3.2.106 in ./.venv/lib/python3.10/site-packages (from torch>=1.11.0->sentence-transformers) (10.3.2.106)\n",
            "Requirement already satisfied: nvidia-cusolver-cu12==11.4.5.107 in ./.venv/lib/python3.10/site-packages (from torch>=1.11.0->sentence-transformers) (11.4.5.107)\n",
            "Requirement already satisfied: nvidia-cusparse-cu12==12.1.0.106 in ./.venv/lib/python3.10/site-packages (from torch>=1.11.0->sentence-transformers) (12.1.0.106)\n",
            "Requirement already satisfied: nvidia-nccl-cu12==2.20.5 in ./.venv/lib/python3.10/site-packages (from torch>=1.11.0->sentence-transformers) (2.20.5)\n",
            "Requirement already satisfied: nvidia-nvtx-cu12==12.1.105 in ./.venv/lib/python3.10/site-packages (from torch>=1.11.0->sentence-transformers) (12.1.105)\n",
            "Requirement already satisfied: triton==3.0.0 in ./.venv/lib/python3.10/site-packages (from torch>=1.11.0->sentence-transformers) (3.0.0)\n",
            "Requirement already satisfied: nvidia-nvjitlink-cu12 in ./.venv/lib/python3.10/site-packages (from nvidia-cusolver-cu12==11.4.5.107->torch>=1.11.0->sentence-transformers) (12.6.77)\n",
            "Requirement already satisfied: numpy>=1.17 in ./.venv/lib/python3.10/site-packages (from transformers<5.0.0,>=4.41.0->sentence-transformers) (1.26.4)\n",
            "Requirement already satisfied: regex!=2019.12.17 in ./.venv/lib/python3.10/site-packages (from transformers<5.0.0,>=4.41.0->sentence-transformers) (2024.9.11)\n",
            "Requirement already satisfied: safetensors>=0.4.1 in ./.venv/lib/python3.10/site-packages (from transformers<5.0.0,>=4.41.0->sentence-transformers) (0.4.5)\n",
            "Requirement already satisfied: tokenizers<0.21,>=0.20 in ./.venv/lib/python3.10/site-packages (from transformers<5.0.0,>=4.41.0->sentence-transformers) (0.20.1)\n",
            "Requirement already satisfied: joblib>=1.2.0 in ./.venv/lib/python3.10/site-packages (from scikit-learn->sentence-transformers) (1.4.2)\n",
            "Requirement already satisfied: threadpoolctl>=3.1.0 in ./.venv/lib/python3.10/site-packages (from scikit-learn->sentence-transformers) (3.5.0)\n",
            "Requirement already satisfied: MarkupSafe>=2.0 in ./.venv/lib/python3.10/site-packages (from jinja2->torch>=1.11.0->sentence-transformers) (3.0.1)\n",
            "Requirement already satisfied: charset-normalizer<4,>=2 in ./.venv/lib/python3.10/site-packages (from requests->huggingface-hub>=0.20.0->sentence-transformers) (3.4.0)\n",
            "Requirement already satisfied: idna<4,>=2.5 in ./.venv/lib/python3.10/site-packages (from requests->huggingface-hub>=0.20.0->sentence-transformers) (3.10)\n",
            "Requirement already satisfied: urllib3<3,>=1.21.1 in ./.venv/lib/python3.10/site-packages (from requests->huggingface-hub>=0.20.0->sentence-transformers) (2.2.3)\n",
            "Requirement already satisfied: certifi>=2017.4.17 in ./.venv/lib/python3.10/site-packages (from requests->huggingface-hub>=0.20.0->sentence-transformers) (2024.8.30)\n",
            "Requirement already satisfied: mpmath<1.4,>=1.1.0 in ./.venv/lib/python3.10/site-packages (from sympy->torch>=1.11.0->sentence-transformers) (1.3.0)\n",
            "Note: you may need to restart the kernel to use updated packages.\n",
            "Requirement already satisfied: langchain in ./.venv/lib/python3.10/site-packages (0.3.3)\n",
            "Requirement already satisfied: PyYAML>=5.3 in ./.venv/lib/python3.10/site-packages (from langchain) (6.0.2)\n",
            "Requirement already satisfied: SQLAlchemy<3,>=1.4 in ./.venv/lib/python3.10/site-packages (from langchain) (2.0.35)\n",
            "Requirement already satisfied: aiohttp<4.0.0,>=3.8.3 in ./.venv/lib/python3.10/site-packages (from langchain) (3.10.10)\n",
            "Requirement already satisfied: async-timeout<5.0.0,>=4.0.0 in ./.venv/lib/python3.10/site-packages (from langchain) (4.0.3)\n",
            "Requirement already satisfied: langchain-core<0.4.0,>=0.3.10 in ./.venv/lib/python3.10/site-packages (from langchain) (0.3.10)\n",
            "Requirement already satisfied: langchain-text-splitters<0.4.0,>=0.3.0 in ./.venv/lib/python3.10/site-packages (from langchain) (0.3.0)\n",
            "Requirement already satisfied: langsmith<0.2.0,>=0.1.17 in ./.venv/lib/python3.10/site-packages (from langchain) (0.1.134)\n",
            "Requirement already satisfied: numpy<2,>=1 in ./.venv/lib/python3.10/site-packages (from langchain) (1.26.4)\n",
            "Requirement already satisfied: pydantic<3.0.0,>=2.7.4 in ./.venv/lib/python3.10/site-packages (from langchain) (2.9.2)\n",
            "Requirement already satisfied: requests<3,>=2 in ./.venv/lib/python3.10/site-packages (from langchain) (2.32.3)\n",
            "Requirement already satisfied: tenacity!=8.4.0,<9.0.0,>=8.1.0 in ./.venv/lib/python3.10/site-packages (from langchain) (8.5.0)\n",
            "Requirement already satisfied: aiohappyeyeballs>=2.3.0 in ./.venv/lib/python3.10/site-packages (from aiohttp<4.0.0,>=3.8.3->langchain) (2.4.3)\n",
            "Requirement already satisfied: aiosignal>=1.1.2 in ./.venv/lib/python3.10/site-packages (from aiohttp<4.0.0,>=3.8.3->langchain) (1.3.1)\n",
            "Requirement already satisfied: attrs>=17.3.0 in ./.venv/lib/python3.10/site-packages (from aiohttp<4.0.0,>=3.8.3->langchain) (24.2.0)\n",
            "Requirement already satisfied: frozenlist>=1.1.1 in ./.venv/lib/python3.10/site-packages (from aiohttp<4.0.0,>=3.8.3->langchain) (1.4.1)\n",
            "Requirement already satisfied: multidict<7.0,>=4.5 in ./.venv/lib/python3.10/site-packages (from aiohttp<4.0.0,>=3.8.3->langchain) (6.1.0)\n",
            "Requirement already satisfied: yarl<2.0,>=1.12.0 in ./.venv/lib/python3.10/site-packages (from aiohttp<4.0.0,>=3.8.3->langchain) (1.15.2)\n",
            "Requirement already satisfied: jsonpatch<2.0,>=1.33 in ./.venv/lib/python3.10/site-packages (from langchain-core<0.4.0,>=0.3.10->langchain) (1.33)\n",
            "Requirement already satisfied: packaging<25,>=23.2 in ./.venv/lib/python3.10/site-packages (from langchain-core<0.4.0,>=0.3.10->langchain) (24.1)\n",
            "Requirement already satisfied: typing-extensions>=4.7 in ./.venv/lib/python3.10/site-packages (from langchain-core<0.4.0,>=0.3.10->langchain) (4.12.2)\n",
            "Requirement already satisfied: httpx<1,>=0.23.0 in ./.venv/lib/python3.10/site-packages (from langsmith<0.2.0,>=0.1.17->langchain) (0.27.2)\n",
            "Requirement already satisfied: orjson<4.0.0,>=3.9.14 in ./.venv/lib/python3.10/site-packages (from langsmith<0.2.0,>=0.1.17->langchain) (3.10.7)\n",
            "Requirement already satisfied: requests-toolbelt<2.0.0,>=1.0.0 in ./.venv/lib/python3.10/site-packages (from langsmith<0.2.0,>=0.1.17->langchain) (1.0.0)\n",
            "Requirement already satisfied: annotated-types>=0.6.0 in ./.venv/lib/python3.10/site-packages (from pydantic<3.0.0,>=2.7.4->langchain) (0.7.0)\n",
            "Requirement already satisfied: pydantic-core==2.23.4 in ./.venv/lib/python3.10/site-packages (from pydantic<3.0.0,>=2.7.4->langchain) (2.23.4)\n",
            "Requirement already satisfied: charset-normalizer<4,>=2 in ./.venv/lib/python3.10/site-packages (from requests<3,>=2->langchain) (3.4.0)\n",
            "Requirement already satisfied: idna<4,>=2.5 in ./.venv/lib/python3.10/site-packages (from requests<3,>=2->langchain) (3.10)\n",
            "Requirement already satisfied: urllib3<3,>=1.21.1 in ./.venv/lib/python3.10/site-packages (from requests<3,>=2->langchain) (2.2.3)\n",
            "Requirement already satisfied: certifi>=2017.4.17 in ./.venv/lib/python3.10/site-packages (from requests<3,>=2->langchain) (2024.8.30)\n",
            "Requirement already satisfied: greenlet!=0.4.17 in ./.venv/lib/python3.10/site-packages (from SQLAlchemy<3,>=1.4->langchain) (3.1.1)\n",
            "Requirement already satisfied: anyio in ./.venv/lib/python3.10/site-packages (from httpx<1,>=0.23.0->langsmith<0.2.0,>=0.1.17->langchain) (4.6.1)\n",
            "Requirement already satisfied: httpcore==1.* in ./.venv/lib/python3.10/site-packages (from httpx<1,>=0.23.0->langsmith<0.2.0,>=0.1.17->langchain) (1.0.6)\n",
            "Requirement already satisfied: sniffio in ./.venv/lib/python3.10/site-packages (from httpx<1,>=0.23.0->langsmith<0.2.0,>=0.1.17->langchain) (1.3.1)\n",
            "Requirement already satisfied: h11<0.15,>=0.13 in ./.venv/lib/python3.10/site-packages (from httpcore==1.*->httpx<1,>=0.23.0->langsmith<0.2.0,>=0.1.17->langchain) (0.14.0)\n",
            "Requirement already satisfied: jsonpointer>=1.9 in ./.venv/lib/python3.10/site-packages (from jsonpatch<2.0,>=1.33->langchain-core<0.4.0,>=0.3.10->langchain) (3.0.0)\n",
            "Requirement already satisfied: propcache>=0.2.0 in ./.venv/lib/python3.10/site-packages (from yarl<2.0,>=1.12.0->aiohttp<4.0.0,>=3.8.3->langchain) (0.2.0)\n",
            "Requirement already satisfied: exceptiongroup>=1.0.2 in ./.venv/lib/python3.10/site-packages (from anyio->httpx<1,>=0.23.0->langsmith<0.2.0,>=0.1.17->langchain) (1.2.2)\n",
            "Note: you may need to restart the kernel to use updated packages.\n",
            "Requirement already satisfied: langchain-community in ./.venv/lib/python3.10/site-packages (0.3.2)\n",
            "Requirement already satisfied: PyYAML>=5.3 in ./.venv/lib/python3.10/site-packages (from langchain-community) (6.0.2)\n",
            "Requirement already satisfied: SQLAlchemy<3,>=1.4 in ./.venv/lib/python3.10/site-packages (from langchain-community) (2.0.35)\n",
            "Requirement already satisfied: aiohttp<4.0.0,>=3.8.3 in ./.venv/lib/python3.10/site-packages (from langchain-community) (3.10.10)\n",
            "Requirement already satisfied: dataclasses-json<0.7,>=0.5.7 in ./.venv/lib/python3.10/site-packages (from langchain-community) (0.6.7)\n",
            "Requirement already satisfied: langchain<0.4.0,>=0.3.3 in ./.venv/lib/python3.10/site-packages (from langchain-community) (0.3.3)\n",
            "Requirement already satisfied: langchain-core<0.4.0,>=0.3.10 in ./.venv/lib/python3.10/site-packages (from langchain-community) (0.3.10)\n",
            "Requirement already satisfied: langsmith<0.2.0,>=0.1.125 in ./.venv/lib/python3.10/site-packages (from langchain-community) (0.1.134)\n",
            "Requirement already satisfied: numpy<2,>=1 in ./.venv/lib/python3.10/site-packages (from langchain-community) (1.26.4)\n",
            "Requirement already satisfied: pydantic-settings<3.0.0,>=2.4.0 in ./.venv/lib/python3.10/site-packages (from langchain-community) (2.5.2)\n",
            "Requirement already satisfied: requests<3,>=2 in ./.venv/lib/python3.10/site-packages (from langchain-community) (2.32.3)\n",
            "Requirement already satisfied: tenacity!=8.4.0,<9.0.0,>=8.1.0 in ./.venv/lib/python3.10/site-packages (from langchain-community) (8.5.0)\n",
            "Requirement already satisfied: aiohappyeyeballs>=2.3.0 in ./.venv/lib/python3.10/site-packages (from aiohttp<4.0.0,>=3.8.3->langchain-community) (2.4.3)\n",
            "Requirement already satisfied: aiosignal>=1.1.2 in ./.venv/lib/python3.10/site-packages (from aiohttp<4.0.0,>=3.8.3->langchain-community) (1.3.1)\n",
            "Requirement already satisfied: attrs>=17.3.0 in ./.venv/lib/python3.10/site-packages (from aiohttp<4.0.0,>=3.8.3->langchain-community) (24.2.0)\n",
            "Requirement already satisfied: frozenlist>=1.1.1 in ./.venv/lib/python3.10/site-packages (from aiohttp<4.0.0,>=3.8.3->langchain-community) (1.4.1)\n",
            "Requirement already satisfied: multidict<7.0,>=4.5 in ./.venv/lib/python3.10/site-packages (from aiohttp<4.0.0,>=3.8.3->langchain-community) (6.1.0)\n",
            "Requirement already satisfied: yarl<2.0,>=1.12.0 in ./.venv/lib/python3.10/site-packages (from aiohttp<4.0.0,>=3.8.3->langchain-community) (1.15.2)\n",
            "Requirement already satisfied: async-timeout<5.0,>=4.0 in ./.venv/lib/python3.10/site-packages (from aiohttp<4.0.0,>=3.8.3->langchain-community) (4.0.3)\n",
            "Requirement already satisfied: marshmallow<4.0.0,>=3.18.0 in ./.venv/lib/python3.10/site-packages (from dataclasses-json<0.7,>=0.5.7->langchain-community) (3.22.0)\n",
            "Requirement already satisfied: typing-inspect<1,>=0.4.0 in ./.venv/lib/python3.10/site-packages (from dataclasses-json<0.7,>=0.5.7->langchain-community) (0.9.0)\n",
            "Requirement already satisfied: langchain-text-splitters<0.4.0,>=0.3.0 in ./.venv/lib/python3.10/site-packages (from langchain<0.4.0,>=0.3.3->langchain-community) (0.3.0)\n",
            "Requirement already satisfied: pydantic<3.0.0,>=2.7.4 in ./.venv/lib/python3.10/site-packages (from langchain<0.4.0,>=0.3.3->langchain-community) (2.9.2)\n",
            "Requirement already satisfied: jsonpatch<2.0,>=1.33 in ./.venv/lib/python3.10/site-packages (from langchain-core<0.4.0,>=0.3.10->langchain-community) (1.33)\n",
            "Requirement already satisfied: packaging<25,>=23.2 in ./.venv/lib/python3.10/site-packages (from langchain-core<0.4.0,>=0.3.10->langchain-community) (24.1)\n",
            "Requirement already satisfied: typing-extensions>=4.7 in ./.venv/lib/python3.10/site-packages (from langchain-core<0.4.0,>=0.3.10->langchain-community) (4.12.2)\n",
            "Requirement already satisfied: httpx<1,>=0.23.0 in ./.venv/lib/python3.10/site-packages (from langsmith<0.2.0,>=0.1.125->langchain-community) (0.27.2)\n",
            "Requirement already satisfied: orjson<4.0.0,>=3.9.14 in ./.venv/lib/python3.10/site-packages (from langsmith<0.2.0,>=0.1.125->langchain-community) (3.10.7)\n",
            "Requirement already satisfied: requests-toolbelt<2.0.0,>=1.0.0 in ./.venv/lib/python3.10/site-packages (from langsmith<0.2.0,>=0.1.125->langchain-community) (1.0.0)\n",
            "Requirement already satisfied: python-dotenv>=0.21.0 in ./.venv/lib/python3.10/site-packages (from pydantic-settings<3.0.0,>=2.4.0->langchain-community) (1.0.1)\n",
            "Requirement already satisfied: charset-normalizer<4,>=2 in ./.venv/lib/python3.10/site-packages (from requests<3,>=2->langchain-community) (3.4.0)\n",
            "Requirement already satisfied: idna<4,>=2.5 in ./.venv/lib/python3.10/site-packages (from requests<3,>=2->langchain-community) (3.10)\n",
            "Requirement already satisfied: urllib3<3,>=1.21.1 in ./.venv/lib/python3.10/site-packages (from requests<3,>=2->langchain-community) (2.2.3)\n",
            "Requirement already satisfied: certifi>=2017.4.17 in ./.venv/lib/python3.10/site-packages (from requests<3,>=2->langchain-community) (2024.8.30)\n",
            "Requirement already satisfied: greenlet!=0.4.17 in ./.venv/lib/python3.10/site-packages (from SQLAlchemy<3,>=1.4->langchain-community) (3.1.1)\n",
            "Requirement already satisfied: anyio in ./.venv/lib/python3.10/site-packages (from httpx<1,>=0.23.0->langsmith<0.2.0,>=0.1.125->langchain-community) (4.6.1)\n",
            "Requirement already satisfied: httpcore==1.* in ./.venv/lib/python3.10/site-packages (from httpx<1,>=0.23.0->langsmith<0.2.0,>=0.1.125->langchain-community) (1.0.6)\n",
            "Requirement already satisfied: sniffio in ./.venv/lib/python3.10/site-packages (from httpx<1,>=0.23.0->langsmith<0.2.0,>=0.1.125->langchain-community) (1.3.1)\n",
            "Requirement already satisfied: h11<0.15,>=0.13 in ./.venv/lib/python3.10/site-packages (from httpcore==1.*->httpx<1,>=0.23.0->langsmith<0.2.0,>=0.1.125->langchain-community) (0.14.0)\n",
            "Requirement already satisfied: jsonpointer>=1.9 in ./.venv/lib/python3.10/site-packages (from jsonpatch<2.0,>=1.33->langchain-core<0.4.0,>=0.3.10->langchain-community) (3.0.0)\n",
            "Requirement already satisfied: annotated-types>=0.6.0 in ./.venv/lib/python3.10/site-packages (from pydantic<3.0.0,>=2.7.4->langchain<0.4.0,>=0.3.3->langchain-community) (0.7.0)\n",
            "Requirement already satisfied: pydantic-core==2.23.4 in ./.venv/lib/python3.10/site-packages (from pydantic<3.0.0,>=2.7.4->langchain<0.4.0,>=0.3.3->langchain-community) (2.23.4)\n",
            "Requirement already satisfied: mypy-extensions>=0.3.0 in ./.venv/lib/python3.10/site-packages (from typing-inspect<1,>=0.4.0->dataclasses-json<0.7,>=0.5.7->langchain-community) (1.0.0)\n",
            "Requirement already satisfied: propcache>=0.2.0 in ./.venv/lib/python3.10/site-packages (from yarl<2.0,>=1.12.0->aiohttp<4.0.0,>=3.8.3->langchain-community) (0.2.0)\n",
            "Requirement already satisfied: exceptiongroup>=1.0.2 in ./.venv/lib/python3.10/site-packages (from anyio->httpx<1,>=0.23.0->langsmith<0.2.0,>=0.1.125->langchain-community) (1.2.2)\n",
            "Note: you may need to restart the kernel to use updated packages.\n",
            "Requirement already satisfied: sentence-transformers in ./.venv/lib/python3.10/site-packages (3.2.0)\n",
            "Requirement already satisfied: transformers<5.0.0,>=4.41.0 in ./.venv/lib/python3.10/site-packages (from sentence-transformers) (4.45.2)\n",
            "Requirement already satisfied: tqdm in ./.venv/lib/python3.10/site-packages (from sentence-transformers) (4.66.5)\n",
            "Requirement already satisfied: torch>=1.11.0 in ./.venv/lib/python3.10/site-packages (from sentence-transformers) (2.4.1)\n",
            "Requirement already satisfied: scikit-learn in ./.venv/lib/python3.10/site-packages (from sentence-transformers) (1.5.2)\n",
            "Requirement already satisfied: scipy in ./.venv/lib/python3.10/site-packages (from sentence-transformers) (1.14.1)\n",
            "Requirement already satisfied: huggingface-hub>=0.20.0 in ./.venv/lib/python3.10/site-packages (from sentence-transformers) (0.25.2)\n",
            "Requirement already satisfied: Pillow in ./.venv/lib/python3.10/site-packages (from sentence-transformers) (10.4.0)\n",
            "Requirement already satisfied: filelock in ./.venv/lib/python3.10/site-packages (from huggingface-hub>=0.20.0->sentence-transformers) (3.16.1)\n",
            "Requirement already satisfied: fsspec>=2023.5.0 in ./.venv/lib/python3.10/site-packages (from huggingface-hub>=0.20.0->sentence-transformers) (2024.6.1)\n",
            "Requirement already satisfied: packaging>=20.9 in ./.venv/lib/python3.10/site-packages (from huggingface-hub>=0.20.0->sentence-transformers) (24.1)\n",
            "Requirement already satisfied: pyyaml>=5.1 in ./.venv/lib/python3.10/site-packages (from huggingface-hub>=0.20.0->sentence-transformers) (6.0.2)\n",
            "Requirement already satisfied: requests in ./.venv/lib/python3.10/site-packages (from huggingface-hub>=0.20.0->sentence-transformers) (2.32.3)\n",
            "Requirement already satisfied: typing-extensions>=3.7.4.3 in ./.venv/lib/python3.10/site-packages (from huggingface-hub>=0.20.0->sentence-transformers) (4.12.2)\n",
            "Requirement already satisfied: sympy in ./.venv/lib/python3.10/site-packages (from torch>=1.11.0->sentence-transformers) (1.13.3)\n",
            "Requirement already satisfied: networkx in ./.venv/lib/python3.10/site-packages (from torch>=1.11.0->sentence-transformers) (3.4.1)\n",
            "Requirement already satisfied: jinja2 in ./.venv/lib/python3.10/site-packages (from torch>=1.11.0->sentence-transformers) (3.1.4)\n",
            "Requirement already satisfied: nvidia-cuda-nvrtc-cu12==12.1.105 in ./.venv/lib/python3.10/site-packages (from torch>=1.11.0->sentence-transformers) (12.1.105)\n",
            "Requirement already satisfied: nvidia-cuda-runtime-cu12==12.1.105 in ./.venv/lib/python3.10/site-packages (from torch>=1.11.0->sentence-transformers) (12.1.105)\n",
            "Requirement already satisfied: nvidia-cuda-cupti-cu12==12.1.105 in ./.venv/lib/python3.10/site-packages (from torch>=1.11.0->sentence-transformers) (12.1.105)\n",
            "Requirement already satisfied: nvidia-cudnn-cu12==9.1.0.70 in ./.venv/lib/python3.10/site-packages (from torch>=1.11.0->sentence-transformers) (9.1.0.70)\n",
            "Requirement already satisfied: nvidia-cublas-cu12==12.1.3.1 in ./.venv/lib/python3.10/site-packages (from torch>=1.11.0->sentence-transformers) (12.1.3.1)\n",
            "Requirement already satisfied: nvidia-cufft-cu12==11.0.2.54 in ./.venv/lib/python3.10/site-packages (from torch>=1.11.0->sentence-transformers) (11.0.2.54)\n",
            "Requirement already satisfied: nvidia-curand-cu12==10.3.2.106 in ./.venv/lib/python3.10/site-packages (from torch>=1.11.0->sentence-transformers) (10.3.2.106)\n",
            "Requirement already satisfied: nvidia-cusolver-cu12==11.4.5.107 in ./.venv/lib/python3.10/site-packages (from torch>=1.11.0->sentence-transformers) (11.4.5.107)\n",
            "Requirement already satisfied: nvidia-cusparse-cu12==12.1.0.106 in ./.venv/lib/python3.10/site-packages (from torch>=1.11.0->sentence-transformers) (12.1.0.106)\n",
            "Requirement already satisfied: nvidia-nccl-cu12==2.20.5 in ./.venv/lib/python3.10/site-packages (from torch>=1.11.0->sentence-transformers) (2.20.5)\n",
            "Requirement already satisfied: nvidia-nvtx-cu12==12.1.105 in ./.venv/lib/python3.10/site-packages (from torch>=1.11.0->sentence-transformers) (12.1.105)\n",
            "Requirement already satisfied: triton==3.0.0 in ./.venv/lib/python3.10/site-packages (from torch>=1.11.0->sentence-transformers) (3.0.0)\n",
            "Requirement already satisfied: nvidia-nvjitlink-cu12 in ./.venv/lib/python3.10/site-packages (from nvidia-cusolver-cu12==11.4.5.107->torch>=1.11.0->sentence-transformers) (12.6.77)\n",
            "Requirement already satisfied: numpy>=1.17 in ./.venv/lib/python3.10/site-packages (from transformers<5.0.0,>=4.41.0->sentence-transformers) (1.26.4)\n",
            "Requirement already satisfied: regex!=2019.12.17 in ./.venv/lib/python3.10/site-packages (from transformers<5.0.0,>=4.41.0->sentence-transformers) (2024.9.11)\n",
            "Requirement already satisfied: safetensors>=0.4.1 in ./.venv/lib/python3.10/site-packages (from transformers<5.0.0,>=4.41.0->sentence-transformers) (0.4.5)\n",
            "Requirement already satisfied: tokenizers<0.21,>=0.20 in ./.venv/lib/python3.10/site-packages (from transformers<5.0.0,>=4.41.0->sentence-transformers) (0.20.1)\n",
            "Requirement already satisfied: joblib>=1.2.0 in ./.venv/lib/python3.10/site-packages (from scikit-learn->sentence-transformers) (1.4.2)\n",
            "Requirement already satisfied: threadpoolctl>=3.1.0 in ./.venv/lib/python3.10/site-packages (from scikit-learn->sentence-transformers) (3.5.0)\n",
            "Requirement already satisfied: MarkupSafe>=2.0 in ./.venv/lib/python3.10/site-packages (from jinja2->torch>=1.11.0->sentence-transformers) (3.0.1)\n",
            "Requirement already satisfied: charset-normalizer<4,>=2 in ./.venv/lib/python3.10/site-packages (from requests->huggingface-hub>=0.20.0->sentence-transformers) (3.4.0)\n",
            "Requirement already satisfied: idna<4,>=2.5 in ./.venv/lib/python3.10/site-packages (from requests->huggingface-hub>=0.20.0->sentence-transformers) (3.10)\n",
            "Requirement already satisfied: urllib3<3,>=1.21.1 in ./.venv/lib/python3.10/site-packages (from requests->huggingface-hub>=0.20.0->sentence-transformers) (2.2.3)\n",
            "Requirement already satisfied: certifi>=2017.4.17 in ./.venv/lib/python3.10/site-packages (from requests->huggingface-hub>=0.20.0->sentence-transformers) (2024.8.30)\n",
            "Requirement already satisfied: mpmath<1.4,>=1.1.0 in ./.venv/lib/python3.10/site-packages (from sympy->torch>=1.11.0->sentence-transformers) (1.3.0)\n",
            "Note: you may need to restart the kernel to use updated packages.\n",
            "\u001b[31mERROR: Could not find a version that satisfies the requirement tranfromers (from versions: none)\u001b[0m\u001b[31m\n",
            "\u001b[0m\u001b[31mERROR: No matching distribution found for tranfromers\u001b[0m\u001b[31m\n",
            "\u001b[0mNote: you may need to restart the kernel to use updated packages.\n",
            "Requirement already satisfied: datasets in ./.venv/lib/python3.10/site-packages (3.0.1)\n",
            "Requirement already satisfied: filelock in ./.venv/lib/python3.10/site-packages (from datasets) (3.16.1)\n",
            "Requirement already satisfied: numpy>=1.17 in ./.venv/lib/python3.10/site-packages (from datasets) (1.26.4)\n",
            "Requirement already satisfied: pyarrow>=15.0.0 in ./.venv/lib/python3.10/site-packages (from datasets) (17.0.0)\n",
            "Requirement already satisfied: dill<0.3.9,>=0.3.0 in ./.venv/lib/python3.10/site-packages (from datasets) (0.3.8)\n",
            "Requirement already satisfied: pandas in ./.venv/lib/python3.10/site-packages (from datasets) (2.2.3)\n",
            "Requirement already satisfied: requests>=2.32.2 in ./.venv/lib/python3.10/site-packages (from datasets) (2.32.3)\n",
            "Requirement already satisfied: tqdm>=4.66.3 in ./.venv/lib/python3.10/site-packages (from datasets) (4.66.5)\n",
            "Requirement already satisfied: xxhash in ./.venv/lib/python3.10/site-packages (from datasets) (3.5.0)\n",
            "Requirement already satisfied: multiprocess in ./.venv/lib/python3.10/site-packages (from datasets) (0.70.16)\n",
            "Requirement already satisfied: fsspec<=2024.6.1,>=2023.1.0 in ./.venv/lib/python3.10/site-packages (from fsspec[http]<=2024.6.1,>=2023.1.0->datasets) (2024.6.1)\n",
            "Requirement already satisfied: aiohttp in ./.venv/lib/python3.10/site-packages (from datasets) (3.10.10)\n",
            "Requirement already satisfied: huggingface-hub>=0.22.0 in ./.venv/lib/python3.10/site-packages (from datasets) (0.25.2)\n",
            "Requirement already satisfied: packaging in ./.venv/lib/python3.10/site-packages (from datasets) (24.1)\n",
            "Requirement already satisfied: pyyaml>=5.1 in ./.venv/lib/python3.10/site-packages (from datasets) (6.0.2)\n",
            "Requirement already satisfied: aiohappyeyeballs>=2.3.0 in ./.venv/lib/python3.10/site-packages (from aiohttp->datasets) (2.4.3)\n",
            "Requirement already satisfied: aiosignal>=1.1.2 in ./.venv/lib/python3.10/site-packages (from aiohttp->datasets) (1.3.1)\n",
            "Requirement already satisfied: attrs>=17.3.0 in ./.venv/lib/python3.10/site-packages (from aiohttp->datasets) (24.2.0)\n",
            "Requirement already satisfied: frozenlist>=1.1.1 in ./.venv/lib/python3.10/site-packages (from aiohttp->datasets) (1.4.1)\n",
            "Requirement already satisfied: multidict<7.0,>=4.5 in ./.venv/lib/python3.10/site-packages (from aiohttp->datasets) (6.1.0)\n",
            "Requirement already satisfied: yarl<2.0,>=1.12.0 in ./.venv/lib/python3.10/site-packages (from aiohttp->datasets) (1.15.2)\n",
            "Requirement already satisfied: async-timeout<5.0,>=4.0 in ./.venv/lib/python3.10/site-packages (from aiohttp->datasets) (4.0.3)\n",
            "Requirement already satisfied: typing-extensions>=3.7.4.3 in ./.venv/lib/python3.10/site-packages (from huggingface-hub>=0.22.0->datasets) (4.12.2)\n",
            "Requirement already satisfied: charset-normalizer<4,>=2 in ./.venv/lib/python3.10/site-packages (from requests>=2.32.2->datasets) (3.4.0)\n",
            "Requirement already satisfied: idna<4,>=2.5 in ./.venv/lib/python3.10/site-packages (from requests>=2.32.2->datasets) (3.10)\n",
            "Requirement already satisfied: urllib3<3,>=1.21.1 in ./.venv/lib/python3.10/site-packages (from requests>=2.32.2->datasets) (2.2.3)\n",
            "Requirement already satisfied: certifi>=2017.4.17 in ./.venv/lib/python3.10/site-packages (from requests>=2.32.2->datasets) (2024.8.30)\n",
            "Requirement already satisfied: python-dateutil>=2.8.2 in ./.venv/lib/python3.10/site-packages (from pandas->datasets) (2.9.0.post0)\n",
            "Requirement already satisfied: pytz>=2020.1 in ./.venv/lib/python3.10/site-packages (from pandas->datasets) (2024.2)\n",
            "Requirement already satisfied: tzdata>=2022.7 in ./.venv/lib/python3.10/site-packages (from pandas->datasets) (2024.2)\n",
            "Requirement already satisfied: six>=1.5 in ./.venv/lib/python3.10/site-packages (from python-dateutil>=2.8.2->pandas->datasets) (1.16.0)\n",
            "Requirement already satisfied: propcache>=0.2.0 in ./.venv/lib/python3.10/site-packages (from yarl<2.0,>=1.12.0->aiohttp->datasets) (0.2.0)\n",
            "Note: you may need to restart the kernel to use updated packages.\n"
          ]
        }
      ],
      "source": [
        "%pip install  torch\n",
        "%pip install  transformers\n",
        "%pip install  accelerate\n",
        "%pip install  sentence-transformers\n",
        "%pip install  langchain\n",
        "%pip install  langchain-community\n",
        "%pip install  sentence-transformers\n",
        "%pip install  tranfromers\n",
        "%pip install  datasets"
      ]
    },
    {
      "cell_type": "code",
      "execution_count": 2,
      "metadata": {
        "id": "UG-NBViNt71W"
      },
      "outputs": [
        {
          "name": "stderr",
          "output_type": "stream",
          "text": [
            "/home/kaba4ok/Documents/oles_territory/studies_in_Lviv/year3/sem1/ai/project/gesser/.venv/lib/python3.10/site-packages/tqdm/auto.py:21: TqdmWarning: IProgress not found. Please update jupyter and ipywidgets. See https://ipywidgets.readthedocs.io/en/stable/user_install.html\n",
            "  from .autonotebook import tqdm as notebook_tqdm\n"
          ]
        }
      ],
      "source": [
        "import os\n",
        "import pandas as pd\n",
        "from langchain.embeddings import HuggingFaceEmbeddings\n",
        "from datasets import load_dataset,Dataset, concatenate_datasets\n",
        "import numpy as np\n",
        "from time import process_time\n",
        "import math\n",
        "import random\n",
        "import joblib\n",
        "\n",
        "from sentence_transformers import SentenceTransformer,SentenceTransformerTrainingArguments\n",
        "from sentence_transformers.losses import BatchAllTripletLoss, BatchHardSoftMarginTripletLoss\n",
        "from sentence_transformers.trainer import SentenceTransformerTrainer\n",
        "from sentence_transformers.training_args import BatchSamplers\n",
        "from sentence_transformers.evaluation import TripletEvaluator\n",
        "\n",
        "import torch\n",
        "\n",
        "import torch.nn as nn\n",
        "import torch.nn.functional as F\n",
        "import torch.optim as optim"
      ]
    },
    {
      "cell_type": "markdown",
      "metadata": {},
      "source": [
        "**Embedder part**"
      ]
    },
    {
      "cell_type": "code",
      "execution_count": 3,
      "metadata": {
        "colab": {
          "base_uri": "https://localhost:8080/"
        },
        "id": "-T4t6Hp3qTps",
        "outputId": "ac9fe204-8218-497c-fa5e-a5783bf43aeb"
      },
      "outputs": [],
      "source": [
        "model = SentenceTransformer(\"sentence-transformers/all-distilroberta-v1\")"
      ]
    },
    {
      "cell_type": "code",
      "execution_count": 4,
      "metadata": {
        "id": "AQ5d2RUz_K5e"
      },
      "outputs": [],
      "source": [
        "dataset = load_dataset(\"csv\", data_files=\"./tcc_ceds_music.csv\")\n",
        "dataset = dataset.remove_columns([\"artist_name\", \"track_name\"])\n",
        "dataset = dataset.rename_columns({\"genre\":\"label\", \"lyrics\":\"sentence\"})"
      ]
    },
    {
      "cell_type": "code",
      "execution_count": 5,
      "metadata": {
        "id": "9x3rM4Ia9kjn"
      },
      "outputs": [],
      "source": [
        "unique_genres = dataset['train'].unique('label')\n",
        "genre_to_index = {label: idx for idx, label in enumerate(unique_genres)}\n",
        "\n",
        "def label_to_index_func(data_set):\n",
        "    data_set['label'] = genre_to_index[data_set['label']]\n",
        "    return data_set\n",
        "\n",
        "dataset = dataset.map(label_to_index_func)"
      ]
    },
    {
      "cell_type": "code",
      "execution_count": 6,
      "metadata": {},
      "outputs": [],
      "source": [
        "# populate with permuted lyrics \n",
        "n_songs_to_permute = len(dataset['train'])\n",
        "n_permutations = 4\n",
        "\n",
        "permuted_lyrics = []\n",
        "lables_of_permuted = []\n",
        "\n",
        "for i in range(n_songs_to_permute):\n",
        "    song_item = dataset['train'][i]\n",
        "    label = song_item['label']\n",
        "    sentence = song_item['sentence'].split(' ')\n",
        "\n",
        "    for ii in range(n_permutations):\n",
        "        permuted_song = \" \".join(random.sample(sentence, len(sentence)))\n",
        "        permuted_lyrics.append(permuted_song)\n",
        "        lables_of_permuted.append(label)\n",
        "\n",
        "permuted_dataset = Dataset.from_dict({\"sentence\":permuted_lyrics, \"label\":lables_of_permuted})\n",
        "dataset['train'] = concatenate_datasets([dataset['train'], permuted_dataset])"
      ]
    },
    {
      "cell_type": "code",
      "execution_count": 7,
      "metadata": {},
      "outputs": [],
      "source": [
        "train_test_split = dataset['train'].train_test_split(test_size=0.05)"
      ]
    },
    {
      "cell_type": "code",
      "execution_count": 8,
      "metadata": {
        "id": "GAFDHUIwKaMO"
      },
      "outputs": [
        {
          "ename": "",
          "evalue": "",
          "output_type": "error",
          "traceback": [
            "\u001b[1;31mThe Kernel crashed while executing code in the current cell or a previous cell. \n",
            "\u001b[1;31mPlease review the code in the cell(s) to identify a possible cause of the failure. \n",
            "\u001b[1;31mClick <a href='https://aka.ms/vscodeJupyterKernelCrash'>here</a> for more info. \n",
            "\u001b[1;31mView Jupyter <a href='command:jupyter.viewOutput'>log</a> for further details."
          ]
        }
      ],
      "source": [
        "loss = BatchHardSoftMarginTripletLoss(model)\n",
        "training_args = SentenceTransformerTrainingArguments(\n",
        "    # Required parameter:\n",
        "    output_dir=\"./models/guesser_2\",\n",
        "    # Optional training parameters:\n",
        "    num_train_epochs=3,\n",
        "    per_device_train_batch_size=16,\n",
        "    per_device_eval_batch_size=16,\n",
        "    learning_rate=2e-5,\n",
        "    warmup_ratio=0.15,\n",
        "    adam_beta1=0.85,\n",
        "    adam_beta2=0.99,\n",
        "    weight_decay=0.01,\n",
        "    use_cpu=False,\n",
        "    fp16=True,  # Set to False if you get an error that your GPU can't run on FP16\n",
        "    bf16=False,  # Set to True if you have a GPU that supports BF16\n",
        "    batch_sampler=BatchSamplers.NO_DUPLICATES,  # MultipleNegativesRankingLoss benefits from no duplicate samples in a batch\n",
        "    # Optional tracking/debugging parameters:\n",
        "    save_steps=100,\n",
        "    save_total_limit=2,\n",
        "    logging_steps=50,\n",
        "    seed=135)\n",
        "\n",
        "    # eval_strategy=\"steps\",\n",
        "    # eval_steps=100,\n",
        "    # save_strategy=\"steps\","
      ]
    },
    {
      "cell_type": "code",
      "execution_count": null,
      "metadata": {
        "id": "8PB5MqoaEUro"
      },
      "outputs": [
        {
          "name": "stderr",
          "output_type": "stream",
          "text": [
            "  0%|          | 25/25269 [01:35<23:49:56,  3.40s/it]"
          ]
        }
      ],
      "source": [
        "train_set = train_test_split['train']\n",
        "trainer = SentenceTransformerTrainer(\n",
        "    model=model,\n",
        "    train_dataset=train_set,\n",
        "    loss=loss,\n",
        "    args=training_args\n",
        ")\n",
        "\n",
        "trainer.train()"
      ]
    },
    {
      "cell_type": "code",
      "execution_count": null,
      "metadata": {
        "id": "Q010H_zeW5VY"
      },
      "outputs": [],
      "source": [
        "model.save_pretrained(\"trained-embedder\")"
      ]
    },
    {
      "cell_type": "code",
      "execution_count": null,
      "metadata": {
        "colab": {
          "base_uri": "https://localhost:8080/"
        },
        "id": "50s7MNwkFksg",
        "outputId": "8f1f3344-2d18-43c8-acf6-8e6dd2df4270"
      },
      "outputs": [
        {
          "name": "stdout",
          "output_type": "stream",
          "text": [
            "tar: ./trained-embedder: Cannot stat: No such file or directory\n",
            "tar: Exiting with failure status due to previous errors\n"
          ]
        }
      ],
      "source": [
        "! tar -czf trained_embedder.tar.gz ./trained-embedder"
      ]
    },
    {
      "cell_type": "code",
      "execution_count": null,
      "metadata": {
        "colab": {
          "base_uri": "https://localhost:8080/"
        },
        "id": "3kEpO0tbW5VX",
        "outputId": "999cafe0-3f77-4bf1-cb27-d25c75c29187"
      },
      "outputs": [
        {
          "name": "stdout",
          "output_type": "stream",
          "text": [
            "Dataset({\n",
            "    features: ['anchor', 'positive', 'negative'],\n",
            "    num_rows: 175370\n",
            "})\n"
          ]
        }
      ],
      "source": [
        "#creates test dataset to evaluate the embedder\n",
        "\n",
        "from collections import defaultdict\n",
        "import random\n",
        "\n",
        "class_groups = defaultdict(list)\n",
        "for example in train_test_split['test']:\n",
        "    class_groups[example['label']].append(example['sentence'])\n",
        "\n",
        "triplets = []\n",
        "\n",
        "for label, sentences in class_groups.items():\n",
        "    for i in range(len(sentences)):\n",
        "        for j in range(i + 1, len(sentences)):\n",
        "            anchor = sentences[i]\n",
        "            positive = sentences[j]\n",
        "\n",
        "            negative_label = random.choice([lbl for lbl in class_groups.keys() if lbl != label])\n",
        "            negative = random.choice(class_groups[negative_label])\n",
        "\n",
        "            triplets.append({\n",
        "                'anchor': anchor,\n",
        "                'positive': positive,\n",
        "                'negative': negative\n",
        "            })\n",
        "\n",
        "triplet_test_dataset = Dataset.from_list(triplets)\n",
        "triplet_test_dataset = triplet_test_dataset.shuffle(seed=83)\n",
        "\n",
        "print(triplet_test_dataset)"
      ]
    },
    {
      "cell_type": "code",
      "execution_count": null,
      "metadata": {
        "colab": {
          "base_uri": "https://localhost:8080/"
        },
        "id": "jkS5NdAXW5VY",
        "outputId": "3e45083b-e3ff-43a0-b648-add8a56fefac"
      },
      "outputs": [
        {
          "name": "stdout",
          "output_type": "stream",
          "text": [
            "{'all-test_cosine_accuracy': 0.5246108228317272, 'all-test_dot_accuracy': 0.4753891771682728, 'all-test_manhattan_accuracy': 0.5225067001197469, 'all-test_euclidean_accuracy': 0.5246108228317272, 'all-test_max_accuracy': 0.5246108228317272}\n"
          ]
        }
      ],
      "source": [
        "test_evaluator = TripletEvaluator(\n",
        "    anchors=triplet_test_dataset[\"anchor\"],\n",
        "    positives=triplet_test_dataset[\"positive\"],\n",
        "    negatives=triplet_test_dataset[\"negative\"],\n",
        "    name=\"all-test\",\n",
        ")\n",
        "print(test_evaluator(model))"
      ]
    },
    {
      "cell_type": "code",
      "execution_count": null,
      "metadata": {
        "id": "X7AvVv3AvlW6"
      },
      "outputs": [],
      "source": [
        "! tar -xzf ./trained_embedder.tar.gz ./"
      ]
    },
    {
      "cell_type": "code",
      "execution_count": 6,
      "metadata": {
        "id": "xYGDGiaP6HzM"
      },
      "outputs": [],
      "source": [
        "model = SentenceTransformer(\"trained-embedder\")"
      ]
    },
    {
      "cell_type": "code",
      "execution_count": 7,
      "metadata": {
        "id": "Qma2ILplQAsr"
      },
      "outputs": [],
      "source": [
        "def get_lyrics_embedding(lyrics:str):\n",
        "  return model.encode([lyrics.lower()])"
      ]
    },
    {
      "cell_type": "markdown",
      "metadata": {},
      "source": [
        "**Estimator part**"
      ]
    },
    {
      "cell_type": "code",
      "execution_count": 8,
      "metadata": {
        "colab": {
          "background_save": true
        },
        "id": "rVG7byPW26_k"
      },
      "outputs": [],
      "source": [
        "#creates a dataframe of all songs as embeddings -> genre as idx\n",
        "\n",
        "lyrics_embeddigs = []\n",
        "genres = []\n",
        "unique_genres = set()\n",
        "\n",
        "import string\n",
        "songs_and_lyrics = pd.read_csv('./tcc_ceds_music.csv')\n",
        "\n",
        "for idx in range(len(songs_and_lyrics)):\n",
        "  genre = songs_and_lyrics[\"genre\"][idx]\n",
        "  unique_genres.add(genre)\n",
        "\n",
        "  lyrics_as_bag_of_words_string = str(songs_and_lyrics[\"lyrics\"][idx])\n",
        "\n",
        "  embedding =  get_lyrics_embedding(lyrics_as_bag_of_words_string)[0]\n",
        "  lyrics_embeddigs.append(embedding)\n",
        "  genres.append(genre)\n",
        "\n",
        "embedding_set = pd.DataFrame({\"genres\":genres})\n",
        "embeddings_list = []\n",
        "\n",
        "embedding_size = model.get_sentence_embedding_dimension()\n",
        "\n",
        "for i in range(embedding_size):\n",
        "  dim_i = pd.Series([embedding[i] for embedding in lyrics_embeddigs])\n",
        "  embeddings_list.append(dim_i)\n",
        "\n",
        "embeddings_df = pd.concat(embeddings_list, axis=1)\n",
        "embedding_set = pd.concat([embeddings_df, embedding_set], axis=1)\n",
        "\n",
        "embedding_set['genres'] = embedding_set['genres'].apply(lambda genre: genre_to_index[genre])"
      ]
    },
    {
      "cell_type": "code",
      "execution_count": 9,
      "metadata": {
        "colab": {
          "background_save": true
        },
        "id": "zFRKJwszev8_",
        "outputId": "74959662-45f7-4113-f3ad-6dd37b542a97"
      },
      "outputs": [
        {
          "data": {
            "text/plain": [
              "['embedding_set_of_all_songs.pkl']"
            ]
          },
          "execution_count": 9,
          "metadata": {},
          "output_type": "execute_result"
        }
      ],
      "source": [
        "joblib.dump(embedding_set, \"embedding_set_of_all_songs.pkl\")"
      ]
    },
    {
      "cell_type": "code",
      "execution_count": 67,
      "metadata": {
        "colab": {
          "background_save": true
        },
        "id": "pEIE7rbAybpD"
      },
      "outputs": [],
      "source": [
        "#transforms the training embedding data into torch-compliant format\n",
        "\n",
        "features = embedding_set.iloc[:, :-1].values\n",
        "labels = embedding_set.iloc[:, -1].values\n",
        "sparse_labels = []\n",
        "for genre_label in labels:\n",
        "  sparse_arr = [0 for i in range(len(unique_genres))]\n",
        "  sparse_arr[genre_label] = 1\n",
        "  sparse_labels.append(sparse_arr)\n",
        "\n",
        "features_tensor = torch.tensor(features, dtype=torch.float32)\n",
        "labels_tensor = torch.tensor(sparse_labels, dtype=torch.float32)\n",
        "\n",
        "dataset_train = torch.utils.data.TensorDataset(features_tensor, labels_tensor)\n",
        "\n",
        "train_data_loader = torch.utils.data.DataLoader(dataset_train, batch_size=5, shuffle=True)\n",
        "\n",
        "#transforms the testing embedding data into torch-compliant format\n",
        "\n",
        "test_size = 8000\n",
        "rand_indices = np.random.randint(0, len(embedding_set), size=test_size)\n",
        "\n",
        "features = embedding_set.iloc[rand_indices, :-1].values\n",
        "labels = embedding_set.iloc[rand_indices, -1].values\n",
        "\n",
        "features_tensor = torch.tensor(features, dtype=torch.float32)\n",
        "labels_tensor = torch.tensor(labels, dtype=torch.int32)\n",
        "\n",
        "dataset_test = torch.utils.data.TensorDataset(features_tensor, labels_tensor)\n",
        "\n",
        "test_data_loader = torch.utils.data.DataLoader(dataset_test, batch_size=5, shuffle=True)"
      ]
    },
    {
      "cell_type": "code",
      "execution_count": 85,
      "metadata": {
        "colab": {
          "background_save": true
        },
        "id": "7YHVTHoO1TAs"
      },
      "outputs": [],
      "source": [
        "#the nn used for genre estimation\n",
        "\n",
        "class NeuralGuesser(nn.Module):\n",
        "    def __init__(self, embedding_size:int):\n",
        "        super().__init__()\n",
        "        self.pool = nn.AvgPool1d(kernel_size=2, padding=0) #gives me embedding_size/3 inputs\n",
        "\n",
        "        self.layer1 = nn.Linear(int(embedding_size/2), int(embedding_size/3))\n",
        "        self.layer2 = nn.Linear(int(embedding_size/3), int(embedding_size/6))\n",
        "        self.layer3 = nn.Linear(int(embedding_size/6), int(embedding_size/12))\n",
        "\n",
        "        self.layer4 = nn.Linear(int(embedding_size/12), len(unique_genres))\n",
        "\n",
        "    def forward(self, x):\n",
        "        x = F.relu(self.pool(x))\n",
        "        x = F.relu(self.layer1(x))\n",
        "        x = F.relu(self.layer2(x))\n",
        "        x = F.relu(self.layer3(x))\n",
        "        x = self.layer4(x)\n",
        "\n",
        "        return x"
      ]
    },
    {
      "cell_type": "code",
      "execution_count": 99,
      "metadata": {
        "colab": {
          "background_save": true
        },
        "id": "CsIqJdF0AUCa",
        "outputId": "18a07e4f-0f39-4f1d-de8b-c346ba25bb7a"
      },
      "outputs": [
        {
          "name": "stdout",
          "output_type": "stream",
          "text": [
            "[1,   500] average loss: 1.845\n",
            "[1,  1000] average loss: 1.811\n",
            "[1,  1500] average loss: 1.781\n",
            "[1,  2000] average loss: 1.739\n",
            "[1,  2500] average loss: 1.737\n",
            "[1,  3000] average loss: 1.742\n",
            "[1,  3500] average loss: 1.721\n",
            "[1,  4000] average loss: 1.738\n",
            "[1,  4500] average loss: 1.701\n",
            "[1,  5000] average loss: 1.707\n",
            "[1,  5500] average loss: 1.733\n",
            "[2,   500] average loss: 1.712\n",
            "[2,  1000] average loss: 1.678\n",
            "[2,  1500] average loss: 1.708\n",
            "[2,  2000] average loss: 1.693\n",
            "[2,  2500] average loss: 1.722\n",
            "[2,  3000] average loss: 1.684\n",
            "[2,  3500] average loss: 1.700\n",
            "[2,  4000] average loss: 1.681\n",
            "[2,  4500] average loss: 1.673\n",
            "[2,  5000] average loss: 1.676\n",
            "[2,  5500] average loss: 1.676\n",
            "[3,   500] average loss: 1.667\n",
            "[3,  1000] average loss: 1.667\n",
            "[3,  1500] average loss: 1.671\n",
            "[3,  2000] average loss: 1.655\n",
            "[3,  2500] average loss: 1.642\n",
            "[3,  3000] average loss: 1.655\n",
            "[3,  3500] average loss: 1.659\n",
            "[3,  4000] average loss: 1.675\n",
            "[3,  4500] average loss: 1.655\n",
            "[3,  5000] average loss: 1.655\n",
            "[3,  5500] average loss: 1.658\n"
          ]
        }
      ],
      "source": [
        "#training the nn\n",
        "\n",
        "guesser = NeuralGuesser(embedding_size)\n",
        "loss_alg = nn.CrossEntropyLoss()\n",
        "optimizer = torch.optim.Adam(guesser.parameters(), lr=0.001, betas=(0.9, 0.99))\n",
        "\n",
        "for epoch in range(3):\n",
        "\n",
        "    running_loss = 0.0\n",
        "\n",
        "    for i, data in enumerate(train_data_loader, 0):\n",
        "        inputs, labels = data\n",
        "\n",
        "        optimizer.zero_grad()\n",
        "        outputs = guesser(inputs)\n",
        "        loss = loss_alg(outputs, labels)\n",
        "        loss.backward()\n",
        "        optimizer.step()\n",
        "\n",
        "        running_loss += loss.item()\n",
        "        if i % 500 == 499:\n",
        "            print(f'[{epoch + 1}, {i + 1:5d}] average loss: {running_loss / 500:.3f}')\n",
        "            running_loss = 0.0\n",
        "\n",
        "torch.save(guesser.state_dict(), \"./trained-nn.pth\")"
      ]
    },
    {
      "cell_type": "code",
      "execution_count": 100,
      "metadata": {
        "id": "satthA5pdnmB"
      },
      "outputs": [
        {
          "name": "stdout",
          "output_type": "stream",
          "text": [
            "Accuracy for 8000 test images: 33 %\n"
          ]
        }
      ],
      "source": [
        "correct = 0\n",
        "total = 0\n",
        "with torch.no_grad():\n",
        "    for data in test_data_loader:\n",
        "        images, labels = data\n",
        "        outputs = guesser(images)\n",
        "\n",
        "        value, predicted_classes = torch.max(outputs.data, 1)\n",
        "\n",
        "        total += labels.size(0)\n",
        "        correct += (predicted_classes == labels).sum().item()\n",
        "\n",
        "print(f'Accuracy for 8000 test images: {100 * correct // total} %')"
      ]
    },
    {
      "cell_type": "code",
      "execution_count": 36,
      "metadata": {
        "colab": {
          "base_uri": "https://localhost:8080/"
        },
        "id": "8EHMrwu4PdXq",
        "outputId": "54da8b7a-2f31-409e-a99e-92e2ef87c91a"
      },
      "outputs": [
        {
          "name": "stderr",
          "output_type": "stream",
          "text": [
            "huggingface/tokenizers: The current process just got forked, after parallelism has already been used. Disabling parallelism to avoid deadlocks...\n",
            "To disable this warning, you can either:\n",
            "\t- Avoid using `tokenizers` before the fork if possible\n",
            "\t- Explicitly set the environment variable TOKENIZERS_PARALLELISM=(true | false)\n",
            "4534.74s - pydevd: Sending message related to process being replaced timed-out after 5 seconds\n"
          ]
        },
        {
          "name": "stdout",
          "output_type": "stream",
          "text": [
            "Requirement already satisfied: nltk in ./.venv/lib/python3.10/site-packages (3.9.1)\n",
            "Requirement already satisfied: click in ./.venv/lib/python3.10/site-packages (from nltk) (8.1.7)\n",
            "Requirement already satisfied: joblib in ./.venv/lib/python3.10/site-packages (from nltk) (1.4.2)\n",
            "Requirement already satisfied: regex>=2021.8.3 in ./.venv/lib/python3.10/site-packages (from nltk) (2024.9.11)\n",
            "Requirement already satisfied: tqdm in ./.venv/lib/python3.10/site-packages (from nltk) (4.66.5)\n",
            "Note: you may need to restart the kernel to use updated packages.\n"
          ]
        },
        {
          "name": "stderr",
          "output_type": "stream",
          "text": [
            "[nltk_data] Downloading package stopwords to\n",
            "[nltk_data]     /home/kaba4ok/nltk_data...\n",
            "[nltk_data]   Package stopwords is already up-to-date!\n",
            "[nltk_data] Downloading package punkt to /home/kaba4ok/nltk_data...\n",
            "[nltk_data]   Package punkt is already up-to-date!\n",
            "[nltk_data] Downloading package punkt_tab to\n",
            "[nltk_data]     /home/kaba4ok/nltk_data...\n",
            "[nltk_data]   Unzipping tokenizers/punkt_tab.zip.\n"
          ]
        },
        {
          "data": {
            "text/plain": [
              "True"
            ]
          },
          "execution_count": 36,
          "metadata": {},
          "output_type": "execute_result"
        }
      ],
      "source": [
        "%pip install nltk\n",
        "import nltk\n",
        "from nltk.corpus import stopwords\n",
        "from nltk.tokenize import word_tokenize\n",
        "import string\n",
        "\n",
        "nltk.download('stopwords')\n",
        "nltk.download('punkt')\n",
        "nltk.download('punkt_tab')"
      ]
    },
    {
      "cell_type": "code",
      "execution_count": 37,
      "metadata": {
        "id": "dgVk6T3Uah64"
      },
      "outputs": [],
      "source": [
        "stop_words = set(stopwords.words('english'))\n",
        "symbols = set([\",\",\".\",\"/\",\"#\",\"*\",\"(\",\")\",\"?\",\"+\",\"=\",\":\",\";\",\"%\",\"[\", \"]\"])\n",
        "song_specific = set([\"chorus\", \"repeat\", \"verse\", \"oh\", \"ooh\", \"ah\", \"aah\"])\n",
        "\n",
        "def check_if_not_to_be_removed(token:str):\n",
        "  return (not token.lower() in stop_words) and (not token.lower() in symbols) and (not token.lower() in song_specific) and (not any(char.isdigit() for char in token)) and (not \"'\" in token)\n",
        "\n",
        "def clean_lyrics(lyrics:str):\n",
        "  tokenized_lyrics = word_tokenize(lyrics)\n",
        "  # tokenized_lyrics = lyrics.split()\n",
        "  filtered_lyrics = [w for w in tokenized_lyrics if check_if_not_to_be_removed(w)]\n",
        "\n",
        "  lyrics_concat=\"\"\n",
        "  for token in filtered_lyrics:\n",
        "    lyrics_concat+=f\" {token} \"\n",
        "\n",
        "  return lyrics_concat"
      ]
    },
    {
      "cell_type": "code",
      "execution_count": 101,
      "metadata": {
        "id": "f8RyFbtXa7ya"
      },
      "outputs": [],
      "source": [
        "def estimate_genre(model, song_lyrics):\n",
        "  filtered_lyrics = clean_lyrics(song_lyrics)\n",
        "\n",
        "  print(f\"Filtered lyrics: {filtered_lyrics}\")\n",
        "\n",
        "  embedding = get_lyrics_embedding(filtered_lyrics)\n",
        "  print(embedding)\n",
        "  prediction = model(torch.tensor(embedding, dtype=torch.float32))\n",
        "\n",
        "  value, genre = torch.max(prediction, 1)\n",
        "\n",
        "  for key,item in genre_to_index.items():\n",
        "    if genre == item:\n",
        "      return key\n",
        "\n",
        "  return -1\n"
      ]
    },
    {
      "cell_type": "code",
      "execution_count": 102,
      "metadata": {
        "id": "mN4g-Xe0bilE"
      },
      "outputs": [
        {
          "name": "stdout",
          "output_type": "stream",
          "text": [
            "Filtered lyrics:  dance  jive  time  life  see  girl  Watch  scene  Digging  dancing  queen  Friday  night  lights  low  Looking  place  go  play  right  music  Getting  swing  come  look  king  Anybody  could  guy  Night  young  music  high  bit  rock  music  Everything  fine  mood  dance  get  chance  dancing  queen  Young  sweet  seventeen  Dancing  queen  Feel  beat  tambourine  yeah  dance  jive  time  life  see  girl  Watch  scene  Digging  dancing  queen  teaser  turn  Leave  burning  gone  Looking  another  Anyone  mood  dance  get  chance  dancing  queen  Young  sweet  seventeen  Dancing  queen  Feel  beat  tambourine  yeah  dance  jive  time  life  see  girl  Watch  scene  Digging  dancing  queen  Digging  dancing  queen \n",
            "[[-2.22006328e-02 -9.39148664e-02  3.59825827e-02 -8.37531406e-04\n",
            "  -3.28827985e-02 -1.59182400e-02  6.45272713e-03  1.61068104e-02\n",
            "   4.72730957e-02  1.38637302e-02 -4.93043773e-02 -1.01293493e-02\n",
            "  -3.43856849e-02  2.04595700e-02  4.55711596e-02 -3.62853855e-02\n",
            "   3.90170775e-02 -8.76479819e-02 -2.14412399e-02  5.82645610e-02\n",
            "  -9.80159640e-03 -3.03240418e-02 -7.16139935e-03  4.23107371e-02\n",
            "   9.48991440e-03  1.54189486e-02  2.51621064e-02  1.61997695e-02\n",
            "   3.80906500e-02  2.68839225e-02  5.04113827e-03  1.48809217e-02\n",
            "  -3.96838188e-02 -6.20255955e-02  2.62247659e-02  1.59628876e-02\n",
            "  -5.02024917e-03  1.59121864e-02  4.11315076e-02 -2.34684367e-02\n",
            "  -4.34220657e-02  2.71897833e-03  1.43961646e-02  2.80942731e-02\n",
            "  -1.02597669e-01 -5.08617833e-02 -9.90413427e-02  1.54827945e-02\n",
            "  -1.45423207e-02  3.71410176e-02 -4.94821481e-02  2.68485043e-02\n",
            "  -2.83089071e-03  2.67585889e-02 -9.77384299e-03  6.39249161e-02\n",
            "   3.50991674e-02  2.74304189e-02 -5.61286323e-02  1.31138721e-02\n",
            "   2.71571521e-02  4.01277617e-02 -4.88960557e-03  1.11868694e-01\n",
            "  -3.15352045e-02  2.27271337e-02 -3.99758406e-02 -3.76509279e-02\n",
            "  -3.52776088e-02  5.56209031e-03  6.32716250e-03 -3.13837565e-02\n",
            "  -5.16536385e-02  7.60932872e-03  5.39252814e-03 -5.18822623e-03\n",
            "  -2.07161717e-02 -8.51569511e-03  7.45059922e-02  5.80081542e-04\n",
            "   6.84161782e-02  6.42480254e-02 -3.48559283e-02  7.51625597e-02\n",
            "   1.22688599e-02 -1.43987937e-02 -5.42104291e-03  1.04858419e-02\n",
            "   1.49146495e-02 -2.88242404e-03 -4.44989800e-02 -2.63923835e-02\n",
            "   6.21994995e-02  3.57965603e-02 -2.48179529e-02  6.17338754e-02\n",
            "   5.17369360e-02  3.90224457e-02  8.14911723e-03 -4.71063592e-02\n",
            "   1.73807107e-02 -5.38962719e-04 -5.76284900e-02  4.25166264e-02\n",
            "  -6.51492551e-02 -8.15889835e-02 -3.15649956e-02 -7.00259283e-02\n",
            "  -2.53916867e-02  3.86186540e-02  1.18435896e-03 -2.56354790e-02\n",
            "   8.10183063e-02 -1.11265518e-02  1.35398312e-02  3.15026231e-02\n",
            "   4.65320516e-03 -2.11572181e-02  3.19932997e-02 -9.84441303e-03\n",
            "   4.58909757e-03 -7.09970742e-02  7.53282569e-03  3.59007157e-02\n",
            "   1.50297927e-02  3.04102208e-02 -2.14995276e-02  3.77616696e-02\n",
            "   5.81867658e-02  1.81333702e-02  3.18684876e-02 -3.06615457e-02\n",
            "  -2.69965231e-02 -1.25573250e-02 -4.48766761e-02  9.42959357e-03\n",
            "  -4.95281406e-02 -6.11988176e-03 -7.50664854e-03 -2.02054083e-02\n",
            "  -2.58880481e-02  5.68115935e-02 -1.78412087e-02  4.05938970e-03\n",
            "  -3.46704461e-02  3.13683525e-02 -4.68716323e-02  2.22859991e-04\n",
            "  -3.60360108e-02  7.67247602e-02  2.80975625e-02 -4.76692282e-02\n",
            "   4.11846191e-02 -2.58873329e-02 -2.73094531e-02 -4.94300090e-02\n",
            "   2.07677018e-02 -4.99029830e-03  4.52201739e-02  1.67501271e-02\n",
            "   1.06123025e-02 -1.53754931e-02 -8.18679575e-03 -2.28130948e-02\n",
            "  -4.17928509e-02  6.97376579e-02  2.00563334e-02 -1.16931032e-02\n",
            "   2.06872746e-02 -1.25405239e-02  1.20855933e-02  1.03523061e-02\n",
            "   2.79700849e-02  2.76313592e-02  3.64154577e-02  2.02525780e-02\n",
            "  -2.97856070e-02  6.17376901e-03 -3.96356452e-03 -5.88840572e-03\n",
            "  -2.98941322e-02 -1.05055226e-02 -4.55766767e-02  6.75113872e-02\n",
            "   9.33489203e-03 -1.03535771e-03 -1.75643172e-02 -1.22801363e-01\n",
            "  -2.44999304e-02 -4.20731194e-02 -6.19011633e-02 -9.49355680e-03\n",
            "   2.19466630e-02  4.24525440e-02  4.67766300e-02  4.09650430e-02\n",
            "   1.26479464e-02  1.52506297e-02 -4.16625366e-02 -7.17599411e-03\n",
            "   2.08072439e-02 -1.49768936e-02  1.73919294e-02 -2.03659618e-03\n",
            "   6.96245879e-02 -4.41432260e-02  3.06609310e-02  1.56985000e-02\n",
            "  -5.64054623e-02 -3.08170151e-02 -5.06583601e-02  1.63096841e-02\n",
            "  -1.64263137e-02  4.17064428e-02 -2.63380595e-02  1.34492181e-02\n",
            "   5.72830327e-02  5.33777475e-03  4.79406901e-02  3.31916730e-03\n",
            "   2.13326234e-03  3.08501795e-02 -3.14604267e-02  4.75697704e-02\n",
            "  -9.27222706e-03  7.18704564e-03  4.88250069e-02 -1.30720222e-02\n",
            "  -2.78470851e-02 -1.59388259e-02  4.38509956e-02 -2.17947923e-02\n",
            "  -3.63370404e-02  3.47322877e-03 -1.46569256e-02 -8.12618155e-03\n",
            "   2.00502668e-03 -4.19600345e-02  5.38596250e-02  8.87107570e-03\n",
            "  -1.39902225e-02 -1.27145229e-02 -6.19996106e-03 -1.03436923e-02\n",
            "   1.20081205e-03 -4.34642471e-02 -2.03330163e-02  2.77176108e-02\n",
            "   4.87601571e-03  2.11464912e-02  6.29999489e-02 -4.73910719e-02\n",
            "   3.54744010e-02 -3.64375906e-03 -2.59654168e-02 -4.01122309e-02\n",
            "   5.77169750e-03  4.51701470e-02  5.06244861e-02  1.83935221e-02\n",
            "  -4.05659303e-02  8.57904181e-03  3.18189561e-02  4.16278355e-02\n",
            "   3.06446347e-02 -5.50939105e-02 -2.86525376e-02  4.08911780e-02\n",
            "   8.72928277e-03  3.70236933e-02  2.81202234e-03 -5.63122891e-02\n",
            "  -3.04771811e-02 -3.29925232e-02  9.21247620e-03 -2.74582952e-02\n",
            "  -9.31312912e-04 -7.62909353e-02 -3.36476862e-02  1.62668470e-02\n",
            "   2.63974722e-02  4.04660916e-03 -8.71794950e-03  1.59978587e-02\n",
            "  -5.35627641e-02 -3.94631885e-02 -1.91844758e-02  3.84417735e-02\n",
            "  -4.73505221e-02  3.89511250e-02  3.56988213e-03  6.94525912e-02\n",
            "  -3.95102054e-02 -3.08458060e-02  4.54206346e-03 -4.11778316e-02\n",
            "  -4.20811996e-02  1.88294202e-02  1.63738728e-02  4.29026410e-02\n",
            "  -3.43739614e-03 -1.49924308e-02 -3.58362161e-02  1.35602364e-02\n",
            "   6.99477047e-02 -6.42432049e-02  8.97855591e-03 -5.89195155e-02\n",
            "  -1.07690934e-02 -1.84428170e-02  3.28376368e-02  3.21651213e-02\n",
            "   6.59415405e-03  6.07325956e-02  3.79805975e-02  1.66326687e-02\n",
            "  -8.61193798e-03  7.12602884e-02 -7.31308619e-03 -1.41943069e-02\n",
            "  -3.97640839e-02  2.09992798e-03 -1.13810012e-02 -7.15341270e-02\n",
            "  -1.83806960e-02  5.33739999e-02  1.33659672e-02 -4.50364640e-03\n",
            "  -1.02270439e-01  1.04188072e-02 -5.50926141e-02 -3.17323133e-02\n",
            "  -8.75076372e-03 -4.52856012e-02 -1.84728913e-02 -4.11476158e-02\n",
            "  -7.63330795e-03 -8.77898838e-03  1.29301613e-02  1.05294194e-02\n",
            "   1.63963418e-02  3.04340404e-02 -3.63516472e-02  2.76590372e-03\n",
            "  -1.42902567e-03  3.23217064e-02 -1.71543080e-02  7.84563366e-03\n",
            "  -1.34331612e-02 -4.68206331e-02  2.87061371e-02 -1.14646945e-02\n",
            "   2.54690368e-02  1.94782263e-03 -1.91817619e-02 -4.87934910e-02\n",
            "  -1.33940289e-02 -2.83010975e-02  1.32961478e-02 -4.07729782e-02\n",
            "   2.69956794e-03  6.73870444e-02  4.02362086e-03  1.81380454e-02\n",
            "  -5.57424426e-02  9.38373804e-03 -1.45382248e-02 -3.85932922e-02\n",
            "   2.01324709e-02  2.70646848e-02  4.40967865e-02  3.54079588e-04\n",
            "  -2.15399545e-02  1.41954385e-02 -1.00823836e-02 -6.07500263e-02\n",
            "  -2.88375188e-02  1.30707994e-02  1.06906500e-02 -4.54761796e-02\n",
            "  -5.57893375e-03 -7.90954288e-03 -8.39503929e-02  1.33127794e-02\n",
            "   1.83222927e-02 -1.24110192e-01  8.56399722e-03  2.76426505e-03\n",
            "  -5.83148077e-02 -4.30896841e-02  4.92902100e-03 -3.04395482e-02\n",
            "   1.63964275e-02  1.63362157e-02  6.05189539e-02 -2.29614470e-02\n",
            "  -4.38654497e-02  5.64902015e-02 -4.42818440e-02  6.41261339e-02\n",
            "  -3.46443802e-02  2.67072730e-02  4.07398716e-02 -2.71080825e-02\n",
            "   1.20707033e-02 -8.90222471e-03  8.36056322e-02 -8.10364559e-02\n",
            "  -3.88790667e-02  1.83791183e-02  6.70355884e-03  2.59076525e-02\n",
            "  -4.61765118e-02 -1.70043111e-02  3.59222703e-02  9.24567599e-03\n",
            "   3.32433358e-02 -8.38944912e-02  3.24293934e-02 -1.17142731e-02\n",
            "   3.55981216e-02  1.74015202e-03 -8.63913167e-03 -9.49224457e-03\n",
            "   3.74433631e-03  2.15666904e-03 -1.98537372e-02 -8.43093321e-02\n",
            "  -4.03133258e-02 -7.77874961e-02  5.14291190e-02  2.34351028e-02\n",
            "  -4.60163020e-02  5.01843654e-02 -6.14155410e-03 -3.90839204e-02\n",
            "   2.76489705e-02  2.66058035e-02 -8.47003236e-03 -1.73283424e-02\n",
            "  -4.34367396e-02 -5.66051016e-03 -3.52811404e-02  2.97431853e-02\n",
            "  -3.13949622e-02 -4.94708540e-03 -4.46277633e-02  8.71953089e-03\n",
            "   6.28058612e-03  2.42775660e-02  2.19438337e-02 -3.70693877e-02\n",
            "  -5.85689850e-05 -3.52292992e-02  2.40523890e-02 -7.65497163e-02\n",
            "   4.08213288e-02  1.61031634e-02 -3.65495756e-02 -2.57459693e-02\n",
            "  -6.36076136e-03 -8.40358064e-03  5.46316579e-02  5.21019697e-02\n",
            "   2.17024311e-02  1.55585967e-02  1.01438323e-02  2.47676037e-02\n",
            "   6.82524368e-02  3.54590379e-02  1.13506764e-02  3.93774696e-02\n",
            "  -1.97278485e-02 -6.21741563e-02  3.57308835e-02 -9.99112613e-03\n",
            "   5.07572889e-02 -8.16894136e-03 -1.43321212e-02 -1.78275295e-02\n",
            "   8.18830635e-03  5.18952757e-02  1.35980304e-02  1.10428371e-02\n",
            "   1.60258077e-02  2.49526314e-02  4.67418619e-02 -2.23800819e-02\n",
            "   1.88429058e-02 -3.77357416e-02 -2.42563933e-02 -3.99137028e-02\n",
            "  -2.38371417e-02 -1.52206952e-02  2.44213194e-02 -5.75140072e-03\n",
            "  -4.28473391e-02 -4.08567525e-02  6.65768087e-02 -2.76402049e-02\n",
            "   2.85842270e-02  2.15269206e-03 -6.71692044e-02  3.08119394e-02\n",
            "  -6.89761573e-03  2.20315089e-03 -1.01658516e-02  3.25553790e-02\n",
            "   6.03086576e-02 -3.69569808e-02  1.98540911e-02  3.18283811e-02\n",
            "   6.03043102e-02 -8.10851634e-04 -4.12779301e-03 -2.01865323e-02\n",
            "  -7.02132881e-02  1.52334059e-03  4.39057965e-03 -4.86527663e-03\n",
            "  -1.69459991e-02  2.96239438e-03 -3.85473706e-02 -3.62700671e-02\n",
            "   1.83324944e-02 -5.11442609e-02 -8.27450398e-03  1.78188514e-02\n",
            "   6.97461069e-02  5.73245548e-02 -4.80681621e-02  7.65711535e-03\n",
            "   2.99925543e-02 -3.35189216e-02 -5.56687126e-03  4.84072529e-02\n",
            "  -4.00427654e-02 -4.78534214e-02 -1.22136371e-02 -6.82861963e-03\n",
            "   4.01723683e-02 -5.30032553e-02 -1.44834751e-02 -2.56444458e-02\n",
            "   2.38474663e-02  7.78684691e-02  3.60645950e-02  1.57469697e-02\n",
            "   4.21748571e-02 -6.96237432e-03  4.54359390e-02  1.30858663e-02\n",
            "  -1.16016073e-02  3.81650850e-02 -4.10687067e-02  1.47345383e-02\n",
            "  -6.73813224e-02  3.13446671e-02  2.25593522e-02  1.77579354e-02\n",
            "  -3.03188507e-02  2.05431338e-02 -8.28853250e-02  3.00883502e-02\n",
            "  -2.43360791e-02  3.12431739e-03 -1.12457443e-02 -1.27481418e-02\n",
            "  -4.68883291e-02  1.88130010e-02  8.64543319e-02 -4.30942439e-02\n",
            "  -6.71961382e-02  2.04013344e-02 -2.99976971e-02  1.33222807e-02\n",
            "   8.57921317e-03 -3.63677926e-02  6.95014047e-03 -3.17837335e-02\n",
            "   8.13501608e-03  1.79068036e-02  1.13766349e-03 -1.34254619e-02\n",
            "   5.31540997e-02 -6.50995993e-04 -1.65608786e-02 -1.01580406e-02\n",
            "   2.41623893e-02  4.68664430e-02 -1.87111180e-02 -6.84107617e-02\n",
            "  -2.41440479e-02  1.11503492e-03  6.19622506e-03  4.57334667e-02\n",
            "  -8.13913159e-03 -1.92967970e-02 -3.19689363e-02 -1.42900145e-03\n",
            "  -1.06355827e-02  4.31131478e-03 -2.44925879e-02 -4.83743846e-02\n",
            "   8.35345779e-03 -1.11993633e-01  9.29691643e-03 -7.54255394e-04\n",
            "   6.76580518e-02 -2.71482915e-02 -2.07126364e-02 -7.57077634e-02\n",
            "   4.70046289e-02  3.31104361e-02  7.92537443e-03  1.38173597e-02\n",
            "  -2.04229336e-02  1.23838047e-02 -1.21070230e-02 -8.93174857e-02\n",
            "   2.95108445e-02  5.62265329e-03  1.90806389e-02 -8.02162811e-02\n",
            "  -6.14295229e-02 -3.78159666e-03  8.54021590e-03 -4.28420305e-02\n",
            "   4.73154113e-02 -1.19767366e-02  5.15673729e-03  1.11407693e-02\n",
            "   2.97190733e-02  1.35630770e-02 -6.64048223e-03  2.43049879e-02\n",
            "   4.21043672e-02  5.89420684e-02  7.40576477e-04 -2.05346756e-02\n",
            "  -6.72941515e-03  1.53716607e-02 -5.21381327e-04 -8.24723169e-02\n",
            "  -3.77034806e-02  2.75354851e-02  7.33229294e-02  1.87511388e-02\n",
            "  -7.03630690e-03 -1.53925344e-02 -5.22650033e-02 -2.97151096e-02\n",
            "  -1.18979421e-02 -2.53321677e-02 -2.20867945e-03 -4.88204649e-03\n",
            "   3.35024856e-02 -4.05947538e-03  1.42153446e-02  1.31971259e-02\n",
            "  -2.83707026e-03 -7.36751631e-02 -2.12862547e-02  3.67942150e-03\n",
            "  -3.26330215e-02 -6.29256144e-02  4.30738479e-02 -1.97804943e-02\n",
            "  -3.78693156e-02  4.91849286e-03  7.26174098e-03  1.48224076e-02\n",
            "  -1.40289050e-02 -2.19014380e-02  3.26745808e-02 -1.47877764e-02\n",
            "  -2.30297018e-02 -6.63412958e-02  6.41893446e-02  1.93084981e-02\n",
            "  -5.21555059e-02 -1.79757178e-02 -2.89669149e-02 -1.26659870e-02\n",
            "  -2.35829479e-03  8.75669196e-02  2.33738311e-02 -3.53684202e-02\n",
            "  -2.26202831e-02  8.09963420e-03  2.41518132e-02 -1.67948939e-02\n",
            "  -1.71072353e-02 -6.45426614e-03 -1.20691741e-02  7.06220791e-03\n",
            "   1.85751251e-03 -3.49538587e-02  2.63062157e-02  6.96589053e-02\n",
            "  -2.36638933e-02 -1.78680494e-02  2.87869107e-02  2.37150565e-02\n",
            "  -2.91463528e-02  9.78414714e-03  1.99245028e-02 -2.41177958e-02\n",
            "   5.63968644e-02  4.57588807e-02 -1.49247842e-03  1.05644576e-04\n",
            "  -7.00837979e-03  1.89183857e-02 -2.35173348e-02  3.04744355e-02\n",
            "   7.23435776e-03 -6.01279475e-02  4.29532751e-02 -9.04021971e-03\n",
            "  -5.94882527e-03  1.97403617e-02  7.43807713e-03 -9.51389782e-03\n",
            "   7.39627406e-02  3.23234424e-02  2.27985345e-02 -1.52546465e-02\n",
            "   2.56871879e-02  2.22005881e-02 -3.45709105e-03  6.04283251e-03\n",
            "  -1.19465236e-02  4.60366271e-02 -6.80093095e-03 -7.38151313e-04\n",
            "   8.43834355e-02  1.90602839e-02  3.15560959e-02 -1.73590723e-02\n",
            "  -5.33854812e-02 -4.61210236e-02  4.96574454e-02  1.77116822e-02\n",
            "   5.29311015e-04 -1.02683313e-01 -8.29628855e-03 -1.01974327e-02\n",
            "   1.71608999e-02  4.83614281e-02 -2.87280977e-02  5.61795663e-03\n",
            "  -1.43220453e-02 -4.33026301e-03 -6.10315539e-02 -1.13411732e-02\n",
            "   5.44961775e-04  2.39571254e-03  1.65601820e-02  2.26114132e-02\n",
            "   1.68095287e-02 -6.14204817e-02  6.93674535e-02  5.74861141e-03\n",
            "   3.37473191e-02  2.37303935e-02 -7.04325214e-02  3.96766476e-02]]\n",
            "pop\n"
          ]
        }
      ],
      "source": [
        "lyrics=\"Ooh You can dance You can jive Having the time of your life Ooh, see that girl Watch that scene Digging the dancing queen Friday night and the lights are low Looking out for a place to go Where they play the right music Getting in the swing You come to look for a king Anybody could be that guy Night is young and the music's high With a bit of rock music Everything is fine You're in the mood for a dance And when you get the chance You are the dancing queen Young and sweet Only seventeen Dancing queen Feel the beat from the tambourine, oh yeah You can dance You can jive Having the time of your life Ooh, see that girl Watch that scene Digging the dancing queen You're a teaser, you turn 'em on Leave 'em burning and then you're gone Looking out for another Anyone will do You're in the mood for a dance And when you get the chance You are the dancing queen Young and sweet Only seventeen Dancing queen Feel the beat from the tambourine, oh yeah You can dance You can jive Having the time of your life Ooh, see that girl Watch that scene Digging the dancing queen Digging the dancing queen\"\n",
        "print(estimate_genre(guesser, lyrics))"
      ]
    },
    {
      "cell_type": "code",
      "execution_count": 96,
      "metadata": {
        "id": "fNs-Uo6He_rE"
      },
      "outputs": [
        {
          "name": "stdout",
          "output_type": "stream",
          "text": [
            "Filtered lyrics:  Half  past  twelve  watchin  late  show  flat  alone  hate  spend  evening  Autumn  winds  Blowin  outside  window  look  around  room  makes  depressed  see  gloom  soul  one  hear  prayer  Gim  gim  gim  man  midnight  Wo  somebody  help  chase  shadows  away  Gim  gim  gim  man  midnight  Take  darkness  break  day  Movie  stars  Find  end  rainbow  fortune  win  different  world  living  Tired  TV  open  window  gaze  night  nothing  see  one  sight  soul  one  hear  prayer  Gim  gim  gim  man  midnight  Wo  somebody  help  chase  shadows  away  Gim  gim  gim  man  midnight  Take  darkness  break  day  Gim  gim  gim  man  midnight  Gim  gim  gim  man  midnight  soul  one  hear  prayer  Gim  gim  gim  man  midnight  Wo  somebody  help  chase  shadows  away  Gim  gim  gim  man  midnight  Take  darkness  break  day  Gim  gim  gim  man  midnight  Wo  somebody  help  chase  shadows  away  Gim  gim  gim  man  midnight  Take  darkness  break  day \n",
            "reggae\n"
          ]
        }
      ],
      "source": [
        "lyrics=\"Half past twelve And I'm watchin' the late show in my flat, all alone How I hate to spend the evening on my own Autumn winds Blowin' outside the window as I look around the room And it makes me so depressed to see the gloom There's not a soul out there No one to hear my prayer Gimme, gimme, gimme a man after midnight Won't somebody help me chase these shadows away? Gimme, gimme, gimme a man after midnight Take me through the darkness to the break of the day Movie stars Find the end of the rainbow with a fortune to win It's so different from the world I'm living in Tired of TV I open the window and I gaze into the night But there's nothing there to see, no one in sight There's not a soul out there No one to hear my prayer Gimme, gimme, gimme a man after midnight Won't somebody help me chase these shadows away? Gimme, gimme, gimme a man after midnight Take me through the darkness to the break of the day Gimme, gimme, gimme a man after midnight Gimme, gimme, gimme a man after midnight There's not a soul out there No one to hear my prayer Gimme, gimme, gimme a man after midnight Won't somebody help me chase these shadows away? Gimme, gimme, gimme a man after midnight Take me through the darkness to the break of the day Gimme, gimme, gimme a man after midnight Won't somebody help me chase these shadows away? Gimme, gimme, gimme a man after midnight Take me through the darkness to the break of the day\"\n",
        "print(estimate_genre(guesser, lyrics))"
      ]
    },
    {
      "cell_type": "code",
      "execution_count": 97,
      "metadata": {
        "id": "wydBqDgP8Ibu"
      },
      "outputs": [
        {
          "name": "stdout",
          "output_type": "stream",
          "text": [
            "Filtered lyrics:  take  life  take  fire  musket  run  waiting  next  attack  better  stand  turning  back  bugle  sounds  charge  begins  battlefield  one  wins  smell  acrid  smoke  horses  breath  plunge  certain  death  horse  sweats  fear  break  run  mighty  roar  Russian  guns  race  towards  human  wall  screams  pain  comrades  fall  hurdle  bodies  lay  ground  Russians  fire  another  round  get  near  yet  far  away  wo  live  fight  another  day  get  close  near  enough  fight  Russian  gets  sights  pulls  trigger  feel  blow  burst  rounds  take  horse  lay  gazing  sky  body  numb  throat  dry  lay  forgotten  alone  Without  tear  draw  parting  groan \n",
            "pop\n"
          ]
        }
      ],
      "source": [
        "lyrics=\"You'll take my life but I'll take yours, too You'll fire your musket but I'll run you through So when you're waiting for the next attack You'd better stand, there's no turning back The bugle sounds, the charge begins But on this battlefield, no one wins The smell of acrid smoke and horses' breath As I plunge on into certain death Oh Oh The horse he sweats with fear, we break to run The mighty roar of the Russian guns And as we race towards the human wall The screams of pain as my comrades fall We hurdle bodies that lay on the ground And the Russians fire another round We get so near yet so far away We won't live to fight another day Oh Oh We get so close, near enough to fight When a Russian gets me in his sights He pulls the trigger and I feel the blow A burst of rounds take my horse below And as I lay there gazing at the sky My body's numb and my throat is dry And as I lay forgotten and alone Without a tear I draw my parting groan Oh Oh\"\n",
        "print(estimate_genre(guesser, lyrics))"
      ]
    },
    {
      "cell_type": "code",
      "execution_count": 98,
      "metadata": {},
      "outputs": [
        {
          "name": "stdout",
          "output_type": "stream",
          "text": [
            "Filtered lyrics:  waited  come  alone  arrived  Please  stay  awhile  promise  wo  keep  long  keep  forever  forever  forever  forever  Graze  skin  fingertips  brush  dead  cold  flesh  appease  means  Provoking  images  delicate  features  smooth  pleasant  fragrance  light  moon  Dance  dead  dreams  Listen  hallowed  screams  dead  taken  soul  Temptation  lost  control  Simple  smiles  elude  psychotic  eyes  Lose  mind  control  rationale  declines  Empty  eyes  enslave  creations  placid  faces  lifeless  pageants  depths  mind  insane  Fantasy  reality  Graze  skin  fingertips  brush  dead  warm  flesh  pacifies  means  Incised  members  ornaments  Adulating  skin  Simple  smiles  elude  psychotic  eyes  Lose  mind  control  rationale  declines  Empty  eyes  enslave  creations  placid  faces  lifeless  pageants  Dance  dead  dreams  Hello  Hello  Mr  Gein  Listen  hallowed  screams  Mr  Gein  dead  taken  soul  let  Mr.  Gein  Temptation  lost  control  Mr.  Gein  want  play  anymore  Mr.  Gein  Dance  dead  dreams  Mr.  Gein  fun  anymore  Listen  hallowed  screams  wan  na  play  anymore  Mr.  Gein  Mr  Gein  dead  taken  soul  want  Mr.  Gein  Temptation  lost  control  let \n",
            "pop\n"
          ]
        }
      ],
      "source": [
        "lyrics=\"How I've waited for you to come I've been here all alone Now that you've arrived Please stay awhile And I promise I won't keep you long I'll keep you forever (forever, forever, forever) Graze the skin with my fingertips The brush of dead, cold flesh appease the means Provoking images, delicate features so smooth A pleasant fragrance in the light of the moon Dance with the dead in my dreams Listen to their hallowed screams The dead have taken my soul Temptation's lost all control Simple smiles elude psychotic eyes Lose all mind control, rationale declines Empty eyes enslave the creations Of placid faces and lifeless pageants In the depths of a mind insane Fantasy and reality are the same Graze the skin with my fingertips The brush of dead, warm flesh pacifies the means Incised members ornaments on my being Adulating the skin before me Simple smiles elude psychotic eyes Lose all mind control, rationale declines Empty eyes enslave the creations Of placid faces and lifeless pageants Dance with the dead in my dreams (Hello? Hello, Mr. Gein?) Listen to their hallowed screams (Mr. Gein?) The dead have taken my soul (let me out of here, Mr. Gein) Temptation's lost all control (Mr. Gein? I don't want to play anymore, Mr. Gein) Dance with the dead in my dreams (Mr. Gein, this isn't fun anymore) Listen to their hallowed screams (I don't wanna play anymore, Mr. Gein, Mr. Gein?) The dead have taken my soul (I want out of here, Mr. Gein) Temptation's lost all control (let me out now)\"\n",
        "print(estimate_genre(guesser, lyrics))"
      ]
    }
  ],
  "metadata": {
    "accelerator": "GPU",
    "colab": {
      "gpuType": "T4",
      "provenance": []
    },
    "kernelspec": {
      "display_name": ".venv",
      "language": "python",
      "name": "python3"
    },
    "language_info": {
      "codemirror_mode": {
        "name": "ipython",
        "version": 3
      },
      "file_extension": ".py",
      "mimetype": "text/x-python",
      "name": "python",
      "nbconvert_exporter": "python",
      "pygments_lexer": "ipython3",
      "version": "3.10.12"
    }
  },
  "nbformat": 4,
  "nbformat_minor": 0
}
