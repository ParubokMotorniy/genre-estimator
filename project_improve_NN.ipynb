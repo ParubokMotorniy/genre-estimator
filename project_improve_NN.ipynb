{
  "cells": [
    {
      "cell_type": "code",
      "execution_count": null,
      "metadata": {
        "colab": {
          "base_uri": "https://localhost:8080/"
        },
        "id": "1_JSQ2q3IzLi",
        "outputId": "992d3736-a2c9-4c38-ebb3-c1a7d94fe9d9"
      },
      "outputs": [
        {
          "output_type": "stream",
          "name": "stdout",
          "text": [
            "Requirement already satisfied: torch in /usr/local/lib/python3.10/dist-packages (2.5.0+cu121)\n",
            "Requirement already satisfied: filelock in /usr/local/lib/python3.10/dist-packages (from torch) (3.16.1)\n",
            "Requirement already satisfied: typing-extensions>=4.8.0 in /usr/local/lib/python3.10/dist-packages (from torch) (4.12.2)\n",
            "Requirement already satisfied: networkx in /usr/local/lib/python3.10/dist-packages (from torch) (3.4.2)\n",
            "Requirement already satisfied: jinja2 in /usr/local/lib/python3.10/dist-packages (from torch) (3.1.4)\n",
            "Requirement already satisfied: fsspec in /usr/local/lib/python3.10/dist-packages (from torch) (2024.10.0)\n",
            "Requirement already satisfied: sympy==1.13.1 in /usr/local/lib/python3.10/dist-packages (from torch) (1.13.1)\n",
            "Requirement already satisfied: mpmath<1.4,>=1.1.0 in /usr/local/lib/python3.10/dist-packages (from sympy==1.13.1->torch) (1.3.0)\n",
            "Requirement already satisfied: MarkupSafe>=2.0 in /usr/local/lib/python3.10/dist-packages (from jinja2->torch) (3.0.2)\n",
            "Requirement already satisfied: transformers in /usr/local/lib/python3.10/dist-packages (4.44.2)\n",
            "Requirement already satisfied: filelock in /usr/local/lib/python3.10/dist-packages (from transformers) (3.16.1)\n",
            "Requirement already satisfied: huggingface-hub<1.0,>=0.23.2 in /usr/local/lib/python3.10/dist-packages (from transformers) (0.24.7)\n",
            "Requirement already satisfied: numpy>=1.17 in /usr/local/lib/python3.10/dist-packages (from transformers) (1.26.4)\n",
            "Requirement already satisfied: packaging>=20.0 in /usr/local/lib/python3.10/dist-packages (from transformers) (24.1)\n",
            "Requirement already satisfied: pyyaml>=5.1 in /usr/local/lib/python3.10/dist-packages (from transformers) (6.0.2)\n",
            "Requirement already satisfied: regex!=2019.12.17 in /usr/local/lib/python3.10/dist-packages (from transformers) (2024.9.11)\n",
            "Requirement already satisfied: requests in /usr/local/lib/python3.10/dist-packages (from transformers) (2.32.3)\n",
            "Requirement already satisfied: safetensors>=0.4.1 in /usr/local/lib/python3.10/dist-packages (from transformers) (0.4.5)\n",
            "Requirement already satisfied: tokenizers<0.20,>=0.19 in /usr/local/lib/python3.10/dist-packages (from transformers) (0.19.1)\n",
            "Requirement already satisfied: tqdm>=4.27 in /usr/local/lib/python3.10/dist-packages (from transformers) (4.66.6)\n",
            "Requirement already satisfied: fsspec>=2023.5.0 in /usr/local/lib/python3.10/dist-packages (from huggingface-hub<1.0,>=0.23.2->transformers) (2024.10.0)\n",
            "Requirement already satisfied: typing-extensions>=3.7.4.3 in /usr/local/lib/python3.10/dist-packages (from huggingface-hub<1.0,>=0.23.2->transformers) (4.12.2)\n",
            "Requirement already satisfied: charset-normalizer<4,>=2 in /usr/local/lib/python3.10/dist-packages (from requests->transformers) (3.4.0)\n",
            "Requirement already satisfied: idna<4,>=2.5 in /usr/local/lib/python3.10/dist-packages (from requests->transformers) (3.10)\n",
            "Requirement already satisfied: urllib3<3,>=1.21.1 in /usr/local/lib/python3.10/dist-packages (from requests->transformers) (2.2.3)\n",
            "Requirement already satisfied: certifi>=2017.4.17 in /usr/local/lib/python3.10/dist-packages (from requests->transformers) (2024.8.30)\n",
            "Requirement already satisfied: accelerate in /usr/local/lib/python3.10/dist-packages (0.34.2)\n",
            "Requirement already satisfied: numpy<3.0.0,>=1.17 in /usr/local/lib/python3.10/dist-packages (from accelerate) (1.26.4)\n",
            "Requirement already satisfied: packaging>=20.0 in /usr/local/lib/python3.10/dist-packages (from accelerate) (24.1)\n",
            "Requirement already satisfied: psutil in /usr/local/lib/python3.10/dist-packages (from accelerate) (5.9.5)\n",
            "Requirement already satisfied: pyyaml in /usr/local/lib/python3.10/dist-packages (from accelerate) (6.0.2)\n",
            "Requirement already satisfied: torch>=1.10.0 in /usr/local/lib/python3.10/dist-packages (from accelerate) (2.5.0+cu121)\n",
            "Requirement already satisfied: huggingface-hub>=0.21.0 in /usr/local/lib/python3.10/dist-packages (from accelerate) (0.24.7)\n",
            "Requirement already satisfied: safetensors>=0.4.3 in /usr/local/lib/python3.10/dist-packages (from accelerate) (0.4.5)\n",
            "Requirement already satisfied: filelock in /usr/local/lib/python3.10/dist-packages (from huggingface-hub>=0.21.0->accelerate) (3.16.1)\n",
            "Requirement already satisfied: fsspec>=2023.5.0 in /usr/local/lib/python3.10/dist-packages (from huggingface-hub>=0.21.0->accelerate) (2024.10.0)\n",
            "Requirement already satisfied: requests in /usr/local/lib/python3.10/dist-packages (from huggingface-hub>=0.21.0->accelerate) (2.32.3)\n",
            "Requirement already satisfied: tqdm>=4.42.1 in /usr/local/lib/python3.10/dist-packages (from huggingface-hub>=0.21.0->accelerate) (4.66.6)\n",
            "Requirement already satisfied: typing-extensions>=3.7.4.3 in /usr/local/lib/python3.10/dist-packages (from huggingface-hub>=0.21.0->accelerate) (4.12.2)\n",
            "Requirement already satisfied: networkx in /usr/local/lib/python3.10/dist-packages (from torch>=1.10.0->accelerate) (3.4.2)\n",
            "Requirement already satisfied: jinja2 in /usr/local/lib/python3.10/dist-packages (from torch>=1.10.0->accelerate) (3.1.4)\n",
            "Requirement already satisfied: sympy==1.13.1 in /usr/local/lib/python3.10/dist-packages (from torch>=1.10.0->accelerate) (1.13.1)\n",
            "Requirement already satisfied: mpmath<1.4,>=1.1.0 in /usr/local/lib/python3.10/dist-packages (from sympy==1.13.1->torch>=1.10.0->accelerate) (1.3.0)\n",
            "Requirement already satisfied: MarkupSafe>=2.0 in /usr/local/lib/python3.10/dist-packages (from jinja2->torch>=1.10.0->accelerate) (3.0.2)\n",
            "Requirement already satisfied: charset-normalizer<4,>=2 in /usr/local/lib/python3.10/dist-packages (from requests->huggingface-hub>=0.21.0->accelerate) (3.4.0)\n",
            "Requirement already satisfied: idna<4,>=2.5 in /usr/local/lib/python3.10/dist-packages (from requests->huggingface-hub>=0.21.0->accelerate) (3.10)\n",
            "Requirement already satisfied: urllib3<3,>=1.21.1 in /usr/local/lib/python3.10/dist-packages (from requests->huggingface-hub>=0.21.0->accelerate) (2.2.3)\n",
            "Requirement already satisfied: certifi>=2017.4.17 in /usr/local/lib/python3.10/dist-packages (from requests->huggingface-hub>=0.21.0->accelerate) (2024.8.30)\n",
            "Requirement already satisfied: sentence-transformers in /usr/local/lib/python3.10/dist-packages (3.2.1)\n",
            "Requirement already satisfied: transformers<5.0.0,>=4.41.0 in /usr/local/lib/python3.10/dist-packages (from sentence-transformers) (4.44.2)\n",
            "Requirement already satisfied: tqdm in /usr/local/lib/python3.10/dist-packages (from sentence-transformers) (4.66.6)\n",
            "Requirement already satisfied: torch>=1.11.0 in /usr/local/lib/python3.10/dist-packages (from sentence-transformers) (2.5.0+cu121)\n",
            "Requirement already satisfied: scikit-learn in /usr/local/lib/python3.10/dist-packages (from sentence-transformers) (1.5.2)\n",
            "Requirement already satisfied: scipy in /usr/local/lib/python3.10/dist-packages (from sentence-transformers) (1.13.1)\n",
            "Requirement already satisfied: huggingface-hub>=0.20.0 in /usr/local/lib/python3.10/dist-packages (from sentence-transformers) (0.24.7)\n",
            "Requirement already satisfied: Pillow in /usr/local/lib/python3.10/dist-packages (from sentence-transformers) (10.4.0)\n",
            "Requirement already satisfied: filelock in /usr/local/lib/python3.10/dist-packages (from huggingface-hub>=0.20.0->sentence-transformers) (3.16.1)\n",
            "Requirement already satisfied: fsspec>=2023.5.0 in /usr/local/lib/python3.10/dist-packages (from huggingface-hub>=0.20.0->sentence-transformers) (2024.10.0)\n",
            "Requirement already satisfied: packaging>=20.9 in /usr/local/lib/python3.10/dist-packages (from huggingface-hub>=0.20.0->sentence-transformers) (24.1)\n",
            "Requirement already satisfied: pyyaml>=5.1 in /usr/local/lib/python3.10/dist-packages (from huggingface-hub>=0.20.0->sentence-transformers) (6.0.2)\n",
            "Requirement already satisfied: requests in /usr/local/lib/python3.10/dist-packages (from huggingface-hub>=0.20.0->sentence-transformers) (2.32.3)\n",
            "Requirement already satisfied: typing-extensions>=3.7.4.3 in /usr/local/lib/python3.10/dist-packages (from huggingface-hub>=0.20.0->sentence-transformers) (4.12.2)\n",
            "Requirement already satisfied: networkx in /usr/local/lib/python3.10/dist-packages (from torch>=1.11.0->sentence-transformers) (3.4.2)\n",
            "Requirement already satisfied: jinja2 in /usr/local/lib/python3.10/dist-packages (from torch>=1.11.0->sentence-transformers) (3.1.4)\n",
            "Requirement already satisfied: sympy==1.13.1 in /usr/local/lib/python3.10/dist-packages (from torch>=1.11.0->sentence-transformers) (1.13.1)\n",
            "Requirement already satisfied: mpmath<1.4,>=1.1.0 in /usr/local/lib/python3.10/dist-packages (from sympy==1.13.1->torch>=1.11.0->sentence-transformers) (1.3.0)\n",
            "Requirement already satisfied: numpy>=1.17 in /usr/local/lib/python3.10/dist-packages (from transformers<5.0.0,>=4.41.0->sentence-transformers) (1.26.4)\n",
            "Requirement already satisfied: regex!=2019.12.17 in /usr/local/lib/python3.10/dist-packages (from transformers<5.0.0,>=4.41.0->sentence-transformers) (2024.9.11)\n",
            "Requirement already satisfied: safetensors>=0.4.1 in /usr/local/lib/python3.10/dist-packages (from transformers<5.0.0,>=4.41.0->sentence-transformers) (0.4.5)\n",
            "Requirement already satisfied: tokenizers<0.20,>=0.19 in /usr/local/lib/python3.10/dist-packages (from transformers<5.0.0,>=4.41.0->sentence-transformers) (0.19.1)\n",
            "Requirement already satisfied: joblib>=1.2.0 in /usr/local/lib/python3.10/dist-packages (from scikit-learn->sentence-transformers) (1.4.2)\n",
            "Requirement already satisfied: threadpoolctl>=3.1.0 in /usr/local/lib/python3.10/dist-packages (from scikit-learn->sentence-transformers) (3.5.0)\n",
            "Requirement already satisfied: MarkupSafe>=2.0 in /usr/local/lib/python3.10/dist-packages (from jinja2->torch>=1.11.0->sentence-transformers) (3.0.2)\n",
            "Requirement already satisfied: charset-normalizer<4,>=2 in /usr/local/lib/python3.10/dist-packages (from requests->huggingface-hub>=0.20.0->sentence-transformers) (3.4.0)\n",
            "Requirement already satisfied: idna<4,>=2.5 in /usr/local/lib/python3.10/dist-packages (from requests->huggingface-hub>=0.20.0->sentence-transformers) (3.10)\n",
            "Requirement already satisfied: urllib3<3,>=1.21.1 in /usr/local/lib/python3.10/dist-packages (from requests->huggingface-hub>=0.20.0->sentence-transformers) (2.2.3)\n",
            "Requirement already satisfied: certifi>=2017.4.17 in /usr/local/lib/python3.10/dist-packages (from requests->huggingface-hub>=0.20.0->sentence-transformers) (2024.8.30)\n",
            "\u001b[31mERROR: Could not find a version that satisfies the requirement tranfromers (from versions: none)\u001b[0m\u001b[31m\n",
            "\u001b[0m\u001b[31mERROR: No matching distribution found for tranfromers\u001b[0m\u001b[31m\n",
            "\u001b[0mCollecting datasets\n",
            "  Downloading datasets-3.1.0-py3-none-any.whl.metadata (20 kB)\n",
            "Requirement already satisfied: filelock in /usr/local/lib/python3.10/dist-packages (from datasets) (3.16.1)\n",
            "Requirement already satisfied: numpy>=1.17 in /usr/local/lib/python3.10/dist-packages (from datasets) (1.26.4)\n",
            "Requirement already satisfied: pyarrow>=15.0.0 in /usr/local/lib/python3.10/dist-packages (from datasets) (17.0.0)\n",
            "Collecting dill<0.3.9,>=0.3.0 (from datasets)\n",
            "  Downloading dill-0.3.8-py3-none-any.whl.metadata (10 kB)\n",
            "Requirement already satisfied: pandas in /usr/local/lib/python3.10/dist-packages (from datasets) (2.2.2)\n",
            "Requirement already satisfied: requests>=2.32.2 in /usr/local/lib/python3.10/dist-packages (from datasets) (2.32.3)\n",
            "Requirement already satisfied: tqdm>=4.66.3 in /usr/local/lib/python3.10/dist-packages (from datasets) (4.66.6)\n",
            "Collecting xxhash (from datasets)\n",
            "  Downloading xxhash-3.5.0-cp310-cp310-manylinux_2_17_x86_64.manylinux2014_x86_64.whl.metadata (12 kB)\n",
            "Collecting multiprocess<0.70.17 (from datasets)\n",
            "  Downloading multiprocess-0.70.16-py310-none-any.whl.metadata (7.2 kB)\n",
            "Collecting fsspec<=2024.9.0,>=2023.1.0 (from fsspec[http]<=2024.9.0,>=2023.1.0->datasets)\n",
            "  Downloading fsspec-2024.9.0-py3-none-any.whl.metadata (11 kB)\n",
            "Requirement already satisfied: aiohttp in /usr/local/lib/python3.10/dist-packages (from datasets) (3.10.10)\n",
            "Requirement already satisfied: huggingface-hub>=0.23.0 in /usr/local/lib/python3.10/dist-packages (from datasets) (0.24.7)\n",
            "Requirement already satisfied: packaging in /usr/local/lib/python3.10/dist-packages (from datasets) (24.1)\n",
            "Requirement already satisfied: pyyaml>=5.1 in /usr/local/lib/python3.10/dist-packages (from datasets) (6.0.2)\n",
            "Requirement already satisfied: aiohappyeyeballs>=2.3.0 in /usr/local/lib/python3.10/dist-packages (from aiohttp->datasets) (2.4.3)\n",
            "Requirement already satisfied: aiosignal>=1.1.2 in /usr/local/lib/python3.10/dist-packages (from aiohttp->datasets) (1.3.1)\n",
            "Requirement already satisfied: attrs>=17.3.0 in /usr/local/lib/python3.10/dist-packages (from aiohttp->datasets) (24.2.0)\n",
            "Requirement already satisfied: frozenlist>=1.1.1 in /usr/local/lib/python3.10/dist-packages (from aiohttp->datasets) (1.5.0)\n",
            "Requirement already satisfied: multidict<7.0,>=4.5 in /usr/local/lib/python3.10/dist-packages (from aiohttp->datasets) (6.1.0)\n",
            "Requirement already satisfied: yarl<2.0,>=1.12.0 in /usr/local/lib/python3.10/dist-packages (from aiohttp->datasets) (1.17.0)\n",
            "Requirement already satisfied: async-timeout<5.0,>=4.0 in /usr/local/lib/python3.10/dist-packages (from aiohttp->datasets) (4.0.3)\n",
            "Requirement already satisfied: typing-extensions>=3.7.4.3 in /usr/local/lib/python3.10/dist-packages (from huggingface-hub>=0.23.0->datasets) (4.12.2)\n",
            "Requirement already satisfied: charset-normalizer<4,>=2 in /usr/local/lib/python3.10/dist-packages (from requests>=2.32.2->datasets) (3.4.0)\n",
            "Requirement already satisfied: idna<4,>=2.5 in /usr/local/lib/python3.10/dist-packages (from requests>=2.32.2->datasets) (3.10)\n",
            "Requirement already satisfied: urllib3<3,>=1.21.1 in /usr/local/lib/python3.10/dist-packages (from requests>=2.32.2->datasets) (2.2.3)\n",
            "Requirement already satisfied: certifi>=2017.4.17 in /usr/local/lib/python3.10/dist-packages (from requests>=2.32.2->datasets) (2024.8.30)\n",
            "Requirement already satisfied: python-dateutil>=2.8.2 in /usr/local/lib/python3.10/dist-packages (from pandas->datasets) (2.8.2)\n",
            "Requirement already satisfied: pytz>=2020.1 in /usr/local/lib/python3.10/dist-packages (from pandas->datasets) (2024.2)\n",
            "Requirement already satisfied: tzdata>=2022.7 in /usr/local/lib/python3.10/dist-packages (from pandas->datasets) (2024.2)\n",
            "Requirement already satisfied: six>=1.5 in /usr/local/lib/python3.10/dist-packages (from python-dateutil>=2.8.2->pandas->datasets) (1.16.0)\n",
            "Requirement already satisfied: propcache>=0.2.0 in /usr/local/lib/python3.10/dist-packages (from yarl<2.0,>=1.12.0->aiohttp->datasets) (0.2.0)\n",
            "Downloading datasets-3.1.0-py3-none-any.whl (480 kB)\n",
            "\u001b[2K   \u001b[90m━━━━━━━━━━━━━━━━━━━━━━━━━━━━━━━━━━━━━━━━\u001b[0m \u001b[32m480.6/480.6 kB\u001b[0m \u001b[31m25.8 MB/s\u001b[0m eta \u001b[36m0:00:00\u001b[0m\n",
            "\u001b[?25hDownloading dill-0.3.8-py3-none-any.whl (116 kB)\n",
            "\u001b[2K   \u001b[90m━━━━━━━━━━━━━━━━━━━━━━━━━━━━━━━━━━━━━━━━\u001b[0m \u001b[32m116.3/116.3 kB\u001b[0m \u001b[31m6.7 MB/s\u001b[0m eta \u001b[36m0:00:00\u001b[0m\n",
            "\u001b[?25hDownloading fsspec-2024.9.0-py3-none-any.whl (179 kB)\n",
            "\u001b[2K   \u001b[90m━━━━━━━━━━━━━━━━━━━━━━━━━━━━━━━━━━━━━━━━\u001b[0m \u001b[32m179.3/179.3 kB\u001b[0m \u001b[31m6.4 MB/s\u001b[0m eta \u001b[36m0:00:00\u001b[0m\n",
            "\u001b[?25hDownloading multiprocess-0.70.16-py310-none-any.whl (134 kB)\n",
            "\u001b[2K   \u001b[90m━━━━━━━━━━━━━━━━━━━━━━━━━━━━━━━━━━━━━━━━\u001b[0m \u001b[32m134.8/134.8 kB\u001b[0m \u001b[31m8.9 MB/s\u001b[0m eta \u001b[36m0:00:00\u001b[0m\n",
            "\u001b[?25hDownloading xxhash-3.5.0-cp310-cp310-manylinux_2_17_x86_64.manylinux2014_x86_64.whl (194 kB)\n",
            "\u001b[2K   \u001b[90m━━━━━━━━━━━━━━━━━━━━━━━━━━━━━━━━━━━━━━━━\u001b[0m \u001b[32m194.1/194.1 kB\u001b[0m \u001b[31m10.0 MB/s\u001b[0m eta \u001b[36m0:00:00\u001b[0m\n",
            "\u001b[?25hInstalling collected packages: xxhash, fsspec, dill, multiprocess, datasets\n",
            "  Attempting uninstall: fsspec\n",
            "    Found existing installation: fsspec 2024.10.0\n",
            "    Uninstalling fsspec-2024.10.0:\n",
            "      Successfully uninstalled fsspec-2024.10.0\n",
            "\u001b[31mERROR: pip's dependency resolver does not currently take into account all the packages that are installed. This behaviour is the source of the following dependency conflicts.\n",
            "gcsfs 2024.10.0 requires fsspec==2024.10.0, but you have fsspec 2024.9.0 which is incompatible.\u001b[0m\u001b[31m\n",
            "\u001b[0mSuccessfully installed datasets-3.1.0 dill-0.3.8 fsspec-2024.9.0 multiprocess-0.70.16 xxhash-3.5.0\n"
          ]
        }
      ],
      "source": [
        "%pip install  torch\n",
        "%pip install  transformers\n",
        "%pip install  accelerate\n",
        "%pip install  sentence-transformers\n",
        "%pip install  tranfromers\n",
        "%pip install  datasets"
      ]
    },
    {
      "cell_type": "code",
      "execution_count": null,
      "metadata": {
        "id": "UG-NBViNt71W"
      },
      "outputs": [],
      "source": [
        "import os\n",
        "import pandas as pd\n",
        "from datasets import load_dataset,Dataset, concatenate_datasets\n",
        "import numpy as np\n",
        "from time import process_time\n",
        "import math\n",
        "import random\n",
        "import joblib\n",
        "\n",
        "from sentence_transformers import SentenceTransformer,SentenceTransformerTrainingArguments\n",
        "from sentence_transformers.losses import BatchAllTripletLoss, BatchHardSoftMarginTripletLoss\n",
        "from sentence_transformers.trainer import SentenceTransformerTrainer\n",
        "from sentence_transformers.training_args import BatchSamplers\n",
        "from sentence_transformers.evaluation import TripletEvaluator\n",
        "\n",
        "import torch\n",
        "\n",
        "import torch.nn as nn\n",
        "import torch.nn.functional as F\n",
        "import torch.optim as optim"
      ]
    },
    {
      "cell_type": "markdown",
      "metadata": {
        "id": "fk_besBpgPvp"
      },
      "source": [
        "**Embedder part**"
      ]
    },
    {
      "cell_type": "code",
      "execution_count": null,
      "metadata": {
        "id": "-T4t6Hp3qTps"
      },
      "outputs": [],
      "source": [
        "model = SentenceTransformer(\"sentence-transformers/all-distilroberta-v1\")"
      ]
    },
    {
      "cell_type": "code",
      "execution_count": null,
      "metadata": {
        "colab": {
          "base_uri": "https://localhost:8080/",
          "height": 49,
          "referenced_widgets": [
            "82a35fa4f45a4504a496c38dd0c492f5",
            "cf1634eb32604c409279e681ff104fc5",
            "ea3699036c274934a78d7040dfe04465",
            "dd33cc71f13846c09b3b53ad748c85f1",
            "84458729c74e4c08b091da037761c682",
            "869380348eb845bd943c9ab44e12834f",
            "9c92eb23e5894e0092e05179b4c15356",
            "2d894ce051394a7cbff8780d263a76bf",
            "41102a3779af4d50a267262c7bb9f36c",
            "b43bac347c724b49958227d0258ecb40",
            "05b57f24d4d542b0a74f320bf14328f3"
          ]
        },
        "id": "AQ5d2RUz_K5e",
        "outputId": "c883debe-a37d-4752-bffe-39e2a06884c5"
      },
      "outputs": [
        {
          "output_type": "display_data",
          "data": {
            "text/plain": [
              "Generating train split: 0 examples [00:00, ? examples/s]"
            ],
            "application/vnd.jupyter.widget-view+json": {
              "version_major": 2,
              "version_minor": 0,
              "model_id": "82a35fa4f45a4504a496c38dd0c492f5"
            }
          },
          "metadata": {}
        }
      ],
      "source": [
        "dataset = load_dataset(\"csv\", data_files=\"./tcc_ceds_music.csv\")\n",
        "dataset = dataset.remove_columns([\"artist_name\", \"track_name\"])\n",
        "dataset = dataset.rename_columns({\"genre\":\"label\", \"lyrics\":\"sentence\"})"
      ]
    },
    {
      "cell_type": "code",
      "execution_count": null,
      "metadata": {
        "colab": {
          "base_uri": "https://localhost:8080/",
          "height": 49,
          "referenced_widgets": [
            "b589b36da6ab4ea1ab6bfa93f0a1b64d",
            "567b3eddb8cc4fcab662e9741d146e67",
            "fc7899161d344a109a9047921234d547",
            "f4efaeb77cc844bd8d32850712f14732",
            "8ff7f10ee60142e6b65037bad630d90e",
            "7c77d716c047425284512939c143c0d3",
            "7707b310dc144795b7f0654b33745922",
            "443099e4bce44753b38ad0803477de92",
            "643d5f672c894e72a4ba157da674bc0f",
            "702e41fff9e344b189677c59d46203c7",
            "32e435bfb899462da4f9598cedc02337"
          ]
        },
        "id": "9x3rM4Ia9kjn",
        "outputId": "25cba8bc-a644-45e8-eda0-fdd0417f2d93"
      },
      "outputs": [
        {
          "output_type": "display_data",
          "data": {
            "text/plain": [
              "Map:   0%|          | 0/28372 [00:00<?, ? examples/s]"
            ],
            "application/vnd.jupyter.widget-view+json": {
              "version_major": 2,
              "version_minor": 0,
              "model_id": "b589b36da6ab4ea1ab6bfa93f0a1b64d"
            }
          },
          "metadata": {}
        }
      ],
      "source": [
        "unique_genres = dataset['train'].unique('label')\n",
        "genre_to_index = {label: idx for idx, label in enumerate(unique_genres)}\n",
        "\n",
        "def label_to_index_func(data_set):\n",
        "    data_set['label'] = genre_to_index[data_set['label']]\n",
        "    return data_set\n",
        "\n",
        "dataset = dataset.map(label_to_index_func)"
      ]
    },
    {
      "cell_type": "code",
      "execution_count": null,
      "metadata": {
        "id": "tQbwzIR4gPvq"
      },
      "outputs": [],
      "source": [
        "# populate with permuted lyrics\n",
        "n_songs_to_permute = len(dataset['train'])\n",
        "n_permutations = 4\n",
        "\n",
        "permuted_lyrics = []\n",
        "lables_of_permuted = []\n",
        "\n",
        "for i in range(n_songs_to_permute):\n",
        "    song_item = dataset['train'][i]\n",
        "    label = song_item['label']\n",
        "    sentence = song_item['sentence'].split(' ')\n",
        "\n",
        "    for ii in range(n_permutations):\n",
        "        permuted_song = \" \".join(random.sample(sentence, len(sentence)))\n",
        "        permuted_lyrics.append(permuted_song)\n",
        "        lables_of_permuted.append(label)\n",
        "\n",
        "permuted_dataset = Dataset.from_dict({\"sentence\":permuted_lyrics, \"label\":lables_of_permuted})\n",
        "dataset['train'] = concatenate_datasets([dataset['train'], permuted_dataset])"
      ]
    },
    {
      "cell_type": "code",
      "execution_count": null,
      "metadata": {
        "id": "mKfvMC-ugPvq"
      },
      "outputs": [],
      "source": [
        "train_test_split = dataset['train'].train_test_split(test_size=0.05)"
      ]
    },
    {
      "cell_type": "code",
      "execution_count": null,
      "metadata": {
        "id": "GAFDHUIwKaMO",
        "outputId": "1d5e4fb3-6b3d-4d8c-8fbc-d07a46460cfc"
      },
      "outputs": [
        {
          "ename": "",
          "evalue": "",
          "output_type": "error",
          "traceback": [
            "\u001b[1;31mThe Kernel crashed while executing code in the current cell or a previous cell. \n",
            "\u001b[1;31mPlease review the code in the cell(s) to identify a possible cause of the failure. \n",
            "\u001b[1;31mClick <a href='https://aka.ms/vscodeJupyterKernelCrash'>here</a> for more info. \n",
            "\u001b[1;31mView Jupyter <a href='command:jupyter.viewOutput'>log</a> for further details."
          ]
        }
      ],
      "source": [
        "loss = BatchHardSoftMarginTripletLoss(model)\n",
        "training_args = SentenceTransformerTrainingArguments(\n",
        "    # Required parameter:\n",
        "    output_dir=\"./models/guesser_2\",\n",
        "    # Optional training parameters:\n",
        "    num_train_epochs=3,\n",
        "    per_device_train_batch_size=16,\n",
        "    per_device_eval_batch_size=16,\n",
        "    learning_rate=2e-5,\n",
        "    warmup_ratio=0.15,\n",
        "    adam_beta1=0.85,\n",
        "    adam_beta2=0.99,\n",
        "    weight_decay=0.01,\n",
        "    use_cpu=False,\n",
        "    fp16=True,  # Set to False if you get an error that your GPU can't run on FP16\n",
        "    bf16=False,  # Set to True if you have a GPU that supports BF16\n",
        "    batch_sampler=BatchSamplers.NO_DUPLICATES,  # MultipleNegativesRankingLoss benefits from no duplicate samples in a batch\n",
        "    # Optional tracking/debugging parameters:\n",
        "    save_steps=100,\n",
        "    save_total_limit=2,\n",
        "    logging_steps=50,\n",
        "    seed=135)\n",
        "\n",
        "    # eval_strategy=\"steps\",\n",
        "    # eval_steps=100,\n",
        "    # save_strategy=\"steps\","
      ]
    },
    {
      "cell_type": "code",
      "execution_count": null,
      "metadata": {
        "id": "8PB5MqoaEUro",
        "outputId": "cb442fca-134d-4eb4-b093-5f64e71bc6b2"
      },
      "outputs": [
        {
          "name": "stderr",
          "output_type": "stream",
          "text": [
            "  0%|          | 25/25269 [01:35<23:49:56,  3.40s/it]"
          ]
        }
      ],
      "source": [
        "train_set = train_test_split['train']\n",
        "trainer = SentenceTransformerTrainer(\n",
        "    model=model,\n",
        "    train_dataset=train_set,\n",
        "    loss=loss,\n",
        "    args=training_args\n",
        ")\n",
        "\n",
        "trainer.train()"
      ]
    },
    {
      "cell_type": "code",
      "execution_count": null,
      "metadata": {
        "id": "Q010H_zeW5VY"
      },
      "outputs": [],
      "source": [
        "model.save_pretrained(\"trained-embedder-permute\")"
      ]
    },
    {
      "cell_type": "code",
      "execution_count": null,
      "metadata": {
        "colab": {
          "base_uri": "https://localhost:8080/"
        },
        "id": "50s7MNwkFksg",
        "outputId": "8f1f3344-2d18-43c8-acf6-8e6dd2df4270"
      },
      "outputs": [
        {
          "name": "stdout",
          "output_type": "stream",
          "text": [
            "tar: ./trained-embedder: Cannot stat: No such file or directory\n",
            "tar: Exiting with failure status due to previous errors\n"
          ]
        }
      ],
      "source": [
        "! tar -czf trained_embedder.tar.gz ./trained-embedder-permute"
      ]
    },
    {
      "cell_type": "code",
      "execution_count": null,
      "metadata": {
        "colab": {
          "base_uri": "https://localhost:8080/"
        },
        "id": "3kEpO0tbW5VX",
        "outputId": "999cafe0-3f77-4bf1-cb27-d25c75c29187"
      },
      "outputs": [
        {
          "name": "stdout",
          "output_type": "stream",
          "text": [
            "Dataset({\n",
            "    features: ['anchor', 'positive', 'negative'],\n",
            "    num_rows: 175370\n",
            "})\n"
          ]
        }
      ],
      "source": [
        "#creates test dataset to evaluate the embedder\n",
        "\n",
        "from collections import defaultdict\n",
        "import random\n",
        "\n",
        "class_groups = defaultdict(list)\n",
        "for example in train_test_split['test']:\n",
        "    class_groups[example['label']].append(example['sentence'])\n",
        "\n",
        "triplets = []\n",
        "\n",
        "for label, sentences in class_groups.items():\n",
        "    for i in range(len(sentences)):\n",
        "        for j in range(i + 1, len(sentences)):\n",
        "            anchor = sentences[i]\n",
        "            positive = sentences[j]\n",
        "\n",
        "            negative_label = random.choice([lbl for lbl in class_groups.keys() if lbl != label])\n",
        "            negative = random.choice(class_groups[negative_label])\n",
        "\n",
        "            triplets.append({\n",
        "                'anchor': anchor,\n",
        "                'positive': positive,\n",
        "                'negative': negative\n",
        "            })\n",
        "\n",
        "triplet_test_dataset = Dataset.from_list(triplets)\n",
        "triplet_test_dataset = triplet_test_dataset.shuffle(seed=83)\n",
        "\n",
        "print(triplet_test_dataset)"
      ]
    },
    {
      "cell_type": "code",
      "execution_count": null,
      "metadata": {
        "colab": {
          "base_uri": "https://localhost:8080/"
        },
        "id": "jkS5NdAXW5VY",
        "outputId": "3e45083b-e3ff-43a0-b648-add8a56fefac"
      },
      "outputs": [
        {
          "name": "stdout",
          "output_type": "stream",
          "text": [
            "{'all-test_cosine_accuracy': 0.5246108228317272, 'all-test_dot_accuracy': 0.4753891771682728, 'all-test_manhattan_accuracy': 0.5225067001197469, 'all-test_euclidean_accuracy': 0.5246108228317272, 'all-test_max_accuracy': 0.5246108228317272}\n"
          ]
        }
      ],
      "source": [
        "test_evaluator = TripletEvaluator(\n",
        "    anchors=triplet_test_dataset[\"anchor\"],\n",
        "    positives=triplet_test_dataset[\"positive\"],\n",
        "    negatives=triplet_test_dataset[\"negative\"],\n",
        "    name=\"all-test\",\n",
        ")\n",
        "print(test_evaluator(model))"
      ]
    },
    {
      "cell_type": "code",
      "execution_count": null,
      "metadata": {
        "id": "X7AvVv3AvlW6"
      },
      "outputs": [],
      "source": [
        "# ! tar -xzf ./trained_embedder.tar.gz ./\n",
        "! tar -xzf ./trained_embedder_permute.tar.gz ./"
      ]
    },
    {
      "cell_type": "code",
      "execution_count": null,
      "metadata": {
        "id": "xYGDGiaP6HzM",
        "colab": {
          "base_uri": "https://localhost:8080/"
        },
        "outputId": "74dafc08-2c0e-4dc1-c2ad-845532f374cf"
      },
      "outputs": [
        {
          "output_type": "stream",
          "name": "stderr",
          "text": [
            "/usr/local/lib/python3.10/dist-packages/huggingface_hub/utils/_token.py:89: UserWarning: \n",
            "The secret `HF_TOKEN` does not exist in your Colab secrets.\n",
            "To authenticate with the Hugging Face Hub, create a token in your settings tab (https://huggingface.co/settings/tokens), set it as secret in your Google Colab and restart your session.\n",
            "You will be able to reuse this secret in all of your notebooks.\n",
            "Please note that authentication is recommended but still optional to access public models or datasets.\n",
            "  warnings.warn(\n"
          ]
        }
      ],
      "source": [
        "model = SentenceTransformer(\"trained-embedder\")"
      ]
    },
    {
      "cell_type": "code",
      "execution_count": null,
      "metadata": {
        "id": "Qma2ILplQAsr"
      },
      "outputs": [],
      "source": [
        "def get_lyrics_embedding(lyrics:str):\n",
        "  return model.encode([lyrics.lower()])\n",
        "\n",
        "embedding_size = model.get_sentence_embedding_dimension()"
      ]
    },
    {
      "cell_type": "markdown",
      "metadata": {
        "id": "Z_NpIF9PgPvs"
      },
      "source": [
        "**Estimator part**"
      ]
    },
    {
      "cell_type": "code",
      "execution_count": null,
      "metadata": {
        "colab": {
          "background_save": true
        },
        "id": "rVG7byPW26_k"
      },
      "outputs": [],
      "source": [
        "#creates a dataframe of all songs as embeddings -> genre as idx\n",
        "\n",
        "lyrics_embeddigs = []\n",
        "genres = []\n",
        "unique_genres = set()\n",
        "\n",
        "import string\n",
        "songs_and_lyrics = pd.read_csv('./tcc_ceds_music.csv')\n",
        "\n",
        "for idx in range(len(songs_and_lyrics)):\n",
        "  genre = songs_and_lyrics[\"genre\"][idx]\n",
        "  unique_genres.add(genre)\n",
        "\n",
        "  lyrics_as_bag_of_words_string = str(songs_and_lyrics[\"lyrics\"][idx])\n",
        "\n",
        "  embedding =  get_lyrics_embedding(lyrics_as_bag_of_words_string)[0]\n",
        "  lyrics_embeddigs.append(embedding)\n",
        "  genres.append(genre)\n",
        "\n",
        "embedding_set = pd.DataFrame({\"genres\":genres})\n",
        "embeddings_list = []\n",
        "\n",
        "for i in range(embedding_size):\n",
        "  dim_i = pd.Series([embedding[i] for embedding in lyrics_embeddigs])\n",
        "  embeddings_list.append(dim_i)\n",
        "\n",
        "embeddings_df = pd.concat(embeddings_list, axis=1)\n",
        "embedding_set = pd.concat([embeddings_df, embedding_set], axis=1)\n",
        "\n",
        "embedding_set['genres'] = embedding_set['genres'].apply(lambda genre: genre_to_index[genre])"
      ]
    },
    {
      "cell_type": "code",
      "execution_count": null,
      "metadata": {
        "colab": {
          "background_save": true
        },
        "id": "zFRKJwszev8_",
        "outputId": "74959662-45f7-4113-f3ad-6dd37b542a97"
      },
      "outputs": [
        {
          "data": {
            "text/plain": [
              "['embedding_set_of_all_songs.pkl']"
            ]
          },
          "execution_count": 9,
          "metadata": {},
          "output_type": "execute_result"
        }
      ],
      "source": [
        "joblib.dump(embedding_set, \"embedding_set_of_all_songs.pkl\")"
      ]
    },
    {
      "cell_type": "code",
      "execution_count": null,
      "metadata": {
        "id": "PJi4jq9DhbpG"
      },
      "outputs": [],
      "source": [
        "# embedding_set = joblib.load(\"embedding_set_of_all_songs.pkl\")\n",
        "embedding_set = joblib.load(\"embedding_set_of_all_songs_permute.pkl\")"
      ]
    },
    {
      "cell_type": "code",
      "execution_count": null,
      "metadata": {
        "id": "pEIE7rbAybpD"
      },
      "outputs": [],
      "source": [
        "batch_size = 6\n",
        "#transforms the training embedding data into torch-compliant format\n",
        "\n",
        "features = embedding_set.iloc[:, :-1].values\n",
        "labels = embedding_set.iloc[:, -1].values\n",
        "sparse_labels = []\n",
        "for genre_label in labels:\n",
        "  sparse_arr = [0 for i in range(len(unique_genres))]\n",
        "  sparse_arr[genre_label] = 1\n",
        "  sparse_labels.append(sparse_arr)\n",
        "\n",
        "features_tensor = torch.tensor(features, dtype=torch.float32)\n",
        "labels_tensor = torch.tensor(sparse_labels, dtype=torch.float32)\n",
        "\n",
        "dataset_train = torch.utils.data.TensorDataset(features_tensor, labels_tensor)\n",
        "\n",
        "train_data_loader = torch.utils.data.DataLoader(dataset_train, batch_size=batch_size, shuffle=True)\n",
        "\n",
        "#transforms the testing embedding data into torch-compliant format\n",
        "\n",
        "test_size = 8000\n",
        "rand_indices = np.random.randint(0, len(embedding_set), size=test_size)\n",
        "\n",
        "features = embedding_set.iloc[rand_indices, :-1].values\n",
        "labels = embedding_set.iloc[rand_indices, -1].values\n",
        "\n",
        "features_tensor = torch.tensor(features, dtype=torch.float32)\n",
        "labels_tensor = torch.tensor(labels, dtype=torch.int32)\n",
        "\n",
        "dataset_test = torch.utils.data.TensorDataset(features_tensor, labels_tensor)\n",
        "\n",
        "test_data_loader = torch.utils.data.DataLoader(dataset_test, batch_size=batch_size, shuffle=True)"
      ]
    },
    {
      "cell_type": "code",
      "execution_count": null,
      "metadata": {
        "id": "7YHVTHoO1TAs"
      },
      "outputs": [],
      "source": [
        "#the nn used for genre estimation\n",
        "\n",
        "class NeuralGuesser(nn.Module):\n",
        "    def __init__(self, embedding_size:int):\n",
        "        super().__init__()\n",
        "        # self.pool = nn.AvgPool1d(kernel_size=2, padding=0) #gives me embedding_size/2 inputs\n",
        "        self.pre_conv1 = nn.Conv1d(1,5,3,stride=1,padding=\"same\")\n",
        "        # self.pool = nn.AvgPool1d(2)\n",
        "        self.prelu_weights = nn.Parameter(torch.ones(5))\n",
        "\n",
        "        self.layer0 = nn.Linear(int(embedding_size*5), int(embedding_size/2))\n",
        "        self.layer1 = nn.Linear(int(embedding_size/2), int(embedding_size/3))\n",
        "        self.layer2 = nn.Linear(int(embedding_size/3), int(embedding_size/6))\n",
        "        self.layer3 = nn.Linear(int(embedding_size/6), int(embedding_size/12))\n",
        "\n",
        "        self.layer4 = nn.Linear(int(embedding_size/12), len(unique_genres))\n",
        "\n",
        "    def forward(self, x):\n",
        "        # x = F.relu(self.pool(x))\n",
        "        x = F.prelu(self.pre_conv1(x), self.prelu_weights)\n",
        "        x = torch.flatten(x,1)\n",
        "\n",
        "        x = F.silu(self.layer0(x))\n",
        "        x = F.relu(self.layer1(x))\n",
        "        x = F.relu(self.layer2(x))\n",
        "        x = F.relu(self.layer3(x))\n",
        "        x = self.layer4(x)\n",
        "\n",
        "        return x"
      ]
    },
    {
      "cell_type": "code",
      "execution_count": null,
      "metadata": {
        "colab": {
          "base_uri": "https://localhost:8080/"
        },
        "id": "CsIqJdF0AUCa",
        "outputId": "ad95dd3b-4efc-4bbb-d8b8-5548eae97395"
      },
      "outputs": [
        {
          "output_type": "stream",
          "name": "stdout",
          "text": [
            "[1,   500] average loss: 1.830\n",
            "[1,  1000] average loss: 1.839\n",
            "[1,  1500] average loss: 1.790\n",
            "[1,  2000] average loss: 1.768\n",
            "[1,  2500] average loss: 1.766\n",
            "[1,  3000] average loss: 1.754\n",
            "[1,  3500] average loss: 1.718\n",
            "[1,  4000] average loss: 1.727\n",
            "[1,  4500] average loss: 1.700\n",
            "[2,   500] average loss: 1.687\n",
            "[2,  1000] average loss: 1.669\n",
            "[2,  1500] average loss: 1.654\n",
            "[2,  2000] average loss: 1.678\n",
            "[2,  2500] average loss: 1.663\n",
            "[2,  3000] average loss: 1.693\n",
            "[2,  3500] average loss: 1.691\n",
            "[2,  4000] average loss: 1.680\n",
            "[2,  4500] average loss: 1.662\n",
            "[3,   500] average loss: 1.648\n",
            "[3,  1000] average loss: 1.640\n",
            "[3,  1500] average loss: 1.635\n",
            "[3,  2000] average loss: 1.643\n",
            "[3,  2500] average loss: 1.648\n",
            "[3,  3000] average loss: 1.633\n",
            "[3,  3500] average loss: 1.642\n",
            "[3,  4000] average loss: 1.628\n",
            "[3,  4500] average loss: 1.657\n"
          ]
        }
      ],
      "source": [
        "#training the nn\n",
        "\n",
        "guesser = NeuralGuesser(embedding_size)\n",
        "loss_alg = nn.CrossEntropyLoss()\n",
        "optimizer = torch.optim.Adam(guesser.parameters(), lr=0.001, betas=(0.9, 0.99))\n",
        "\n",
        "for epoch in range(3):\n",
        "\n",
        "    running_loss = 0.0\n",
        "\n",
        "    for i, data in enumerate(train_data_loader, 0):\n",
        "        inputs, labels = data\n",
        "        inputs = inputs[:,None,:] #adding a dimension to be able to feed it through convolution\n",
        "\n",
        "        optimizer.zero_grad()\n",
        "        outputs = guesser(inputs)\n",
        "        loss = loss_alg(outputs, labels)\n",
        "        loss.backward()\n",
        "        optimizer.step()\n",
        "\n",
        "        running_loss += loss.item()\n",
        "        if i % 500 == 499:\n",
        "            print(f'[{epoch + 1}, {i + 1:5d}] average loss: {running_loss / 500:.3f}')\n",
        "            running_loss = 0.0\n",
        "\n",
        "torch.save(guesser.state_dict(), \"./trained-nn.pth\")"
      ]
    },
    {
      "cell_type": "code",
      "execution_count": null,
      "metadata": {
        "colab": {
          "base_uri": "https://localhost:8080/"
        },
        "id": "satthA5pdnmB",
        "outputId": "972ec375-6b1e-4d83-8977-53f850c99a77"
      },
      "outputs": [
        {
          "output_type": "stream",
          "name": "stdout",
          "text": [
            "Accuracy for 8000 test lyrics: 34 %\n"
          ]
        }
      ],
      "source": [
        "correct = 0\n",
        "total = 0\n",
        "with torch.no_grad():\n",
        "    for data in test_data_loader:\n",
        "        inputs, labels = data\n",
        "        inputs = inputs[:,None,:] #adding a dimension to be able to feed it through convolution\n",
        "        outputs = guesser(inputs)\n",
        "\n",
        "        value, predicted_classes = torch.max(outputs.data, 1)\n",
        "\n",
        "        total += labels.size(0)\n",
        "        correct += (predicted_classes == labels).sum().item()\n",
        "\n",
        "print(f'Accuracy for 8000 test lyrics: {100 * correct // total} %')"
      ]
    },
    {
      "cell_type": "code",
      "execution_count": null,
      "metadata": {
        "colab": {
          "base_uri": "https://localhost:8080/"
        },
        "id": "8EHMrwu4PdXq",
        "outputId": "efc89be0-8a6a-4e68-b05e-ab18cfa203c1"
      },
      "outputs": [
        {
          "output_type": "stream",
          "name": "stdout",
          "text": [
            "Requirement already satisfied: nltk in /usr/local/lib/python3.10/dist-packages (3.8.1)\n",
            "Requirement already satisfied: click in /usr/local/lib/python3.10/dist-packages (from nltk) (8.1.7)\n",
            "Requirement already satisfied: joblib in /usr/local/lib/python3.10/dist-packages (from nltk) (1.4.2)\n",
            "Requirement already satisfied: regex>=2021.8.3 in /usr/local/lib/python3.10/dist-packages (from nltk) (2024.9.11)\n",
            "Requirement already satisfied: tqdm in /usr/local/lib/python3.10/dist-packages (from nltk) (4.66.6)\n"
          ]
        },
        {
          "output_type": "stream",
          "name": "stderr",
          "text": [
            "[nltk_data] Downloading package stopwords to /root/nltk_data...\n",
            "[nltk_data]   Unzipping corpora/stopwords.zip.\n",
            "[nltk_data] Downloading package punkt to /root/nltk_data...\n",
            "[nltk_data]   Unzipping tokenizers/punkt.zip.\n",
            "[nltk_data] Downloading package punkt_tab to /root/nltk_data...\n",
            "[nltk_data]   Unzipping tokenizers/punkt_tab.zip.\n",
            "[nltk_data] Downloading package tagsets to /root/nltk_data...\n",
            "[nltk_data]   Unzipping help/tagsets.zip.\n",
            "[nltk_data] Downloading package averaged_perceptron_tagger to\n",
            "[nltk_data]     /root/nltk_data...\n",
            "[nltk_data]   Unzipping taggers/averaged_perceptron_tagger.zip.\n",
            "[nltk_data] Downloading package wordnet to /root/nltk_data...\n"
          ]
        },
        {
          "output_type": "execute_result",
          "data": {
            "text/plain": [
              "True"
            ]
          },
          "metadata": {},
          "execution_count": 44
        }
      ],
      "source": [
        "%pip install nltk\n",
        "import nltk\n",
        "from nltk.corpus import stopwords\n",
        "from nltk.tokenize import word_tokenize\n",
        "from nltk.stem import WordNetLemmatizer as wnl\n",
        "import string\n",
        "\n",
        "nltk.download('stopwords')\n",
        "nltk.download('punkt')\n",
        "nltk.download('punkt_tab')\n",
        "nltk.download('tagsets')\n",
        "nltk.download('averaged_perceptron_tagger')\n",
        "nltk.download('wordnet')"
      ]
    },
    {
      "cell_type": "code",
      "execution_count": null,
      "metadata": {
        "id": "fGXn5FAiC7vR"
      },
      "outputs": [],
      "source": [
        "part_of_speech_mapper = {\n",
        "    'NN': 'n', 'NNS': 'n', 'NNP': 'n', 'NNPS': 'n',\n",
        "    'VB': 'v', 'VBD': 'v', 'VBG': 'v', 'VBN': 'v', 'VBP': 'v', 'VBZ': 'v',\n",
        "    'JJ': 'a', 'JJR': 'a', 'JJS': 'a',\n",
        "    'RB': 'r', 'RBR': 'r', 'RBS': 'r',\n",
        "    'PDT': 'a',\n",
        "    'WRB': 'r',\n",
        "    '$': None, \"''\": None, '(': None, ')': None, ',': None, '--': None, '.': None,\n",
        "    ':': None, 'CC': None, 'CD': None, 'DT': None, 'EX': None, 'FW': None, 'IN': None,\n",
        "    'LS': None, 'MD': None, 'POS': None, 'PRP': None, 'PRP$': None, 'RP': None,\n",
        "    'SYM': None, 'TO': None, 'UH': None, 'WDT': None, 'WP': None, 'WP$': None,\n",
        "    '``': None,\n",
        "}"
      ]
    },
    {
      "cell_type": "code",
      "execution_count": null,
      "metadata": {
        "id": "dgVk6T3Uah64"
      },
      "outputs": [],
      "source": [
        "stop_words = set(stopwords.words('english'))\n",
        "symbols = set([\",\",\".\",\"/\",\"#\",\"*\",\"(\",\")\",\"?\",\"+\",\"=\",\":\",\";\",\"%\",\"[\", \"]\"])\n",
        "song_specific = set([\"chorus\", \"repeat\", \"verse\", \"oh\", \"ooh\", \"ah\", \"aah\"])\n",
        "\n",
        "def check_if_not_to_be_removed(token:str):\n",
        "  return (not token.lower() in stop_words) and (not token.lower() in symbols) and (not token.lower() in song_specific) and (not any(char.isdigit() for char in token)) and (not \"'\" in token)\n",
        "\n",
        "def transform_lyrics(lyrics:str):\n",
        "  tokenized_lyrics = word_tokenize(lyrics)\n",
        "\n",
        "  tagged_lyrics = nltk.pos_tag(tokenized_lyrics)\n",
        "  lemmatized_lyrics = [wnl().lemmatize(word.lower(), pos=part_of_speech_mapper[assumed_pos]) for word,assumed_pos in tagged_lyrics if part_of_speech_mapper[assumed_pos] != None]\n",
        "  filtered_lyrics = [w.lower() for w in lemmatized_lyrics if check_if_not_to_be_removed(w)]\n",
        "\n",
        "  deduplicated_lyrics = \"\"\n",
        "  last_word = \"\"\n",
        "  for word in filtered_lyrics:\n",
        "    if word != last_word:\n",
        "      deduplicated_lyrics += f\"{word} \"\n",
        "      last_word = word\n",
        "\n",
        "  print(\"Tokenized lyrics:\", ' '.join(tokenized_lyrics))\n",
        "  print(\"Lemmatized lyrics:\", ' '.join(lemmatized_lyrics))\n",
        "  print(\"Transformed lyrics:\", deduplicated_lyrics)\n",
        "\n",
        "  return deduplicated_lyrics"
      ]
    },
    {
      "cell_type": "code",
      "execution_count": null,
      "metadata": {
        "id": "f8RyFbtXa7ya"
      },
      "outputs": [],
      "source": [
        "def estimate_genre(model, song_lyrics):\n",
        "  filtered_lyrics = transform_lyrics(song_lyrics)\n",
        "\n",
        "  embedding = get_lyrics_embedding(filtered_lyrics)\n",
        "  model_prompt = torch.tensor(embedding, dtype=torch.float32)[:,None,:]\n",
        "\n",
        "  prediction = model(model_prompt)\n",
        "\n",
        "  value, genre = torch.max(prediction, 1)\n",
        "\n",
        "  for key,item in genre_to_index.items():\n",
        "    if genre == item:\n",
        "      return key\n",
        "\n",
        "  return -1\n"
      ]
    },
    {
      "cell_type": "code",
      "execution_count": null,
      "metadata": {
        "id": "w0Bbh1lSJQQ7"
      },
      "outputs": [],
      "source": [
        "#the form I feed lyrics to the model affects the result"
      ]
    },
    {
      "cell_type": "code",
      "execution_count": null,
      "metadata": {
        "colab": {
          "base_uri": "https://localhost:8080/"
        },
        "id": "mN4g-Xe0bilE",
        "outputId": "ef5f18c7-0996-425e-84fd-05fd9a3a10c5"
      },
      "outputs": [
        {
          "output_type": "stream",
          "name": "stdout",
          "text": [
            "Tokenized lyrics: Ooh You can dance You can jive Having the time of your life Ooh , see that girl Watch that scene Digging the dancing queen Friday night and the lights are low Looking out for a place to go Where they play the right music Getting in the swing You come to look for a king Anybody could be that guy Night is young and the music 's high With a bit of rock music Everything is fine You 're in the mood for a dance And when you get the chance You are the dancing queen Young and sweet Only seventeen Dancing queen Feel the beat from the tambourine , oh yeah You can dance You can jive Having the time of your life Ooh , see that girl Watch that scene Digging the dancing queen You 're a teaser , you turn 'em on Leave 'em burning and then you 're gone Looking out for another Anyone will do You 're in the mood for a dance And when you get the chance You are the dancing queen Young and sweet Only seventeen Dancing queen Feel the beat from the tambourine , oh yeah You can dance You can jive Having the time of your life Ooh , see that girl Watch that scene Digging the dancing queen Digging the dancing queen\n",
            "Lemmatized lyrics: dance jive have time life ooh see girl watch scene dig dance queen friday night light be low look place go where play right music get swing come look king anybody be guy night be young music high bit rock music everything be fine 're mood dance when get chance be dance queen young sweet only seventeen dance queen feel beat tambourine dance jive have time life ooh see girl watch scene dig dance queen 're teaser turn leave 'em burning then 're go look anyone do 're mood dance when get chance be dance queen young sweet only seventeen dance queen feel beat tambourine dance jive have time life ooh see girl watch scene dig dance queen dig dancing queen\n",
            "Transformed lyrics: dance jive time life see girl watch scene dig dance queen friday night light low look place go play right music get swing come look king anybody guy night young music high bit rock music everything fine mood dance get chance dance queen young sweet seventeen dance queen feel beat tambourine dance jive time life see girl watch scene dig dance queen teaser turn leave burning go look anyone mood dance get chance dance queen young sweet seventeen dance queen feel beat tambourine dance jive time life see girl watch scene dig dance queen dig dancing queen \n",
            "pop\n"
          ]
        }
      ],
      "source": [
        "lyrics=\"Ooh You can dance You can jive Having the time of your life Ooh, see that girl Watch that scene Digging the dancing queen Friday night and the lights are low Looking out for a place to go Where they play the right music Getting in the swing You come to look for a king Anybody could be that guy Night is young and the music's high With a bit of rock music Everything is fine You're in the mood for a dance And when you get the chance You are the dancing queen Young and sweet Only seventeen Dancing queen Feel the beat from the tambourine, oh yeah You can dance You can jive Having the time of your life Ooh, see that girl Watch that scene Digging the dancing queen You're a teaser, you turn 'em on Leave 'em burning and then you're gone Looking out for another Anyone will do You're in the mood for a dance And when you get the chance You are the dancing queen Young and sweet Only seventeen Dancing queen Feel the beat from the tambourine, oh yeah You can dance You can jive Having the time of your life Ooh, see that girl Watch that scene Digging the dancing queen Digging the dancing queen\"\n",
        "print(estimate_genre(guesser, lyrics))"
      ]
    },
    {
      "cell_type": "code",
      "execution_count": null,
      "metadata": {
        "colab": {
          "base_uri": "https://localhost:8080/"
        },
        "id": "fNs-Uo6He_rE",
        "outputId": "5cb487c1-7ecb-4be4-9dd3-39b492b80545"
      },
      "outputs": [
        {
          "output_type": "stream",
          "name": "stdout",
          "text": [
            "Tokenized lyrics: Half past twelve And I 'm watchin ' the late show in my flat , all alone How I hate to spend the evening on my own Autumn winds Blowin ' outside the window as I look around the room And it makes me so depressed to see the gloom There 's not a soul out there No one to hear my prayer Gim me , gim me , gim me a man after midnight Wo n't somebody help me chase these shadows away ? Gim me , gim me , gim me a man after midnight Take me through the darkness to the break of the day Movie stars Find the end of the rainbow with a fortune to win It 's so different from the world I 'm living in Tired of TV I open the window and I gaze into the night But there 's nothing there to see , no one in sight There 's not a soul out there No one to hear my prayer Gim me , gim me , gim me a man after midnight Wo n't somebody help me chase these shadows away ? Gim me , gim me , gim me a man after midnight Take me through the darkness to the break of the day Gim me , gim me , gim me a man after midnight Gim me , gim me , gim me a man after midnight There 's not a soul out there No one to hear my prayer Gim me , gim me , gim me a man after midnight Wo n't somebody help me chase these shadows away ? Gim me , gim me , gim me a man after midnight Take me through the darkness to the break of the day Gim me , gim me , gim me a man after midnight Wo n't somebody help me chase these shadows away ? Gim me , gim me , gim me a man after midnight Take me through the darkness to the break of the day\n",
            "Lemmatized lyrics: half past twelve 'm watchin late show flat alone how hate spend evening own autumn wind blowin window look room make so depress see gloom 's not soul there one hear prayer gim gim gim man midnight wo n't somebody help chase shadow gim gim gim man midnight take darkness break day movie star end rainbow fortune win 's so different world 'm live tired tv open window gaze night 's nothing there see one sight 's not soul there one hear prayer gim gim gim man midnight wo n't somebody help chase shadow gim gim gim man midnight take darkness break day gim gim gim man midnight gim gim gim man midnight 's not soul there one hear prayer gim gim gim man midnight wo n't somebody help chase shadow gim gim gim man midnight take darkness break day gim gim gim man midnight wo n't somebody help chase shadow gim gim gim man midnight take darkness break day\n",
            "Transformed lyrics: half past twelve watchin late show flat alone hate spend evening autumn wind blowin window look room make depress see gloom soul one hear prayer gim man midnight wo somebody help chase shadow gim man midnight take darkness break day movie star end rainbow fortune win different world live tired tv open window gaze night nothing see one sight soul one hear prayer gim man midnight wo somebody help chase shadow gim man midnight take darkness break day gim man midnight gim man midnight soul one hear prayer gim man midnight wo somebody help chase shadow gim man midnight take darkness break day gim man midnight wo somebody help chase shadow gim man midnight take darkness break day \n",
            "pop\n"
          ]
        }
      ],
      "source": [
        "lyrics=\"Half past twelve And I'm watchin' the late show in my flat, all alone How I hate to spend the evening on my own Autumn winds Blowin' outside the window as I look around the room And it makes me so depressed to see the gloom There's not a soul out there No one to hear my prayer Gimme, gimme, gimme a man after midnight Won't somebody help me chase these shadows away? Gimme, gimme, gimme a man after midnight Take me through the darkness to the break of the day Movie stars Find the end of the rainbow with a fortune to win It's so different from the world I'm living in Tired of TV I open the window and I gaze into the night But there's nothing there to see, no one in sight There's not a soul out there No one to hear my prayer Gimme, gimme, gimme a man after midnight Won't somebody help me chase these shadows away? Gimme, gimme, gimme a man after midnight Take me through the darkness to the break of the day Gimme, gimme, gimme a man after midnight Gimme, gimme, gimme a man after midnight There's not a soul out there No one to hear my prayer Gimme, gimme, gimme a man after midnight Won't somebody help me chase these shadows away? Gimme, gimme, gimme a man after midnight Take me through the darkness to the break of the day Gimme, gimme, gimme a man after midnight Won't somebody help me chase these shadows away? Gimme, gimme, gimme a man after midnight Take me through the darkness to the break of the day\"\n",
        "print(estimate_genre(guesser, lyrics))"
      ]
    },
    {
      "cell_type": "code",
      "execution_count": null,
      "metadata": {
        "colab": {
          "base_uri": "https://localhost:8080/"
        },
        "id": "wydBqDgP8Ibu",
        "outputId": "bc89d1ec-137b-4137-f16e-9451425a22d0"
      },
      "outputs": [
        {
          "output_type": "stream",
          "name": "stdout",
          "text": [
            "Tokenized lyrics: You 'll take my life but I 'll take yours , too You 'll fire your musket but I 'll run you through So when you 're waiting for the next attack You 'd better stand , there 's no turning back The bugle sounds , the charge begins But on this battlefield , no one wins The smell of acrid smoke and horses ' breath As I plunge on into certain death Oh Oh The horse he sweats with fear , we break to run The mighty roar of the Russian guns And as we race towards the human wall The screams of pain as my comrades fall We hurdle bodies that lay on the ground And the Russians fire another round We get so near yet so far away We wo n't live to fight another day Oh Oh We get so close , near enough to fight When a Russian gets me in his sights He pulls the trigger and I feel the blow A burst of rounds take my horse below And as I lay there gazing at the sky My body 's numb and my throat is dry And as I lay forgotten and alone Without a tear I draw my parting groan Oh Oh\n",
            "Lemmatized lyrics: take life take yours too fire musket run so when 're wait next attack good stand 's turn bugle sound charge begin battlefield one win smell acrid smoke horse breath plunge certain death oh oh horse sweat fear break run mighty roar russian gun race human wall scream pain comrade fall hurdle body lay ground russian fire round get so near yet so far away n't live fight day oh oh get so close enough fight when russian get sight pull trigger feel blow burst round take horse below lay there gaze sky my body numb throat be dry lay forgotten alone tear draw parting groan oh oh\n",
            "Transformed lyrics: take life take fire musket run wait next attack good stand turn bugle sound charge begin battlefield one win smell acrid smoke horse breath plunge certain death horse sweat fear break run mighty roar russian gun race human wall scream pain comrade fall hurdle body lay ground russian fire round get near yet far away live fight day get close enough fight russian get sight pull trigger feel blow burst round take horse lay gaze sky body numb throat dry lay forgotten alone tear draw parting groan \n",
            "pop\n"
          ]
        }
      ],
      "source": [
        "lyrics=\"You'll take my life but I'll take yours, too You'll fire your musket but I'll run you through So when you're waiting for the next attack You'd better stand, there's no turning back The bugle sounds, the charge begins But on this battlefield, no one wins The smell of acrid smoke and horses' breath As I plunge on into certain death Oh Oh The horse he sweats with fear, we break to run The mighty roar of the Russian guns And as we race towards the human wall The screams of pain as my comrades fall We hurdle bodies that lay on the ground And the Russians fire another round We get so near yet so far away We won't live to fight another day Oh Oh We get so close, near enough to fight When a Russian gets me in his sights He pulls the trigger and I feel the blow A burst of rounds take my horse below And as I lay there gazing at the sky My body's numb and my throat is dry And as I lay forgotten and alone Without a tear I draw my parting groan Oh Oh\"\n",
        "print(estimate_genre(guesser, lyrics))"
      ]
    },
    {
      "cell_type": "code",
      "execution_count": null,
      "metadata": {
        "colab": {
          "base_uri": "https://localhost:8080/"
        },
        "id": "MBGhWbBvgPvt",
        "outputId": "5bcbb12d-3e1b-4a22-d419-3bf7a4c7ccb6"
      },
      "outputs": [
        {
          "output_type": "stream",
          "name": "stdout",
          "text": [
            "Tokenized lyrics: How I 've waited for you to come I 've been here all alone Now that you 've arrived Please stay awhile And I promise I wo n't keep you long I 'll keep you forever ( forever , forever , forever ) Graze the skin with my fingertips The brush of dead , cold flesh appease the means Provoking images , delicate features so smooth A pleasant fragrance in the light of the moon Dance with the dead in my dreams Listen to their hallowed screams The dead have taken my soul Temptation 's lost all control Simple smiles elude psychotic eyes Lose all mind control , rationale declines Empty eyes enslave the creations Of placid faces and lifeless pageants In the depths of a mind insane Fantasy and reality are the same Graze the skin with my fingertips The brush of dead , warm flesh pacifies the means Incised members ornaments on my being Adulating the skin before me Simple smiles elude psychotic eyes Lose all mind control , rationale declines Empty eyes enslave the creations Of placid faces and lifeless pageants Dance with the dead in my dreams ( Hello ? Hello , Mr . Gein ? ) Listen to their hallowed screams ( Mr . Gein ? ) The dead have taken my soul ( let me out of here , Mr. Gein ) Temptation 's lost all control ( Mr. Gein ? I do n't want to play anymore , Mr. Gein ) Dance with the dead in my dreams ( Mr. Gein , this is n't fun anymore ) Listen to their hallowed screams ( I do n't wan na play anymore , Mr. Gein , Mr . Gein ? ) The dead have taken my soul ( I want out of here , Mr. Gein ) Temptation 's lost all control ( let me out now )\n",
            "Lemmatized lyrics: how 've wait come 've be here alone now 've arrive please stay promise n't keep long keep forever forever forever forever graze skin fingertip brush dead cold flesh appease mean provoking image delicate feature so smooth a pleasant fragrance light moon dance dead dream listen hallow scream dead have take soul temptation lost control simple smile elude psychotic eye lose mind control rationale decline empty eye enslave creation placid face lifeless pageant depth mind insane fantasy reality be same graze skin fingertip brush dead warm flesh pacify mean incise member ornament be adulate skin simple smile elude psychotic eye lose mind control rationale decline empty eye enslave creation placid face lifeless pageant dance dead dream hello hello mr gein listen hallow scream mr gein dead have take soul let here mr. gein temptation lost control mr. gein do n't want play anymore mr. gein dance dead dream mr. gein be n't fun anymore listen hallow scream do n't wan na play anymore mr. gein mr gein dead have take soul want here mr. gein temptation lost control let now\n",
            "Transformed lyrics: wait come alone arrive please stay promise keep long keep forever graze skin fingertip brush dead cold flesh appease mean provoking image delicate feature smooth pleasant fragrance light moon dance dead dream listen hallow scream dead take soul temptation lost control simple smile elude psychotic eye lose mind control rationale decline empty eye enslave creation placid face lifeless pageant depth mind insane fantasy reality graze skin fingertip brush dead warm flesh pacify mean incise member ornament adulate skin simple smile elude psychotic eye lose mind control rationale decline empty eye enslave creation placid face lifeless pageant dance dead dream hello mr gein listen hallow scream mr gein dead take soul let mr. gein temptation lost control mr. gein want play anymore mr. gein dance dead dream mr. gein fun anymore listen hallow scream wan na play anymore mr. gein mr gein dead take soul want mr. gein temptation lost control let \n",
            "pop\n"
          ]
        }
      ],
      "source": [
        "lyrics=\"How I've waited for you to come I've been here all alone Now that you've arrived Please stay awhile And I promise I won't keep you long I'll keep you forever (forever, forever, forever) Graze the skin with my fingertips The brush of dead, cold flesh appease the means Provoking images, delicate features so smooth A pleasant fragrance in the light of the moon Dance with the dead in my dreams Listen to their hallowed screams The dead have taken my soul Temptation's lost all control Simple smiles elude psychotic eyes Lose all mind control, rationale declines Empty eyes enslave the creations Of placid faces and lifeless pageants In the depths of a mind insane Fantasy and reality are the same Graze the skin with my fingertips The brush of dead, warm flesh pacifies the means Incised members ornaments on my being Adulating the skin before me Simple smiles elude psychotic eyes Lose all mind control, rationale declines Empty eyes enslave the creations Of placid faces and lifeless pageants Dance with the dead in my dreams (Hello? Hello, Mr. Gein?) Listen to their hallowed screams (Mr. Gein?) The dead have taken my soul (let me out of here, Mr. Gein) Temptation's lost all control (Mr. Gein? I don't want to play anymore, Mr. Gein) Dance with the dead in my dreams (Mr. Gein, this isn't fun anymore) Listen to their hallowed screams (I don't wanna play anymore, Mr. Gein, Mr. Gein?) The dead have taken my soul (I want out of here, Mr. Gein) Temptation's lost all control (let me out now)\"\n",
        "print(estimate_genre(guesser, lyrics))"
      ]
    }
  ],
  "metadata": {
    "accelerator": "GPU",
    "colab": {
      "gpuType": "T4",
      "provenance": []
    },
    "kernelspec": {
      "display_name": ".venv",
      "language": "python",
      "name": "python3"
    },
    "language_info": {
      "codemirror_mode": {
        "name": "ipython",
        "version": 3
      },
      "file_extension": ".py",
      "mimetype": "text/x-python",
      "name": "python",
      "nbconvert_exporter": "python",
      "pygments_lexer": "ipython3",
      "version": "3.10.12"
    },
    "widgets": {
      "application/vnd.jupyter.widget-state+json": {
        "82a35fa4f45a4504a496c38dd0c492f5": {
          "model_module": "@jupyter-widgets/controls",
          "model_name": "HBoxModel",
          "model_module_version": "1.5.0",
          "state": {
            "_dom_classes": [],
            "_model_module": "@jupyter-widgets/controls",
            "_model_module_version": "1.5.0",
            "_model_name": "HBoxModel",
            "_view_count": null,
            "_view_module": "@jupyter-widgets/controls",
            "_view_module_version": "1.5.0",
            "_view_name": "HBoxView",
            "box_style": "",
            "children": [
              "IPY_MODEL_cf1634eb32604c409279e681ff104fc5",
              "IPY_MODEL_ea3699036c274934a78d7040dfe04465",
              "IPY_MODEL_dd33cc71f13846c09b3b53ad748c85f1"
            ],
            "layout": "IPY_MODEL_84458729c74e4c08b091da037761c682"
          }
        },
        "cf1634eb32604c409279e681ff104fc5": {
          "model_module": "@jupyter-widgets/controls",
          "model_name": "HTMLModel",
          "model_module_version": "1.5.0",
          "state": {
            "_dom_classes": [],
            "_model_module": "@jupyter-widgets/controls",
            "_model_module_version": "1.5.0",
            "_model_name": "HTMLModel",
            "_view_count": null,
            "_view_module": "@jupyter-widgets/controls",
            "_view_module_version": "1.5.0",
            "_view_name": "HTMLView",
            "description": "",
            "description_tooltip": null,
            "layout": "IPY_MODEL_869380348eb845bd943c9ab44e12834f",
            "placeholder": "​",
            "style": "IPY_MODEL_9c92eb23e5894e0092e05179b4c15356",
            "value": "Generating train split: "
          }
        },
        "ea3699036c274934a78d7040dfe04465": {
          "model_module": "@jupyter-widgets/controls",
          "model_name": "FloatProgressModel",
          "model_module_version": "1.5.0",
          "state": {
            "_dom_classes": [],
            "_model_module": "@jupyter-widgets/controls",
            "_model_module_version": "1.5.0",
            "_model_name": "FloatProgressModel",
            "_view_count": null,
            "_view_module": "@jupyter-widgets/controls",
            "_view_module_version": "1.5.0",
            "_view_name": "ProgressView",
            "bar_style": "success",
            "description": "",
            "description_tooltip": null,
            "layout": "IPY_MODEL_2d894ce051394a7cbff8780d263a76bf",
            "max": 1,
            "min": 0,
            "orientation": "horizontal",
            "style": "IPY_MODEL_41102a3779af4d50a267262c7bb9f36c",
            "value": 1
          }
        },
        "dd33cc71f13846c09b3b53ad748c85f1": {
          "model_module": "@jupyter-widgets/controls",
          "model_name": "HTMLModel",
          "model_module_version": "1.5.0",
          "state": {
            "_dom_classes": [],
            "_model_module": "@jupyter-widgets/controls",
            "_model_module_version": "1.5.0",
            "_model_name": "HTMLModel",
            "_view_count": null,
            "_view_module": "@jupyter-widgets/controls",
            "_view_module_version": "1.5.0",
            "_view_name": "HTMLView",
            "description": "",
            "description_tooltip": null,
            "layout": "IPY_MODEL_b43bac347c724b49958227d0258ecb40",
            "placeholder": "​",
            "style": "IPY_MODEL_05b57f24d4d542b0a74f320bf14328f3",
            "value": " 28372/0 [00:00&lt;00:00, 89689.11 examples/s]"
          }
        },
        "84458729c74e4c08b091da037761c682": {
          "model_module": "@jupyter-widgets/base",
          "model_name": "LayoutModel",
          "model_module_version": "1.2.0",
          "state": {
            "_model_module": "@jupyter-widgets/base",
            "_model_module_version": "1.2.0",
            "_model_name": "LayoutModel",
            "_view_count": null,
            "_view_module": "@jupyter-widgets/base",
            "_view_module_version": "1.2.0",
            "_view_name": "LayoutView",
            "align_content": null,
            "align_items": null,
            "align_self": null,
            "border": null,
            "bottom": null,
            "display": null,
            "flex": null,
            "flex_flow": null,
            "grid_area": null,
            "grid_auto_columns": null,
            "grid_auto_flow": null,
            "grid_auto_rows": null,
            "grid_column": null,
            "grid_gap": null,
            "grid_row": null,
            "grid_template_areas": null,
            "grid_template_columns": null,
            "grid_template_rows": null,
            "height": null,
            "justify_content": null,
            "justify_items": null,
            "left": null,
            "margin": null,
            "max_height": null,
            "max_width": null,
            "min_height": null,
            "min_width": null,
            "object_fit": null,
            "object_position": null,
            "order": null,
            "overflow": null,
            "overflow_x": null,
            "overflow_y": null,
            "padding": null,
            "right": null,
            "top": null,
            "visibility": null,
            "width": null
          }
        },
        "869380348eb845bd943c9ab44e12834f": {
          "model_module": "@jupyter-widgets/base",
          "model_name": "LayoutModel",
          "model_module_version": "1.2.0",
          "state": {
            "_model_module": "@jupyter-widgets/base",
            "_model_module_version": "1.2.0",
            "_model_name": "LayoutModel",
            "_view_count": null,
            "_view_module": "@jupyter-widgets/base",
            "_view_module_version": "1.2.0",
            "_view_name": "LayoutView",
            "align_content": null,
            "align_items": null,
            "align_self": null,
            "border": null,
            "bottom": null,
            "display": null,
            "flex": null,
            "flex_flow": null,
            "grid_area": null,
            "grid_auto_columns": null,
            "grid_auto_flow": null,
            "grid_auto_rows": null,
            "grid_column": null,
            "grid_gap": null,
            "grid_row": null,
            "grid_template_areas": null,
            "grid_template_columns": null,
            "grid_template_rows": null,
            "height": null,
            "justify_content": null,
            "justify_items": null,
            "left": null,
            "margin": null,
            "max_height": null,
            "max_width": null,
            "min_height": null,
            "min_width": null,
            "object_fit": null,
            "object_position": null,
            "order": null,
            "overflow": null,
            "overflow_x": null,
            "overflow_y": null,
            "padding": null,
            "right": null,
            "top": null,
            "visibility": null,
            "width": null
          }
        },
        "9c92eb23e5894e0092e05179b4c15356": {
          "model_module": "@jupyter-widgets/controls",
          "model_name": "DescriptionStyleModel",
          "model_module_version": "1.5.0",
          "state": {
            "_model_module": "@jupyter-widgets/controls",
            "_model_module_version": "1.5.0",
            "_model_name": "DescriptionStyleModel",
            "_view_count": null,
            "_view_module": "@jupyter-widgets/base",
            "_view_module_version": "1.2.0",
            "_view_name": "StyleView",
            "description_width": ""
          }
        },
        "2d894ce051394a7cbff8780d263a76bf": {
          "model_module": "@jupyter-widgets/base",
          "model_name": "LayoutModel",
          "model_module_version": "1.2.0",
          "state": {
            "_model_module": "@jupyter-widgets/base",
            "_model_module_version": "1.2.0",
            "_model_name": "LayoutModel",
            "_view_count": null,
            "_view_module": "@jupyter-widgets/base",
            "_view_module_version": "1.2.0",
            "_view_name": "LayoutView",
            "align_content": null,
            "align_items": null,
            "align_self": null,
            "border": null,
            "bottom": null,
            "display": null,
            "flex": null,
            "flex_flow": null,
            "grid_area": null,
            "grid_auto_columns": null,
            "grid_auto_flow": null,
            "grid_auto_rows": null,
            "grid_column": null,
            "grid_gap": null,
            "grid_row": null,
            "grid_template_areas": null,
            "grid_template_columns": null,
            "grid_template_rows": null,
            "height": null,
            "justify_content": null,
            "justify_items": null,
            "left": null,
            "margin": null,
            "max_height": null,
            "max_width": null,
            "min_height": null,
            "min_width": null,
            "object_fit": null,
            "object_position": null,
            "order": null,
            "overflow": null,
            "overflow_x": null,
            "overflow_y": null,
            "padding": null,
            "right": null,
            "top": null,
            "visibility": null,
            "width": "20px"
          }
        },
        "41102a3779af4d50a267262c7bb9f36c": {
          "model_module": "@jupyter-widgets/controls",
          "model_name": "ProgressStyleModel",
          "model_module_version": "1.5.0",
          "state": {
            "_model_module": "@jupyter-widgets/controls",
            "_model_module_version": "1.5.0",
            "_model_name": "ProgressStyleModel",
            "_view_count": null,
            "_view_module": "@jupyter-widgets/base",
            "_view_module_version": "1.2.0",
            "_view_name": "StyleView",
            "bar_color": null,
            "description_width": ""
          }
        },
        "b43bac347c724b49958227d0258ecb40": {
          "model_module": "@jupyter-widgets/base",
          "model_name": "LayoutModel",
          "model_module_version": "1.2.0",
          "state": {
            "_model_module": "@jupyter-widgets/base",
            "_model_module_version": "1.2.0",
            "_model_name": "LayoutModel",
            "_view_count": null,
            "_view_module": "@jupyter-widgets/base",
            "_view_module_version": "1.2.0",
            "_view_name": "LayoutView",
            "align_content": null,
            "align_items": null,
            "align_self": null,
            "border": null,
            "bottom": null,
            "display": null,
            "flex": null,
            "flex_flow": null,
            "grid_area": null,
            "grid_auto_columns": null,
            "grid_auto_flow": null,
            "grid_auto_rows": null,
            "grid_column": null,
            "grid_gap": null,
            "grid_row": null,
            "grid_template_areas": null,
            "grid_template_columns": null,
            "grid_template_rows": null,
            "height": null,
            "justify_content": null,
            "justify_items": null,
            "left": null,
            "margin": null,
            "max_height": null,
            "max_width": null,
            "min_height": null,
            "min_width": null,
            "object_fit": null,
            "object_position": null,
            "order": null,
            "overflow": null,
            "overflow_x": null,
            "overflow_y": null,
            "padding": null,
            "right": null,
            "top": null,
            "visibility": null,
            "width": null
          }
        },
        "05b57f24d4d542b0a74f320bf14328f3": {
          "model_module": "@jupyter-widgets/controls",
          "model_name": "DescriptionStyleModel",
          "model_module_version": "1.5.0",
          "state": {
            "_model_module": "@jupyter-widgets/controls",
            "_model_module_version": "1.5.0",
            "_model_name": "DescriptionStyleModel",
            "_view_count": null,
            "_view_module": "@jupyter-widgets/base",
            "_view_module_version": "1.2.0",
            "_view_name": "StyleView",
            "description_width": ""
          }
        },
        "b589b36da6ab4ea1ab6bfa93f0a1b64d": {
          "model_module": "@jupyter-widgets/controls",
          "model_name": "HBoxModel",
          "model_module_version": "1.5.0",
          "state": {
            "_dom_classes": [],
            "_model_module": "@jupyter-widgets/controls",
            "_model_module_version": "1.5.0",
            "_model_name": "HBoxModel",
            "_view_count": null,
            "_view_module": "@jupyter-widgets/controls",
            "_view_module_version": "1.5.0",
            "_view_name": "HBoxView",
            "box_style": "",
            "children": [
              "IPY_MODEL_567b3eddb8cc4fcab662e9741d146e67",
              "IPY_MODEL_fc7899161d344a109a9047921234d547",
              "IPY_MODEL_f4efaeb77cc844bd8d32850712f14732"
            ],
            "layout": "IPY_MODEL_8ff7f10ee60142e6b65037bad630d90e"
          }
        },
        "567b3eddb8cc4fcab662e9741d146e67": {
          "model_module": "@jupyter-widgets/controls",
          "model_name": "HTMLModel",
          "model_module_version": "1.5.0",
          "state": {
            "_dom_classes": [],
            "_model_module": "@jupyter-widgets/controls",
            "_model_module_version": "1.5.0",
            "_model_name": "HTMLModel",
            "_view_count": null,
            "_view_module": "@jupyter-widgets/controls",
            "_view_module_version": "1.5.0",
            "_view_name": "HTMLView",
            "description": "",
            "description_tooltip": null,
            "layout": "IPY_MODEL_7c77d716c047425284512939c143c0d3",
            "placeholder": "​",
            "style": "IPY_MODEL_7707b310dc144795b7f0654b33745922",
            "value": "Map: 100%"
          }
        },
        "fc7899161d344a109a9047921234d547": {
          "model_module": "@jupyter-widgets/controls",
          "model_name": "FloatProgressModel",
          "model_module_version": "1.5.0",
          "state": {
            "_dom_classes": [],
            "_model_module": "@jupyter-widgets/controls",
            "_model_module_version": "1.5.0",
            "_model_name": "FloatProgressModel",
            "_view_count": null,
            "_view_module": "@jupyter-widgets/controls",
            "_view_module_version": "1.5.0",
            "_view_name": "ProgressView",
            "bar_style": "success",
            "description": "",
            "description_tooltip": null,
            "layout": "IPY_MODEL_443099e4bce44753b38ad0803477de92",
            "max": 28372,
            "min": 0,
            "orientation": "horizontal",
            "style": "IPY_MODEL_643d5f672c894e72a4ba157da674bc0f",
            "value": 28372
          }
        },
        "f4efaeb77cc844bd8d32850712f14732": {
          "model_module": "@jupyter-widgets/controls",
          "model_name": "HTMLModel",
          "model_module_version": "1.5.0",
          "state": {
            "_dom_classes": [],
            "_model_module": "@jupyter-widgets/controls",
            "_model_module_version": "1.5.0",
            "_model_name": "HTMLModel",
            "_view_count": null,
            "_view_module": "@jupyter-widgets/controls",
            "_view_module_version": "1.5.0",
            "_view_name": "HTMLView",
            "description": "",
            "description_tooltip": null,
            "layout": "IPY_MODEL_702e41fff9e344b189677c59d46203c7",
            "placeholder": "​",
            "style": "IPY_MODEL_32e435bfb899462da4f9598cedc02337",
            "value": " 28372/28372 [00:01&lt;00:00, 14939.55 examples/s]"
          }
        },
        "8ff7f10ee60142e6b65037bad630d90e": {
          "model_module": "@jupyter-widgets/base",
          "model_name": "LayoutModel",
          "model_module_version": "1.2.0",
          "state": {
            "_model_module": "@jupyter-widgets/base",
            "_model_module_version": "1.2.0",
            "_model_name": "LayoutModel",
            "_view_count": null,
            "_view_module": "@jupyter-widgets/base",
            "_view_module_version": "1.2.0",
            "_view_name": "LayoutView",
            "align_content": null,
            "align_items": null,
            "align_self": null,
            "border": null,
            "bottom": null,
            "display": null,
            "flex": null,
            "flex_flow": null,
            "grid_area": null,
            "grid_auto_columns": null,
            "grid_auto_flow": null,
            "grid_auto_rows": null,
            "grid_column": null,
            "grid_gap": null,
            "grid_row": null,
            "grid_template_areas": null,
            "grid_template_columns": null,
            "grid_template_rows": null,
            "height": null,
            "justify_content": null,
            "justify_items": null,
            "left": null,
            "margin": null,
            "max_height": null,
            "max_width": null,
            "min_height": null,
            "min_width": null,
            "object_fit": null,
            "object_position": null,
            "order": null,
            "overflow": null,
            "overflow_x": null,
            "overflow_y": null,
            "padding": null,
            "right": null,
            "top": null,
            "visibility": null,
            "width": null
          }
        },
        "7c77d716c047425284512939c143c0d3": {
          "model_module": "@jupyter-widgets/base",
          "model_name": "LayoutModel",
          "model_module_version": "1.2.0",
          "state": {
            "_model_module": "@jupyter-widgets/base",
            "_model_module_version": "1.2.0",
            "_model_name": "LayoutModel",
            "_view_count": null,
            "_view_module": "@jupyter-widgets/base",
            "_view_module_version": "1.2.0",
            "_view_name": "LayoutView",
            "align_content": null,
            "align_items": null,
            "align_self": null,
            "border": null,
            "bottom": null,
            "display": null,
            "flex": null,
            "flex_flow": null,
            "grid_area": null,
            "grid_auto_columns": null,
            "grid_auto_flow": null,
            "grid_auto_rows": null,
            "grid_column": null,
            "grid_gap": null,
            "grid_row": null,
            "grid_template_areas": null,
            "grid_template_columns": null,
            "grid_template_rows": null,
            "height": null,
            "justify_content": null,
            "justify_items": null,
            "left": null,
            "margin": null,
            "max_height": null,
            "max_width": null,
            "min_height": null,
            "min_width": null,
            "object_fit": null,
            "object_position": null,
            "order": null,
            "overflow": null,
            "overflow_x": null,
            "overflow_y": null,
            "padding": null,
            "right": null,
            "top": null,
            "visibility": null,
            "width": null
          }
        },
        "7707b310dc144795b7f0654b33745922": {
          "model_module": "@jupyter-widgets/controls",
          "model_name": "DescriptionStyleModel",
          "model_module_version": "1.5.0",
          "state": {
            "_model_module": "@jupyter-widgets/controls",
            "_model_module_version": "1.5.0",
            "_model_name": "DescriptionStyleModel",
            "_view_count": null,
            "_view_module": "@jupyter-widgets/base",
            "_view_module_version": "1.2.0",
            "_view_name": "StyleView",
            "description_width": ""
          }
        },
        "443099e4bce44753b38ad0803477de92": {
          "model_module": "@jupyter-widgets/base",
          "model_name": "LayoutModel",
          "model_module_version": "1.2.0",
          "state": {
            "_model_module": "@jupyter-widgets/base",
            "_model_module_version": "1.2.0",
            "_model_name": "LayoutModel",
            "_view_count": null,
            "_view_module": "@jupyter-widgets/base",
            "_view_module_version": "1.2.0",
            "_view_name": "LayoutView",
            "align_content": null,
            "align_items": null,
            "align_self": null,
            "border": null,
            "bottom": null,
            "display": null,
            "flex": null,
            "flex_flow": null,
            "grid_area": null,
            "grid_auto_columns": null,
            "grid_auto_flow": null,
            "grid_auto_rows": null,
            "grid_column": null,
            "grid_gap": null,
            "grid_row": null,
            "grid_template_areas": null,
            "grid_template_columns": null,
            "grid_template_rows": null,
            "height": null,
            "justify_content": null,
            "justify_items": null,
            "left": null,
            "margin": null,
            "max_height": null,
            "max_width": null,
            "min_height": null,
            "min_width": null,
            "object_fit": null,
            "object_position": null,
            "order": null,
            "overflow": null,
            "overflow_x": null,
            "overflow_y": null,
            "padding": null,
            "right": null,
            "top": null,
            "visibility": null,
            "width": null
          }
        },
        "643d5f672c894e72a4ba157da674bc0f": {
          "model_module": "@jupyter-widgets/controls",
          "model_name": "ProgressStyleModel",
          "model_module_version": "1.5.0",
          "state": {
            "_model_module": "@jupyter-widgets/controls",
            "_model_module_version": "1.5.0",
            "_model_name": "ProgressStyleModel",
            "_view_count": null,
            "_view_module": "@jupyter-widgets/base",
            "_view_module_version": "1.2.0",
            "_view_name": "StyleView",
            "bar_color": null,
            "description_width": ""
          }
        },
        "702e41fff9e344b189677c59d46203c7": {
          "model_module": "@jupyter-widgets/base",
          "model_name": "LayoutModel",
          "model_module_version": "1.2.0",
          "state": {
            "_model_module": "@jupyter-widgets/base",
            "_model_module_version": "1.2.0",
            "_model_name": "LayoutModel",
            "_view_count": null,
            "_view_module": "@jupyter-widgets/base",
            "_view_module_version": "1.2.0",
            "_view_name": "LayoutView",
            "align_content": null,
            "align_items": null,
            "align_self": null,
            "border": null,
            "bottom": null,
            "display": null,
            "flex": null,
            "flex_flow": null,
            "grid_area": null,
            "grid_auto_columns": null,
            "grid_auto_flow": null,
            "grid_auto_rows": null,
            "grid_column": null,
            "grid_gap": null,
            "grid_row": null,
            "grid_template_areas": null,
            "grid_template_columns": null,
            "grid_template_rows": null,
            "height": null,
            "justify_content": null,
            "justify_items": null,
            "left": null,
            "margin": null,
            "max_height": null,
            "max_width": null,
            "min_height": null,
            "min_width": null,
            "object_fit": null,
            "object_position": null,
            "order": null,
            "overflow": null,
            "overflow_x": null,
            "overflow_y": null,
            "padding": null,
            "right": null,
            "top": null,
            "visibility": null,
            "width": null
          }
        },
        "32e435bfb899462da4f9598cedc02337": {
          "model_module": "@jupyter-widgets/controls",
          "model_name": "DescriptionStyleModel",
          "model_module_version": "1.5.0",
          "state": {
            "_model_module": "@jupyter-widgets/controls",
            "_model_module_version": "1.5.0",
            "_model_name": "DescriptionStyleModel",
            "_view_count": null,
            "_view_module": "@jupyter-widgets/base",
            "_view_module_version": "1.2.0",
            "_view_name": "StyleView",
            "description_width": ""
          }
        }
      }
    }
  },
  "nbformat": 4,
  "nbformat_minor": 0
}